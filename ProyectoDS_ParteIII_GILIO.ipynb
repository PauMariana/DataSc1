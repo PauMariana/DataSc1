{
  "nbformat": 4,
  "nbformat_minor": 0,
  "metadata": {
    "colab": {
      "provenance": [],
      "mount_file_id": "1S48EU-i30CbFpoMsAFLLzXftb0C8m8kZ",
      "authorship_tag": "ABX9TyOPMxV6Bw5S5eA9Lr5ljkVG",
      "include_colab_link": true
    },
    "kernelspec": {
      "name": "python3",
      "display_name": "Python 3"
    },
    "language_info": {
      "name": "python"
    }
  },
  "cells": [
    {
      "cell_type": "markdown",
      "metadata": {
        "id": "view-in-github",
        "colab_type": "text"
      },
      "source": [
        "<a href=\"https://colab.research.google.com/github/PauMariana/DataSc1/blob/main/ProyectoDS_ParteIII_GILIO.ipynb\" target=\"_parent\"><img src=\"https://colab.research.google.com/assets/colab-badge.svg\" alt=\"Open In Colab\"/></a>"
      ]
    },
    {
      "cell_type": "markdown",
      "source": [
        "# **Predicción de muertes en aerolineas de Brasil**"
      ],
      "metadata": {
        "id": "KdF6Cfnqx71E"
      }
    },
    {
      "cell_type": "markdown",
      "source": [
        "## 01- Introducción"
      ],
      "metadata": {
        "id": "daDOl75I976K"
      }
    },
    {
      "cell_type": "markdown",
      "source": [
        " *En este trabajo es analizada la seguridad de las aerolineas de Brasil debido a que la seguridad es una preocupación global y que debe estar en constante mejora, donde la predicción y prevención de accidentes es fundamental para reducir la pérdida de vidas humanas.*\n",
        "\n",
        "*En este contexto, el análisis de datos históricos y la predicción de eventos futuros se han convertido en herramientas esenciales para mejorar las medidas de seguridad.*\n",
        "\n",
        "*El presente trabajo se centra en la predicción de muertes en aerolíneas brasileñas, utilizando técnicas avanzadas de análisis de datos y aprendizaje automático.*\n",
        " *El objetivo principal es desarrollar un modelo predictivo que permita identificar factores de riesgo y predecir la ocurrencia de accidentes con el fin de implementar estrategias proactivas para la mitigación de riesgos.*\n",
        "*Para lograr este objetivo se analizarán datos históricos de accidentes aéreos, información sobre las aerolíneas, condiciones y mantenimiento de aeronaves, junto con algunos otros factores relevantes.*\n",
        "\n",
        "\n",
        "---\n",
        "\n",
        "**El objetivo del análisis fue, a partir de la recopilación de los datos, poder entender los patrones que se manifestaban. Se observó que existian faltantes en los años en que la aeronave fue fabricada, lo cual es importante para determinar si es uno de los factores del accidente.**\n",
        "\n",
        " **También se observó que hubo dos accidentes con más de diez fatalidades, en el cual una de las aeronaves quedo destruida y la otra con daño substancial, es decir, que incluyen arreglos importantes o componentes afectados. Así mismo, las fatalidades se dan en mayor porcentaje en aeronaves bimotor.**\n",
        "\n",
        " **Otro punto a destacar son los factores por los cuales ocurren los accidentes, quedando en primer lugar los factores operaciones y en segundo lugar los factores humanos. Donde se entiende por factor operacional el desempeño del ser humano, ya sea aplicación de comandos, uso de drogas, planeamiento de vuelo, etc. Y factor humano como aspecto psicológico, ya sea síntomas médicos, actitud, perspectiva, memoria, proceso de decisión, etc.**\n",
        "\n",
        "**Posteriormente, las visualizaciones revelaron que ocurrió un gran accidente en 2010 y a partir del 2017 se dieron en mayor cantidad accidentes, en cuyo caso las investigaciones sobre lo que ocurrió siguen aún activas.\n",
        "También se pudo apreciar que entre el año 2010 y 2021 ocurrieron incidentes y su investigación fue declarada como finalizada.\n",
        "Y por último, las investigaciones desconocidas revelaron que entre el año 2011 y 2015 ocurrieron mayormente accidentes, dejando en 2018 un incidente grave con un estado de investigación sin resolver.**\n",
        "\n",
        "---\n",
        "\n",
        "\n",
        "\n",
        "Este archivo fue extraído desde Github, el cual contiene un dataset base y los demás son complementarios a este mismo.\n",
        "\n",
        "Así mismo, los datasets complementarios contienen variables significativas para este análisis.\n",
        "El dataset base cuenta con 22 columnas y 6188 registros.\n",
        "\n",
        "*Algunas de las variables destacadas son:*\n",
        "\n",
        "*   Tipo de motor\n",
        "*   Nivel de daño de la aeronave\n",
        "* Fatalidades\n",
        "* Año en que ocurrió el accidente\n",
        "* Tipo de accidente\n",
        "* Factor condicionante para el error cometido\n",
        "* Estado de la investigación\n",
        "\n",
        "LINK: https://github.com/davidgundd/Python_Air_Accidents/blob/437e175b57525bc420b0df4cdcaeb9cc10ce30d9/aeronave.xlsx\n",
        "\n",
        "\n"
      ],
      "metadata": {
        "id": "EqPD9izAzOoJ"
      }
    },
    {
      "cell_type": "markdown",
      "source": [
        "##02- Objetivo"
      ],
      "metadata": {
        "id": "BiIpMAHd-0xa"
      }
    },
    {
      "cell_type": "markdown",
      "source": [
        "\n",
        "\n",
        "1.   Data cleaning, revisión de datos nulos o faltantes, errores y outliers.\n",
        "2.   Generar visualizaciones que respondan a la hipótesis planteada.\n",
        "3. Generar un modelo de machine learning que pueda predecir la ocurrencia de accidentes.\n",
        "\n"
      ],
      "metadata": {
        "id": "fy7hZbVh_SqA"
      }
    },
    {
      "cell_type": "markdown",
      "source": [
        "## 03- Contexto comercial"
      ],
      "metadata": {
        "id": "TyOMmV3AIl69"
      }
    },
    {
      "cell_type": "markdown",
      "source": [
        "La aerolínea con la necesidad de identificar los objetivos clave que buscan mejorar la seguridad, la eficiencia operativa y la gestión de riesgos en la aviación.\n",
        "\n",
        "Deseo exponer a través de un modelo de machine\n",
        " learning las respuestas a los planteos sobre: si se podría mejorar la seguridad, optimizar la gestión de recursos, fortalecer la reputación de la aerolínea, asegurar el cumplimiento regulatorio y fomentar la mejora continua.\n",
        "\n",
        "  Este enfoque proactivo y basado en datos puede tener un impacto significativo en la reducción de accidentes y la mejora de la seguridad aérea global, sin dejar de lado el costo económico que conlleva los daños ocasionados tras un accidente aéreo.\n",
        "\n",
        "  "
      ],
      "metadata": {
        "id": "cr6udJ1tIcMK"
      }
    },
    {
      "cell_type": "markdown",
      "source": [
        "## 04- Hipótesis y preguntas planteadas para el análisis"
      ],
      "metadata": {
        "id": "c6airvARFouo"
      }
    },
    {
      "cell_type": "markdown",
      "source": [
        "Con el fin de implementar estrategias proactivas, se planteó una serie de preguntas que pudieran ser respondidas mediante gráficos de rápida visualización que puedan dar contexto y mejor entendimiento.\n",
        "\n",
        "**HIPÓTESIS: El modelo será capaz de predecir la ocurrencia de accidentes con una precisión mayor al 85%.**\n",
        "\n",
        "1.  ¿Cuántas muertes ocurrieron según el motor de la aviación?\n",
        "2.   ¿Cuántas muertes sucedieron por nivel de daño del avión?\n",
        "3.  ¿Qué cantidad de errores se cometen según factores principales?\n",
        "4. ¿Cuál es el estado de la investigación por año según el grado de incidentes?\n",
        "\n",
        "\n"
      ],
      "metadata": {
        "id": "J_chP1fNJ6Nu"
      }
    },
    {
      "cell_type": "markdown",
      "source": [
        "## 05-Datasets"
      ],
      "metadata": {
        "id": "JPbDuNzoDLs8"
      }
    },
    {
      "cell_type": "markdown",
      "source": [
        "*Importo librerias*"
      ],
      "metadata": {
        "id": "vOPm4xMo_B3G"
      }
    },
    {
      "cell_type": "code",
      "execution_count": 1,
      "metadata": {
        "id": "nICQq7m5JKXG"
      },
      "outputs": [],
      "source": [
        "import pandas as pd\n",
        "import matplotlib as plt\n",
        "import seaborn as sns\n",
        "import  numpy as np\n",
        "import matplotlib.pyplot as plt"
      ]
    },
    {
      "cell_type": "markdown",
      "source": [
        "###Tabla 1 del conjunto de datasets"
      ],
      "metadata": {
        "id": "7209tQcX_J_d"
      }
    },
    {
      "cell_type": "code",
      "source": [
        "Aeronave = pd.read_excel('/content/drive/MyDrive/Data Science 1/aeronave brasil1.xlsx', index_col=0)\n",
        "pd.set_option('display.max_columns', None)\n",
        "Aeronave"
      ],
      "metadata": {
        "colab": {
          "base_uri": "https://localhost:8080/",
          "height": 579
        },
        "id": "LRPnsenuJ6wJ",
        "outputId": "d09afd3e-a06b-45fd-c6fd-f3eb66e4610f"
      },
      "execution_count": 2,
      "outputs": [
        {
          "output_type": "execute_result",
          "data": {
            "text/plain": [
              "                   aeronave_matricula aeronave_operador_categoria  \\\n",
              "codigo_ocorrencia2                                                  \n",
              "39115                           PTNQX                         ***   \n",
              "39155                           PTLVI                         ***   \n",
              "39156                           PPPTO                         ***   \n",
              "39158                           PRLGJ                     REGULAR   \n",
              "39176                           PRMAA                     REGULAR   \n",
              "...                               ...                         ...   \n",
              "80249                           PRAJY                         ***   \n",
              "80251                           PRAJY                         ***   \n",
              "80257                           PRLBR                         ***   \n",
              "80258                           PTRXE                         ***   \n",
              "80259                           PRYRE                         ***   \n",
              "\n",
              "                   aeronave_tipo_veiculo          aeronave_fabricante  \\\n",
              "codigo_ocorrencia2                                                      \n",
              "39115                              AVIÃO  NEIVA INDUSTRIA AERONAUTICA   \n",
              "39155                              AVIÃO               BEECH AIRCRAFT   \n",
              "39156                              AVIÃO      AEROSPATIALE AND ALENIA   \n",
              "39158                              AVIÃO               BOEING COMPANY   \n",
              "39176                              AVIÃO             AIRBUS INDUSTRIE   \n",
              "...                                  ...                          ...   \n",
              "80249                              AVIÃO               BOEING COMPANY   \n",
              "80251                              AVIÃO               BOEING COMPANY   \n",
              "80257                        HELICÓPTERO          ROBINSON HELICOPTER   \n",
              "80258                              AVIÃO  NEIVA INDUSTRIA AERONAUTICA   \n",
              "80259                              AVIÃO             AIRBUS INDUSTRIE   \n",
              "\n",
              "                   aeronave_modelo aeronave_tipo_icao aeronave_motor_tipo  \\\n",
              "codigo_ocorrencia2                                                          \n",
              "39115                     EMB-711A               P28R              PISTÃO   \n",
              "39155                          C90               BE9L          TURBOÉLICE   \n",
              "39156                  ATR-72-212A               AT72          TURBOÉLICE   \n",
              "39158                      757-225               B752                JATO   \n",
              "39176                     A320-232               A320                JATO   \n",
              "...                            ...                ...                 ...   \n",
              "80249                      737-48E                737                JATO   \n",
              "80251                      737-48E                737                JATO   \n",
              "80257                       R44 II                R44              PISTÃO   \n",
              "80258                     EMB-721D               P32R              PISTÃO   \n",
              "80259                    A320-251N               A320                JATO   \n",
              "\n",
              "                   aeronave_motor_quantidade  aeronave_pmd  \\\n",
              "codigo_ocorrencia2                                           \n",
              "39115                              MONOMOTOR          1202   \n",
              "39155                                BIMOTOR          4377   \n",
              "39156                                BIMOTOR         22500   \n",
              "39158                                BIMOTOR        108862   \n",
              "39176                                BIMOTOR         77000   \n",
              "...                                      ...           ...   \n",
              "80249                                BIMOTOR         65090   \n",
              "80251                                BIMOTOR         65090   \n",
              "80257                              MONOMOTOR          1134   \n",
              "80258                              MONOMOTOR          1633   \n",
              "80259                                BIMOTOR         77000   \n",
              "\n",
              "                    aeronave_pmd_categoria  aeronave_assentos  \\\n",
              "codigo_ocorrencia2                                              \n",
              "39115                                 1202                4.0   \n",
              "39155                                 4377                8.0   \n",
              "39156                                22500               73.0   \n",
              "39158                               108862                5.0   \n",
              "39176                                77000              184.0   \n",
              "...                                    ...                ...   \n",
              "80249                                65090              192.0   \n",
              "80251                                65090              192.0   \n",
              "80257                                 1134                4.0   \n",
              "80258                                 1633                7.0   \n",
              "80259                                77000              183.0   \n",
              "\n",
              "                    aeronave_ano_fabricacao aeronave_pais_fabricante  \\\n",
              "codigo_ocorrencia2                                                     \n",
              "39115                                1979.0                   BRASIL   \n",
              "39155                                1979.0                   BRASIL   \n",
              "39156                                2008.0                   BRASIL   \n",
              "39158                                1984.0                   BRASIL   \n",
              "39176                                2001.0                   BRASIL   \n",
              "...                                     ...                      ...   \n",
              "80249                                   NaN                   BRASIL   \n",
              "80251                                   NaN                   BRASIL   \n",
              "80257                                2010.0                   BRASIL   \n",
              "80258                                1985.0                   BRASIL   \n",
              "80259                                   NaN                   BRASIL   \n",
              "\n",
              "                   aeronave_pais_registro aeronave_registro_categoria  \\\n",
              "codigo_ocorrencia2                                                      \n",
              "39115                              BRASIL                       AVIÃO   \n",
              "39155                              BRASIL                       AVIÃO   \n",
              "39156                              BRASIL                       AVIÃO   \n",
              "39158                              BRASIL                       AVIÃO   \n",
              "39176                              BRASIL                       AVIÃO   \n",
              "...                                   ...                         ...   \n",
              "80249                              BRASIL                       AVIÃO   \n",
              "80251                              BRASIL                       AVIÃO   \n",
              "80257                              BRASIL                 HELICÓPTERO   \n",
              "80258                              BRASIL                       AVIÃO   \n",
              "80259                              BRASIL                       AVIÃO   \n",
              "\n",
              "                   aeronave_registro_segmento  \\\n",
              "codigo_ocorrencia2                              \n",
              "39115                              PARTICULAR   \n",
              "39155                              PARTICULAR   \n",
              "39156                                 REGULAR   \n",
              "39158                                 REGULAR   \n",
              "39176                                 REGULAR   \n",
              "...                                       ...   \n",
              "80249                                 REGULAR   \n",
              "80251                                 REGULAR   \n",
              "80257                              PARTICULAR   \n",
              "80258                              PARTICULAR   \n",
              "80259                                 REGULAR   \n",
              "\n",
              "                                  aeronave_voo_origem  \\\n",
              "codigo_ocorrencia2                                      \n",
              "39115                       BRIGADEIRO ARARIPE MACEDO   \n",
              "39155                               FORA DE AERODROMO   \n",
              "39156                                     AFONSO PENA   \n",
              "39158                               FORA DE AERODROMO   \n",
              "39176                               FORA DE AERODROMO   \n",
              "...                                               ...   \n",
              "80249                                   EDUARDO GOMES   \n",
              "80251               VAL DE CANS / JÚLIO CEZAR RIBEIRO   \n",
              "80257                                             ***   \n",
              "80258                                TANGARÁ DA SERRA   \n",
              "80259                                   SALGADO FILHO   \n",
              "\n",
              "                            aeronave_voo_destino aeronave_fase_operacao  \\\n",
              "codigo_ocorrencia2                                                        \n",
              "39115                                 CORRENTINA              DECOLAGEM   \n",
              "39155                          FORA DE AERODROMO              DECOLAGEM   \n",
              "39156                  ADALBERTO MENDES DA SILVA       ARREMETIDA NO AR   \n",
              "39158                          FORA DE AERODROMO                 SUBIDA   \n",
              "39176                          FORA DE AERODROMO                 SUBIDA   \n",
              "...                                          ...                    ...   \n",
              "80249                                  VIRACOPOS                 SUBIDA   \n",
              "80251                              PINTO MARTINS                 SUBIDA   \n",
              "80257                                        ***                    ***   \n",
              "80258                PILOTO OSVALDO MARQUES DIAS              DECOLAGEM   \n",
              "80259               GUARARAPES - GILBERTO FREYRE               CRUZEIRO   \n",
              "\n",
              "                   aeronave_tipo_operacao aeronave_nivel_dano  \\\n",
              "codigo_ocorrencia2                                              \n",
              "39115                             PRIVADA         SUBSTANCIAL   \n",
              "39155                             PRIVADA              NENHUM   \n",
              "39156                             REGULAR                LEVE   \n",
              "39158                             REGULAR              NENHUM   \n",
              "39176                             REGULAR              NENHUM   \n",
              "...                                   ...                 ...   \n",
              "80249                             REGULAR              NENHUM   \n",
              "80251                             REGULAR              NENHUM   \n",
              "80257                             PRIVADA           DESTRUÍDA   \n",
              "80258                             PRIVADA         SUBSTANCIAL   \n",
              "80259                             REGULAR              NENHUM   \n",
              "\n",
              "                    aeronave_fatalidades_total  \n",
              "codigo_ocorrencia2                              \n",
              "39115                                        0  \n",
              "39155                                        0  \n",
              "39156                                        0  \n",
              "39158                                        0  \n",
              "39176                                        0  \n",
              "...                                        ...  \n",
              "80249                                        0  \n",
              "80251                                        0  \n",
              "80257                                        0  \n",
              "80258                                        0  \n",
              "80259                                        0  \n",
              "\n",
              "[6188 rows x 22 columns]"
            ],
            "text/html": [
              "\n",
              "  <div id=\"df-2f2154b2-068d-41b5-9f42-cd4c9764b0d8\" class=\"colab-df-container\">\n",
              "    <div>\n",
              "<style scoped>\n",
              "    .dataframe tbody tr th:only-of-type {\n",
              "        vertical-align: middle;\n",
              "    }\n",
              "\n",
              "    .dataframe tbody tr th {\n",
              "        vertical-align: top;\n",
              "    }\n",
              "\n",
              "    .dataframe thead th {\n",
              "        text-align: right;\n",
              "    }\n",
              "</style>\n",
              "<table border=\"1\" class=\"dataframe\">\n",
              "  <thead>\n",
              "    <tr style=\"text-align: right;\">\n",
              "      <th></th>\n",
              "      <th>aeronave_matricula</th>\n",
              "      <th>aeronave_operador_categoria</th>\n",
              "      <th>aeronave_tipo_veiculo</th>\n",
              "      <th>aeronave_fabricante</th>\n",
              "      <th>aeronave_modelo</th>\n",
              "      <th>aeronave_tipo_icao</th>\n",
              "      <th>aeronave_motor_tipo</th>\n",
              "      <th>aeronave_motor_quantidade</th>\n",
              "      <th>aeronave_pmd</th>\n",
              "      <th>aeronave_pmd_categoria</th>\n",
              "      <th>aeronave_assentos</th>\n",
              "      <th>aeronave_ano_fabricacao</th>\n",
              "      <th>aeronave_pais_fabricante</th>\n",
              "      <th>aeronave_pais_registro</th>\n",
              "      <th>aeronave_registro_categoria</th>\n",
              "      <th>aeronave_registro_segmento</th>\n",
              "      <th>aeronave_voo_origem</th>\n",
              "      <th>aeronave_voo_destino</th>\n",
              "      <th>aeronave_fase_operacao</th>\n",
              "      <th>aeronave_tipo_operacao</th>\n",
              "      <th>aeronave_nivel_dano</th>\n",
              "      <th>aeronave_fatalidades_total</th>\n",
              "    </tr>\n",
              "    <tr>\n",
              "      <th>codigo_ocorrencia2</th>\n",
              "      <th></th>\n",
              "      <th></th>\n",
              "      <th></th>\n",
              "      <th></th>\n",
              "      <th></th>\n",
              "      <th></th>\n",
              "      <th></th>\n",
              "      <th></th>\n",
              "      <th></th>\n",
              "      <th></th>\n",
              "      <th></th>\n",
              "      <th></th>\n",
              "      <th></th>\n",
              "      <th></th>\n",
              "      <th></th>\n",
              "      <th></th>\n",
              "      <th></th>\n",
              "      <th></th>\n",
              "      <th></th>\n",
              "      <th></th>\n",
              "      <th></th>\n",
              "      <th></th>\n",
              "    </tr>\n",
              "  </thead>\n",
              "  <tbody>\n",
              "    <tr>\n",
              "      <th>39115</th>\n",
              "      <td>PTNQX</td>\n",
              "      <td>***</td>\n",
              "      <td>AVIÃO</td>\n",
              "      <td>NEIVA INDUSTRIA AERONAUTICA</td>\n",
              "      <td>EMB-711A</td>\n",
              "      <td>P28R</td>\n",
              "      <td>PISTÃO</td>\n",
              "      <td>MONOMOTOR</td>\n",
              "      <td>1202</td>\n",
              "      <td>1202</td>\n",
              "      <td>4.0</td>\n",
              "      <td>1979.0</td>\n",
              "      <td>BRASIL</td>\n",
              "      <td>BRASIL</td>\n",
              "      <td>AVIÃO</td>\n",
              "      <td>PARTICULAR</td>\n",
              "      <td>BRIGADEIRO ARARIPE MACEDO</td>\n",
              "      <td>CORRENTINA</td>\n",
              "      <td>DECOLAGEM</td>\n",
              "      <td>PRIVADA</td>\n",
              "      <td>SUBSTANCIAL</td>\n",
              "      <td>0</td>\n",
              "    </tr>\n",
              "    <tr>\n",
              "      <th>39155</th>\n",
              "      <td>PTLVI</td>\n",
              "      <td>***</td>\n",
              "      <td>AVIÃO</td>\n",
              "      <td>BEECH AIRCRAFT</td>\n",
              "      <td>C90</td>\n",
              "      <td>BE9L</td>\n",
              "      <td>TURBOÉLICE</td>\n",
              "      <td>BIMOTOR</td>\n",
              "      <td>4377</td>\n",
              "      <td>4377</td>\n",
              "      <td>8.0</td>\n",
              "      <td>1979.0</td>\n",
              "      <td>BRASIL</td>\n",
              "      <td>BRASIL</td>\n",
              "      <td>AVIÃO</td>\n",
              "      <td>PARTICULAR</td>\n",
              "      <td>FORA DE AERODROMO</td>\n",
              "      <td>FORA DE AERODROMO</td>\n",
              "      <td>DECOLAGEM</td>\n",
              "      <td>PRIVADA</td>\n",
              "      <td>NENHUM</td>\n",
              "      <td>0</td>\n",
              "    </tr>\n",
              "    <tr>\n",
              "      <th>39156</th>\n",
              "      <td>PPPTO</td>\n",
              "      <td>***</td>\n",
              "      <td>AVIÃO</td>\n",
              "      <td>AEROSPATIALE AND ALENIA</td>\n",
              "      <td>ATR-72-212A</td>\n",
              "      <td>AT72</td>\n",
              "      <td>TURBOÉLICE</td>\n",
              "      <td>BIMOTOR</td>\n",
              "      <td>22500</td>\n",
              "      <td>22500</td>\n",
              "      <td>73.0</td>\n",
              "      <td>2008.0</td>\n",
              "      <td>BRASIL</td>\n",
              "      <td>BRASIL</td>\n",
              "      <td>AVIÃO</td>\n",
              "      <td>REGULAR</td>\n",
              "      <td>AFONSO PENA</td>\n",
              "      <td>ADALBERTO MENDES DA SILVA</td>\n",
              "      <td>ARREMETIDA NO AR</td>\n",
              "      <td>REGULAR</td>\n",
              "      <td>LEVE</td>\n",
              "      <td>0</td>\n",
              "    </tr>\n",
              "    <tr>\n",
              "      <th>39158</th>\n",
              "      <td>PRLGJ</td>\n",
              "      <td>REGULAR</td>\n",
              "      <td>AVIÃO</td>\n",
              "      <td>BOEING COMPANY</td>\n",
              "      <td>757-225</td>\n",
              "      <td>B752</td>\n",
              "      <td>JATO</td>\n",
              "      <td>BIMOTOR</td>\n",
              "      <td>108862</td>\n",
              "      <td>108862</td>\n",
              "      <td>5.0</td>\n",
              "      <td>1984.0</td>\n",
              "      <td>BRASIL</td>\n",
              "      <td>BRASIL</td>\n",
              "      <td>AVIÃO</td>\n",
              "      <td>REGULAR</td>\n",
              "      <td>FORA DE AERODROMO</td>\n",
              "      <td>FORA DE AERODROMO</td>\n",
              "      <td>SUBIDA</td>\n",
              "      <td>REGULAR</td>\n",
              "      <td>NENHUM</td>\n",
              "      <td>0</td>\n",
              "    </tr>\n",
              "    <tr>\n",
              "      <th>39176</th>\n",
              "      <td>PRMAA</td>\n",
              "      <td>REGULAR</td>\n",
              "      <td>AVIÃO</td>\n",
              "      <td>AIRBUS INDUSTRIE</td>\n",
              "      <td>A320-232</td>\n",
              "      <td>A320</td>\n",
              "      <td>JATO</td>\n",
              "      <td>BIMOTOR</td>\n",
              "      <td>77000</td>\n",
              "      <td>77000</td>\n",
              "      <td>184.0</td>\n",
              "      <td>2001.0</td>\n",
              "      <td>BRASIL</td>\n",
              "      <td>BRASIL</td>\n",
              "      <td>AVIÃO</td>\n",
              "      <td>REGULAR</td>\n",
              "      <td>FORA DE AERODROMO</td>\n",
              "      <td>FORA DE AERODROMO</td>\n",
              "      <td>SUBIDA</td>\n",
              "      <td>REGULAR</td>\n",
              "      <td>NENHUM</td>\n",
              "      <td>0</td>\n",
              "    </tr>\n",
              "    <tr>\n",
              "      <th>...</th>\n",
              "      <td>...</td>\n",
              "      <td>...</td>\n",
              "      <td>...</td>\n",
              "      <td>...</td>\n",
              "      <td>...</td>\n",
              "      <td>...</td>\n",
              "      <td>...</td>\n",
              "      <td>...</td>\n",
              "      <td>...</td>\n",
              "      <td>...</td>\n",
              "      <td>...</td>\n",
              "      <td>...</td>\n",
              "      <td>...</td>\n",
              "      <td>...</td>\n",
              "      <td>...</td>\n",
              "      <td>...</td>\n",
              "      <td>...</td>\n",
              "      <td>...</td>\n",
              "      <td>...</td>\n",
              "      <td>...</td>\n",
              "      <td>...</td>\n",
              "      <td>...</td>\n",
              "    </tr>\n",
              "    <tr>\n",
              "      <th>80249</th>\n",
              "      <td>PRAJY</td>\n",
              "      <td>***</td>\n",
              "      <td>AVIÃO</td>\n",
              "      <td>BOEING COMPANY</td>\n",
              "      <td>737-48E</td>\n",
              "      <td>737</td>\n",
              "      <td>JATO</td>\n",
              "      <td>BIMOTOR</td>\n",
              "      <td>65090</td>\n",
              "      <td>65090</td>\n",
              "      <td>192.0</td>\n",
              "      <td>NaN</td>\n",
              "      <td>BRASIL</td>\n",
              "      <td>BRASIL</td>\n",
              "      <td>AVIÃO</td>\n",
              "      <td>REGULAR</td>\n",
              "      <td>EDUARDO GOMES</td>\n",
              "      <td>VIRACOPOS</td>\n",
              "      <td>SUBIDA</td>\n",
              "      <td>REGULAR</td>\n",
              "      <td>NENHUM</td>\n",
              "      <td>0</td>\n",
              "    </tr>\n",
              "    <tr>\n",
              "      <th>80251</th>\n",
              "      <td>PRAJY</td>\n",
              "      <td>***</td>\n",
              "      <td>AVIÃO</td>\n",
              "      <td>BOEING COMPANY</td>\n",
              "      <td>737-48E</td>\n",
              "      <td>737</td>\n",
              "      <td>JATO</td>\n",
              "      <td>BIMOTOR</td>\n",
              "      <td>65090</td>\n",
              "      <td>65090</td>\n",
              "      <td>192.0</td>\n",
              "      <td>NaN</td>\n",
              "      <td>BRASIL</td>\n",
              "      <td>BRASIL</td>\n",
              "      <td>AVIÃO</td>\n",
              "      <td>REGULAR</td>\n",
              "      <td>VAL DE CANS / JÚLIO CEZAR RIBEIRO</td>\n",
              "      <td>PINTO MARTINS</td>\n",
              "      <td>SUBIDA</td>\n",
              "      <td>REGULAR</td>\n",
              "      <td>NENHUM</td>\n",
              "      <td>0</td>\n",
              "    </tr>\n",
              "    <tr>\n",
              "      <th>80257</th>\n",
              "      <td>PRLBR</td>\n",
              "      <td>***</td>\n",
              "      <td>HELICÓPTERO</td>\n",
              "      <td>ROBINSON HELICOPTER</td>\n",
              "      <td>R44 II</td>\n",
              "      <td>R44</td>\n",
              "      <td>PISTÃO</td>\n",
              "      <td>MONOMOTOR</td>\n",
              "      <td>1134</td>\n",
              "      <td>1134</td>\n",
              "      <td>4.0</td>\n",
              "      <td>2010.0</td>\n",
              "      <td>BRASIL</td>\n",
              "      <td>BRASIL</td>\n",
              "      <td>HELICÓPTERO</td>\n",
              "      <td>PARTICULAR</td>\n",
              "      <td>***</td>\n",
              "      <td>***</td>\n",
              "      <td>***</td>\n",
              "      <td>PRIVADA</td>\n",
              "      <td>DESTRUÍDA</td>\n",
              "      <td>0</td>\n",
              "    </tr>\n",
              "    <tr>\n",
              "      <th>80258</th>\n",
              "      <td>PTRXE</td>\n",
              "      <td>***</td>\n",
              "      <td>AVIÃO</td>\n",
              "      <td>NEIVA INDUSTRIA AERONAUTICA</td>\n",
              "      <td>EMB-721D</td>\n",
              "      <td>P32R</td>\n",
              "      <td>PISTÃO</td>\n",
              "      <td>MONOMOTOR</td>\n",
              "      <td>1633</td>\n",
              "      <td>1633</td>\n",
              "      <td>7.0</td>\n",
              "      <td>1985.0</td>\n",
              "      <td>BRASIL</td>\n",
              "      <td>BRASIL</td>\n",
              "      <td>AVIÃO</td>\n",
              "      <td>PARTICULAR</td>\n",
              "      <td>TANGARÁ DA SERRA</td>\n",
              "      <td>PILOTO OSVALDO MARQUES DIAS</td>\n",
              "      <td>DECOLAGEM</td>\n",
              "      <td>PRIVADA</td>\n",
              "      <td>SUBSTANCIAL</td>\n",
              "      <td>0</td>\n",
              "    </tr>\n",
              "    <tr>\n",
              "      <th>80259</th>\n",
              "      <td>PRYRE</td>\n",
              "      <td>***</td>\n",
              "      <td>AVIÃO</td>\n",
              "      <td>AIRBUS INDUSTRIE</td>\n",
              "      <td>A320-251N</td>\n",
              "      <td>A320</td>\n",
              "      <td>JATO</td>\n",
              "      <td>BIMOTOR</td>\n",
              "      <td>77000</td>\n",
              "      <td>77000</td>\n",
              "      <td>183.0</td>\n",
              "      <td>NaN</td>\n",
              "      <td>BRASIL</td>\n",
              "      <td>BRASIL</td>\n",
              "      <td>AVIÃO</td>\n",
              "      <td>REGULAR</td>\n",
              "      <td>SALGADO FILHO</td>\n",
              "      <td>GUARARAPES - GILBERTO FREYRE</td>\n",
              "      <td>CRUZEIRO</td>\n",
              "      <td>REGULAR</td>\n",
              "      <td>NENHUM</td>\n",
              "      <td>0</td>\n",
              "    </tr>\n",
              "  </tbody>\n",
              "</table>\n",
              "<p>6188 rows × 22 columns</p>\n",
              "</div>\n",
              "    <div class=\"colab-df-buttons\">\n",
              "\n",
              "  <div class=\"colab-df-container\">\n",
              "    <button class=\"colab-df-convert\" onclick=\"convertToInteractive('df-2f2154b2-068d-41b5-9f42-cd4c9764b0d8')\"\n",
              "            title=\"Convert this dataframe to an interactive table.\"\n",
              "            style=\"display:none;\">\n",
              "\n",
              "  <svg xmlns=\"http://www.w3.org/2000/svg\" height=\"24px\" viewBox=\"0 -960 960 960\">\n",
              "    <path d=\"M120-120v-720h720v720H120Zm60-500h600v-160H180v160Zm220 220h160v-160H400v160Zm0 220h160v-160H400v160ZM180-400h160v-160H180v160Zm440 0h160v-160H620v160ZM180-180h160v-160H180v160Zm440 0h160v-160H620v160Z\"/>\n",
              "  </svg>\n",
              "    </button>\n",
              "\n",
              "  <style>\n",
              "    .colab-df-container {\n",
              "      display:flex;\n",
              "      gap: 12px;\n",
              "    }\n",
              "\n",
              "    .colab-df-convert {\n",
              "      background-color: #E8F0FE;\n",
              "      border: none;\n",
              "      border-radius: 50%;\n",
              "      cursor: pointer;\n",
              "      display: none;\n",
              "      fill: #1967D2;\n",
              "      height: 32px;\n",
              "      padding: 0 0 0 0;\n",
              "      width: 32px;\n",
              "    }\n",
              "\n",
              "    .colab-df-convert:hover {\n",
              "      background-color: #E2EBFA;\n",
              "      box-shadow: 0px 1px 2px rgba(60, 64, 67, 0.3), 0px 1px 3px 1px rgba(60, 64, 67, 0.15);\n",
              "      fill: #174EA6;\n",
              "    }\n",
              "\n",
              "    .colab-df-buttons div {\n",
              "      margin-bottom: 4px;\n",
              "    }\n",
              "\n",
              "    [theme=dark] .colab-df-convert {\n",
              "      background-color: #3B4455;\n",
              "      fill: #D2E3FC;\n",
              "    }\n",
              "\n",
              "    [theme=dark] .colab-df-convert:hover {\n",
              "      background-color: #434B5C;\n",
              "      box-shadow: 0px 1px 3px 1px rgba(0, 0, 0, 0.15);\n",
              "      filter: drop-shadow(0px 1px 2px rgba(0, 0, 0, 0.3));\n",
              "      fill: #FFFFFF;\n",
              "    }\n",
              "  </style>\n",
              "\n",
              "    <script>\n",
              "      const buttonEl =\n",
              "        document.querySelector('#df-2f2154b2-068d-41b5-9f42-cd4c9764b0d8 button.colab-df-convert');\n",
              "      buttonEl.style.display =\n",
              "        google.colab.kernel.accessAllowed ? 'block' : 'none';\n",
              "\n",
              "      async function convertToInteractive(key) {\n",
              "        const element = document.querySelector('#df-2f2154b2-068d-41b5-9f42-cd4c9764b0d8');\n",
              "        const dataTable =\n",
              "          await google.colab.kernel.invokeFunction('convertToInteractive',\n",
              "                                                    [key], {});\n",
              "        if (!dataTable) return;\n",
              "\n",
              "        const docLinkHtml = 'Like what you see? Visit the ' +\n",
              "          '<a target=\"_blank\" href=https://colab.research.google.com/notebooks/data_table.ipynb>data table notebook</a>'\n",
              "          + ' to learn more about interactive tables.';\n",
              "        element.innerHTML = '';\n",
              "        dataTable['output_type'] = 'display_data';\n",
              "        await google.colab.output.renderOutput(dataTable, element);\n",
              "        const docLink = document.createElement('div');\n",
              "        docLink.innerHTML = docLinkHtml;\n",
              "        element.appendChild(docLink);\n",
              "      }\n",
              "    </script>\n",
              "  </div>\n",
              "\n",
              "\n",
              "<div id=\"df-2e373e1c-c8fe-4887-8fc7-511d8220bb0a\">\n",
              "  <button class=\"colab-df-quickchart\" onclick=\"quickchart('df-2e373e1c-c8fe-4887-8fc7-511d8220bb0a')\"\n",
              "            title=\"Suggest charts\"\n",
              "            style=\"display:none;\">\n",
              "\n",
              "<svg xmlns=\"http://www.w3.org/2000/svg\" height=\"24px\"viewBox=\"0 0 24 24\"\n",
              "     width=\"24px\">\n",
              "    <g>\n",
              "        <path d=\"M19 3H5c-1.1 0-2 .9-2 2v14c0 1.1.9 2 2 2h14c1.1 0 2-.9 2-2V5c0-1.1-.9-2-2-2zM9 17H7v-7h2v7zm4 0h-2V7h2v10zm4 0h-2v-4h2v4z\"/>\n",
              "    </g>\n",
              "</svg>\n",
              "  </button>\n",
              "\n",
              "<style>\n",
              "  .colab-df-quickchart {\n",
              "      --bg-color: #E8F0FE;\n",
              "      --fill-color: #1967D2;\n",
              "      --hover-bg-color: #E2EBFA;\n",
              "      --hover-fill-color: #174EA6;\n",
              "      --disabled-fill-color: #AAA;\n",
              "      --disabled-bg-color: #DDD;\n",
              "  }\n",
              "\n",
              "  [theme=dark] .colab-df-quickchart {\n",
              "      --bg-color: #3B4455;\n",
              "      --fill-color: #D2E3FC;\n",
              "      --hover-bg-color: #434B5C;\n",
              "      --hover-fill-color: #FFFFFF;\n",
              "      --disabled-bg-color: #3B4455;\n",
              "      --disabled-fill-color: #666;\n",
              "  }\n",
              "\n",
              "  .colab-df-quickchart {\n",
              "    background-color: var(--bg-color);\n",
              "    border: none;\n",
              "    border-radius: 50%;\n",
              "    cursor: pointer;\n",
              "    display: none;\n",
              "    fill: var(--fill-color);\n",
              "    height: 32px;\n",
              "    padding: 0;\n",
              "    width: 32px;\n",
              "  }\n",
              "\n",
              "  .colab-df-quickchart:hover {\n",
              "    background-color: var(--hover-bg-color);\n",
              "    box-shadow: 0 1px 2px rgba(60, 64, 67, 0.3), 0 1px 3px 1px rgba(60, 64, 67, 0.15);\n",
              "    fill: var(--button-hover-fill-color);\n",
              "  }\n",
              "\n",
              "  .colab-df-quickchart-complete:disabled,\n",
              "  .colab-df-quickchart-complete:disabled:hover {\n",
              "    background-color: var(--disabled-bg-color);\n",
              "    fill: var(--disabled-fill-color);\n",
              "    box-shadow: none;\n",
              "  }\n",
              "\n",
              "  .colab-df-spinner {\n",
              "    border: 2px solid var(--fill-color);\n",
              "    border-color: transparent;\n",
              "    border-bottom-color: var(--fill-color);\n",
              "    animation:\n",
              "      spin 1s steps(1) infinite;\n",
              "  }\n",
              "\n",
              "  @keyframes spin {\n",
              "    0% {\n",
              "      border-color: transparent;\n",
              "      border-bottom-color: var(--fill-color);\n",
              "      border-left-color: var(--fill-color);\n",
              "    }\n",
              "    20% {\n",
              "      border-color: transparent;\n",
              "      border-left-color: var(--fill-color);\n",
              "      border-top-color: var(--fill-color);\n",
              "    }\n",
              "    30% {\n",
              "      border-color: transparent;\n",
              "      border-left-color: var(--fill-color);\n",
              "      border-top-color: var(--fill-color);\n",
              "      border-right-color: var(--fill-color);\n",
              "    }\n",
              "    40% {\n",
              "      border-color: transparent;\n",
              "      border-right-color: var(--fill-color);\n",
              "      border-top-color: var(--fill-color);\n",
              "    }\n",
              "    60% {\n",
              "      border-color: transparent;\n",
              "      border-right-color: var(--fill-color);\n",
              "    }\n",
              "    80% {\n",
              "      border-color: transparent;\n",
              "      border-right-color: var(--fill-color);\n",
              "      border-bottom-color: var(--fill-color);\n",
              "    }\n",
              "    90% {\n",
              "      border-color: transparent;\n",
              "      border-bottom-color: var(--fill-color);\n",
              "    }\n",
              "  }\n",
              "</style>\n",
              "\n",
              "  <script>\n",
              "    async function quickchart(key) {\n",
              "      const quickchartButtonEl =\n",
              "        document.querySelector('#' + key + ' button');\n",
              "      quickchartButtonEl.disabled = true;  // To prevent multiple clicks.\n",
              "      quickchartButtonEl.classList.add('colab-df-spinner');\n",
              "      try {\n",
              "        const charts = await google.colab.kernel.invokeFunction(\n",
              "            'suggestCharts', [key], {});\n",
              "      } catch (error) {\n",
              "        console.error('Error during call to suggestCharts:', error);\n",
              "      }\n",
              "      quickchartButtonEl.classList.remove('colab-df-spinner');\n",
              "      quickchartButtonEl.classList.add('colab-df-quickchart-complete');\n",
              "    }\n",
              "    (() => {\n",
              "      let quickchartButtonEl =\n",
              "        document.querySelector('#df-2e373e1c-c8fe-4887-8fc7-511d8220bb0a button');\n",
              "      quickchartButtonEl.style.display =\n",
              "        google.colab.kernel.accessAllowed ? 'block' : 'none';\n",
              "    })();\n",
              "  </script>\n",
              "</div>\n",
              "\n",
              "  <div id=\"id_48662dfb-dc71-4682-a360-dcd075e88d36\">\n",
              "    <style>\n",
              "      .colab-df-generate {\n",
              "        background-color: #E8F0FE;\n",
              "        border: none;\n",
              "        border-radius: 50%;\n",
              "        cursor: pointer;\n",
              "        display: none;\n",
              "        fill: #1967D2;\n",
              "        height: 32px;\n",
              "        padding: 0 0 0 0;\n",
              "        width: 32px;\n",
              "      }\n",
              "\n",
              "      .colab-df-generate:hover {\n",
              "        background-color: #E2EBFA;\n",
              "        box-shadow: 0px 1px 2px rgba(60, 64, 67, 0.3), 0px 1px 3px 1px rgba(60, 64, 67, 0.15);\n",
              "        fill: #174EA6;\n",
              "      }\n",
              "\n",
              "      [theme=dark] .colab-df-generate {\n",
              "        background-color: #3B4455;\n",
              "        fill: #D2E3FC;\n",
              "      }\n",
              "\n",
              "      [theme=dark] .colab-df-generate:hover {\n",
              "        background-color: #434B5C;\n",
              "        box-shadow: 0px 1px 3px 1px rgba(0, 0, 0, 0.15);\n",
              "        filter: drop-shadow(0px 1px 2px rgba(0, 0, 0, 0.3));\n",
              "        fill: #FFFFFF;\n",
              "      }\n",
              "    </style>\n",
              "    <button class=\"colab-df-generate\" onclick=\"generateWithVariable('Aeronave')\"\n",
              "            title=\"Generate code using this dataframe.\"\n",
              "            style=\"display:none;\">\n",
              "\n",
              "  <svg xmlns=\"http://www.w3.org/2000/svg\" height=\"24px\"viewBox=\"0 0 24 24\"\n",
              "       width=\"24px\">\n",
              "    <path d=\"M7,19H8.4L18.45,9,17,7.55,7,17.6ZM5,21V16.75L18.45,3.32a2,2,0,0,1,2.83,0l1.4,1.43a1.91,1.91,0,0,1,.58,1.4,1.91,1.91,0,0,1-.58,1.4L9.25,21ZM18.45,9,17,7.55Zm-12,3A5.31,5.31,0,0,0,4.9,8.1,5.31,5.31,0,0,0,1,6.5,5.31,5.31,0,0,0,4.9,4.9,5.31,5.31,0,0,0,6.5,1,5.31,5.31,0,0,0,8.1,4.9,5.31,5.31,0,0,0,12,6.5,5.46,5.46,0,0,0,6.5,12Z\"/>\n",
              "  </svg>\n",
              "    </button>\n",
              "    <script>\n",
              "      (() => {\n",
              "      const buttonEl =\n",
              "        document.querySelector('#id_48662dfb-dc71-4682-a360-dcd075e88d36 button.colab-df-generate');\n",
              "      buttonEl.style.display =\n",
              "        google.colab.kernel.accessAllowed ? 'block' : 'none';\n",
              "\n",
              "      buttonEl.onclick = () => {\n",
              "        google.colab.notebook.generateWithVariable('Aeronave');\n",
              "      }\n",
              "      })();\n",
              "    </script>\n",
              "  </div>\n",
              "\n",
              "    </div>\n",
              "  </div>\n"
            ],
            "application/vnd.google.colaboratory.intrinsic+json": {
              "type": "dataframe",
              "variable_name": "Aeronave"
            }
          },
          "metadata": {},
          "execution_count": 2
        }
      ]
    },
    {
      "cell_type": "code",
      "source": [
        "#Evaluo cuantas muertes tengo\n",
        "muertes = 10\n",
        "\n",
        "# Filtro los registros Fatalidades\n",
        "df_filtrado = Aeronave['aeronave_fatalidades_total'].loc[Aeronave['aeronave_fatalidades_total'] >= muertes]\n",
        "print(\"\\nCantidad de registros con muertes mayor o igual a 10:\")\n",
        "print(df_filtrado)"
      ],
      "metadata": {
        "colab": {
          "base_uri": "https://localhost:8080/"
        },
        "id": "Sx_BKDf5EADl",
        "outputId": "dfc7ab77-7566-4c19-c31c-ee7bebb62998"
      },
      "execution_count": 4,
      "outputs": [
        {
          "output_type": "stream",
          "name": "stdout",
          "text": [
            "\n",
            "Cantidad de registros con muertes mayor o igual a 10:\n",
            "codigo_ocorrencia2\n",
            "44796    16\n",
            "47142    10\n",
            "Name: aeronave_fatalidades_total, dtype: int64\n"
          ]
        }
      ]
    },
    {
      "cell_type": "code",
      "source": [
        "fat=Aeronave.aeronave_fatalidades_total.value_counts()\n",
        "print(\"\\nMUERTOS / CANTIDAD EN DIF VUELO:\")\n",
        "print(fat)"
      ],
      "metadata": {
        "colab": {
          "base_uri": "https://localhost:8080/"
        },
        "id": "3yee6Q1mBrjT",
        "outputId": "fd01aed9-a6b8-45c3-ae9b-d3b3ad862ac7"
      },
      "execution_count": 5,
      "outputs": [
        {
          "output_type": "stream",
          "name": "stdout",
          "text": [
            "\n",
            "MUERTOS / CANTIDAD EN DIF VUELO:\n",
            "aeronave_fatalidades_total\n",
            "0     5733\n",
            "1      232\n",
            "2      126\n",
            "3       33\n",
            "4       31\n",
            "5       17\n",
            "6        7\n",
            "7        4\n",
            "8        3\n",
            "16       1\n",
            "10       1\n",
            "Name: count, dtype: int64\n"
          ]
        }
      ]
    },
    {
      "cell_type": "code",
      "source": [
        "plt.figure(figsize=(5,4))\n",
        "sns.set_style(\"ticks\")\n",
        "ax = sns.barplot(x=fat.index, y=fat.values, orient=\"y\")\n",
        "ax.bar_label(ax.containers[0], fontsize=9)\n",
        "ax.set_xlabel ('Fatalidades', fontsize=10)\n",
        "ax.set_ylabel ('Cant de muertes por vuelo',  fontsize=10)"
      ],
      "metadata": {
        "colab": {
          "base_uri": "https://localhost:8080/",
          "height": 406
        },
        "id": "eN3h6at8CNmf",
        "outputId": "808d7694-d4a0-4e1b-b63d-5b1d281ce09e"
      },
      "execution_count": 6,
      "outputs": [
        {
          "output_type": "execute_result",
          "data": {
            "text/plain": [
              "Text(0, 0.5, 'Cant de muertes por vuelo')"
            ]
          },
          "metadata": {},
          "execution_count": 6
        },
        {
          "output_type": "display_data",
          "data": {
            "text/plain": [
              "<Figure size 500x400 with 1 Axes>"
            ],
            "image/png": "[encoded data removed]"
          },
          "metadata": {}
        }
      ]
    },
    {
      "cell_type": "code",
      "source": [
        "Aeronave.aeronave_fabricante.value_counts()"
      ],
      "metadata": {
        "colab": {
          "base_uri": "https://localhost:8080/"
        },
        "id": "cIziy6whpzDH",
        "outputId": "d7beff66-b71d-4980-c7d1-a5e4f120e684"
      },
      "execution_count": 7,
      "outputs": [
        {
          "output_type": "execute_result",
          "data": {
            "text/plain": [
              "aeronave_fabricante\n",
              "CESSNA AIRCRAFT                  960\n",
              "EMBRAER                          690\n",
              "NEIVA INDUSTRIA AERONAUTICA      685\n",
              "PIPER AIRCRAFT                   437\n",
              "***                              363\n",
              "                                ... \n",
              "SHEMPP-HIRTH FLUGZEUBAU            1\n",
              "JOSE ANTONIO ZATTAR JR             1\n",
              "CARLOS GILBERTO FRAGA MARQUES      1\n",
              "ISMAEL FERNANDES NUNES JUNIOR      1\n",
              "VANS AIRCRAFT                      1\n",
              "Name: count, Length: 251, dtype: int64"
            ]
          },
          "metadata": {},
          "execution_count": 7
        }
      ]
    },
    {
      "cell_type": "code",
      "source": [
        "Aeronave.info()"
      ],
      "metadata": {
        "colab": {
          "base_uri": "https://localhost:8080/"
        },
        "id": "mJ9PiiNSXsht",
        "outputId": "31edd558-7220-4490-fa39-93966daeb4d3"
      },
      "execution_count": 8,
      "outputs": [
        {
          "output_type": "stream",
          "name": "stdout",
          "text": [
            "<class 'pandas.core.frame.DataFrame'>\n",
            "Index: 6188 entries, 39115 to 80259\n",
            "Data columns (total 22 columns):\n",
            " #   Column                       Non-Null Count  Dtype  \n",
            "---  ------                       --------------  -----  \n",
            " 0   aeronave_matricula           6188 non-null   object \n",
            " 1   aeronave_operador_categoria  6188 non-null   object \n",
            " 2   aeronave_tipo_veiculo        6188 non-null   object \n",
            " 3   aeronave_fabricante          6188 non-null   object \n",
            " 4   aeronave_modelo              6188 non-null   object \n",
            " 5   aeronave_tipo_icao           6188 non-null   object \n",
            " 6   aeronave_motor_tipo          6185 non-null   object \n",
            " 7   aeronave_motor_quantidade    6188 non-null   object \n",
            " 8   aeronave_pmd                 6188 non-null   int64  \n",
            " 9   aeronave_pmd_categoria       6188 non-null   int64  \n",
            " 10  aeronave_assentos            6010 non-null   float64\n",
            " 11  aeronave_ano_fabricacao      6005 non-null   float64\n",
            " 12  aeronave_pais_fabricante     6188 non-null   object \n",
            " 13  aeronave_pais_registro       6188 non-null   object \n",
            " 14  aeronave_registro_categoria  6188 non-null   object \n",
            " 15  aeronave_registro_segmento   6188 non-null   object \n",
            " 16  aeronave_voo_origem          6187 non-null   object \n",
            " 17  aeronave_voo_destino         6187 non-null   object \n",
            " 18  aeronave_fase_operacao       6188 non-null   object \n",
            " 19  aeronave_tipo_operacao       6188 non-null   object \n",
            " 20  aeronave_nivel_dano          6188 non-null   object \n",
            " 21  aeronave_fatalidades_total   6188 non-null   int64  \n",
            "dtypes: float64(2), int64(3), object(17)\n",
            "memory usage: 1.1+ MB\n"
          ]
        }
      ]
    },
    {
      "cell_type": "code",
      "source": [
        "Aeronave.describe().round(2)\n"
      ],
      "metadata": {
        "colab": {
          "base_uri": "https://localhost:8080/",
          "height": 300
        },
        "id": "l1Rfv7nfMzWB",
        "outputId": "cdeb5396-b329-4989-b5be-179f83ba1177"
      },
      "execution_count": 9,
      "outputs": [
        {
          "output_type": "execute_result",
          "data": {
            "text/plain": [
              "       aeronave_pmd  aeronave_pmd_categoria  aeronave_assentos  \\\n",
              "count       6188.00                 6188.00            6010.00   \n",
              "mean       15448.45                15448.45              28.58   \n",
              "std        35404.18                35404.18              55.65   \n",
              "min            0.00                    0.00               0.00   \n",
              "25%         1157.00                 1157.00               2.00   \n",
              "50%         2073.00                 2073.00               6.00   \n",
              "75%         6033.00                 6033.00              10.75   \n",
              "max       396895.00               396895.00             384.00   \n",
              "\n",
              "       aeronave_ano_fabricacao  aeronave_fatalidades_total  \n",
              "count                  6005.00                     6188.00  \n",
              "mean                   1891.23                        0.15  \n",
              "std                     454.20                        0.67  \n",
              "min                       0.00                        0.00  \n",
              "25%                    1978.00                        0.00  \n",
              "50%                    1992.00                        0.00  \n",
              "75%                    2008.00                        0.00  \n",
              "max                    9999.00                       16.00  "
            ],
            "text/html": [
              "\n",
              "  <div id=\"df-bef6ce52-a788-4dbd-8b6c-371ecba68456\" class=\"colab-df-container\">\n",
              "    <div>\n",
              "<style scoped>\n",
              "    .dataframe tbody tr th:only-of-type {\n",
              "        vertical-align: middle;\n",
              "    }\n",
              "\n",
              "    .dataframe tbody tr th {\n",
              "        vertical-align: top;\n",
              "    }\n",
              "\n",
              "    .dataframe thead th {\n",
              "        text-align: right;\n",
              "    }\n",
              "</style>\n",
              "<table border=\"1\" class=\"dataframe\">\n",
              "  <thead>\n",
              "    <tr style=\"text-align: right;\">\n",
              "      <th></th>\n",
              "      <th>aeronave_pmd</th>\n",
              "      <th>aeronave_pmd_categoria</th>\n",
              "      <th>aeronave_assentos</th>\n",
              "      <th>aeronave_ano_fabricacao</th>\n",
              "      <th>aeronave_fatalidades_total</th>\n",
              "    </tr>\n",
              "  </thead>\n",
              "  <tbody>\n",
              "    <tr>\n",
              "      <th>count</th>\n",
              "      <td>6188.00</td>\n",
              "      <td>6188.00</td>\n",
              "      <td>6010.00</td>\n",
              "      <td>6005.00</td>\n",
              "      <td>6188.00</td>\n",
              "    </tr>\n",
              "    <tr>\n",
              "      <th>mean</th>\n",
              "      <td>15448.45</td>\n",
              "      <td>15448.45</td>\n",
              "      <td>28.58</td>\n",
              "      <td>1891.23</td>\n",
              "      <td>0.15</td>\n",
              "    </tr>\n",
              "    <tr>\n",
              "      <th>std</th>\n",
              "      <td>35404.18</td>\n",
              "      <td>35404.18</td>\n",
              "      <td>55.65</td>\n",
              "      <td>454.20</td>\n",
              "      <td>0.67</td>\n",
              "    </tr>\n",
              "    <tr>\n",
              "      <th>min</th>\n",
              "      <td>0.00</td>\n",
              "      <td>0.00</td>\n",
              "      <td>0.00</td>\n",
              "      <td>0.00</td>\n",
              "      <td>0.00</td>\n",
              "    </tr>\n",
              "    <tr>\n",
              "      <th>25%</th>\n",
              "      <td>1157.00</td>\n",
              "      <td>1157.00</td>\n",
              "      <td>2.00</td>\n",
              "      <td>1978.00</td>\n",
              "      <td>0.00</td>\n",
              "    </tr>\n",
              "    <tr>\n",
              "      <th>50%</th>\n",
              "      <td>2073.00</td>\n",
              "      <td>2073.00</td>\n",
              "      <td>6.00</td>\n",
              "      <td>1992.00</td>\n",
              "      <td>0.00</td>\n",
              "    </tr>\n",
              "    <tr>\n",
              "      <th>75%</th>\n",
              "      <td>6033.00</td>\n",
              "      <td>6033.00</td>\n",
              "      <td>10.75</td>\n",
              "      <td>2008.00</td>\n",
              "      <td>0.00</td>\n",
              "    </tr>\n",
              "    <tr>\n",
              "      <th>max</th>\n",
              "      <td>396895.00</td>\n",
              "      <td>396895.00</td>\n",
              "      <td>384.00</td>\n",
              "      <td>9999.00</td>\n",
              "      <td>16.00</td>\n",
              "    </tr>\n",
              "  </tbody>\n",
              "</table>\n",
              "</div>\n",
              "    <div class=\"colab-df-buttons\">\n",
              "\n",
              "  <div class=\"colab-df-container\">\n",
              "    <button class=\"colab-df-convert\" onclick=\"convertToInteractive('df-bef6ce52-a788-4dbd-8b6c-371ecba68456')\"\n",
              "            title=\"Convert this dataframe to an interactive table.\"\n",
              "            style=\"display:none;\">\n",
              "\n",
              "  <svg xmlns=\"http://www.w3.org/2000/svg\" height=\"24px\" viewBox=\"0 -960 960 960\">\n",
              "    <path d=\"M120-120v-720h720v720H120Zm60-500h600v-160H180v160Zm220 220h160v-160H400v160Zm0 220h160v-160H400v160ZM180-400h160v-160H180v160Zm440 0h160v-160H620v160ZM180-180h160v-160H180v160Zm440 0h160v-160H620v160Z\"/>\n",
              "  </svg>\n",
              "    </button>\n",
              "\n",
              "  <style>\n",
              "    .colab-df-container {\n",
              "      display:flex;\n",
              "      gap: 12px;\n",
              "    }\n",
              "\n",
              "    .colab-df-convert {\n",
              "      background-color: #E8F0FE;\n",
              "      border: none;\n",
              "      border-radius: 50%;\n",
              "      cursor: pointer;\n",
              "      display: none;\n",
              "      fill: #1967D2;\n",
              "      height: 32px;\n",
              "      padding: 0 0 0 0;\n",
              "      width: 32px;\n",
              "    }\n",
              "\n",
              "    .colab-df-convert:hover {\n",
              "      background-color: #E2EBFA;\n",
              "      box-shadow: 0px 1px 2px rgba(60, 64, 67, 0.3), 0px 1px 3px 1px rgba(60, 64, 67, 0.15);\n",
              "      fill: #174EA6;\n",
              "    }\n",
              "\n",
              "    .colab-df-buttons div {\n",
              "      margin-bottom: 4px;\n",
              "    }\n",
              "\n",
              "    [theme=dark] .colab-df-convert {\n",
              "      background-color: #3B4455;\n",
              "      fill: #D2E3FC;\n",
              "    }\n",
              "\n",
              "    [theme=dark] .colab-df-convert:hover {\n",
              "      background-color: #434B5C;\n",
              "      box-shadow: 0px 1px 3px 1px rgba(0, 0, 0, 0.15);\n",
              "      filter: drop-shadow(0px 1px 2px rgba(0, 0, 0, 0.3));\n",
              "      fill: #FFFFFF;\n",
              "    }\n",
              "  </style>\n",
              "\n",
              "    <script>\n",
              "      const buttonEl =\n",
              "        document.querySelector('#df-bef6ce52-a788-4dbd-8b6c-371ecba68456 button.colab-df-convert');\n",
              "      buttonEl.style.display =\n",
              "        google.colab.kernel.accessAllowed ? 'block' : 'none';\n",
              "\n",
              "      async function convertToInteractive(key) {\n",
              "        const element = document.querySelector('#df-bef6ce52-a788-4dbd-8b6c-371ecba68456');\n",
              "        const dataTable =\n",
              "          await google.colab.kernel.invokeFunction('convertToInteractive',\n",
              "                                                    [key], {});\n",
              "        if (!dataTable) return;\n",
              "\n",
              "        const docLinkHtml = 'Like what you see? Visit the ' +\n",
              "          '<a target=\"_blank\" href=https://colab.research.google.com/notebooks/data_table.ipynb>data table notebook</a>'\n",
              "          + ' to learn more about interactive tables.';\n",
              "        element.innerHTML = '';\n",
              "        dataTable['output_type'] = 'display_data';\n",
              "        await google.colab.output.renderOutput(dataTable, element);\n",
              "        const docLink = document.createElement('div');\n",
              "        docLink.innerHTML = docLinkHtml;\n",
              "        element.appendChild(docLink);\n",
              "      }\n",
              "    </script>\n",
              "  </div>\n",
              "\n",
              "\n",
              "<div id=\"df-75e70716-1c9f-4b84-ac47-8cb9de7518fd\">\n",
              "  <button class=\"colab-df-quickchart\" onclick=\"quickchart('df-75e70716-1c9f-4b84-ac47-8cb9de7518fd')\"\n",
              "            title=\"Suggest charts\"\n",
              "            style=\"display:none;\">\n",
              "\n",
              "<svg xmlns=\"http://www.w3.org/2000/svg\" height=\"24px\"viewBox=\"0 0 24 24\"\n",
              "     width=\"24px\">\n",
              "    <g>\n",
              "        <path d=\"M19 3H5c-1.1 0-2 .9-2 2v14c0 1.1.9 2 2 2h14c1.1 0 2-.9 2-2V5c0-1.1-.9-2-2-2zM9 17H7v-7h2v7zm4 0h-2V7h2v10zm4 0h-2v-4h2v4z\"/>\n",
              "    </g>\n",
              "</svg>\n",
              "  </button>\n",
              "\n",
              "<style>\n",
              "  .colab-df-quickchart {\n",
              "      --bg-color: #E8F0FE;\n",
              "      --fill-color: #1967D2;\n",
              "      --hover-bg-color: #E2EBFA;\n",
              "      --hover-fill-color: #174EA6;\n",
              "      --disabled-fill-color: #AAA;\n",
              "      --disabled-bg-color: #DDD;\n",
              "  }\n",
              "\n",
              "  [theme=dark] .colab-df-quickchart {\n",
              "      --bg-color: #3B4455;\n",
              "      --fill-color: #D2E3FC;\n",
              "      --hover-bg-color: #434B5C;\n",
              "      --hover-fill-color: #FFFFFF;\n",
              "      --disabled-bg-color: #3B4455;\n",
              "      --disabled-fill-color: #666;\n",
              "  }\n",
              "\n",
              "  .colab-df-quickchart {\n",
              "    background-color: var(--bg-color);\n",
              "    border: none;\n",
              "    border-radius: 50%;\n",
              "    cursor: pointer;\n",
              "    display: none;\n",
              "    fill: var(--fill-color);\n",
              "    height: 32px;\n",
              "    padding: 0;\n",
              "    width: 32px;\n",
              "  }\n",
              "\n",
              "  .colab-df-quickchart:hover {\n",
              "    background-color: var(--hover-bg-color);\n",
              "    box-shadow: 0 1px 2px rgba(60, 64, 67, 0.3), 0 1px 3px 1px rgba(60, 64, 67, 0.15);\n",
              "    fill: var(--button-hover-fill-color);\n",
              "  }\n",
              "\n",
              "  .colab-df-quickchart-complete:disabled,\n",
              "  .colab-df-quickchart-complete:disabled:hover {\n",
              "    background-color: var(--disabled-bg-color);\n",
              "    fill: var(--disabled-fill-color);\n",
              "    box-shadow: none;\n",
              "  }\n",
              "\n",
              "  .colab-df-spinner {\n",
              "    border: 2px solid var(--fill-color);\n",
              "    border-color: transparent;\n",
              "    border-bottom-color: var(--fill-color);\n",
              "    animation:\n",
              "      spin 1s steps(1) infinite;\n",
              "  }\n",
              "\n",
              "  @keyframes spin {\n",
              "    0% {\n",
              "      border-color: transparent;\n",
              "      border-bottom-color: var(--fill-color);\n",
              "      border-left-color: var(--fill-color);\n",
              "    }\n",
              "    20% {\n",
              "      border-color: transparent;\n",
              "      border-left-color: var(--fill-color);\n",
              "      border-top-color: var(--fill-color);\n",
              "    }\n",
              "    30% {\n",
              "      border-color: transparent;\n",
              "      border-left-color: var(--fill-color);\n",
              "      border-top-color: var(--fill-color);\n",
              "      border-right-color: var(--fill-color);\n",
              "    }\n",
              "    40% {\n",
              "      border-color: transparent;\n",
              "      border-right-color: var(--fill-color);\n",
              "      border-top-color: var(--fill-color);\n",
              "    }\n",
              "    60% {\n",
              "      border-color: transparent;\n",
              "      border-right-color: var(--fill-color);\n",
              "    }\n",
              "    80% {\n",
              "      border-color: transparent;\n",
              "      border-right-color: var(--fill-color);\n",
              "      border-bottom-color: var(--fill-color);\n",
              "    }\n",
              "    90% {\n",
              "      border-color: transparent;\n",
              "      border-bottom-color: var(--fill-color);\n",
              "    }\n",
              "  }\n",
              "</style>\n",
              "\n",
              "  <script>\n",
              "    async function quickchart(key) {\n",
              "      const quickchartButtonEl =\n",
              "        document.querySelector('#' + key + ' button');\n",
              "      quickchartButtonEl.disabled = true;  // To prevent multiple clicks.\n",
              "      quickchartButtonEl.classList.add('colab-df-spinner');\n",
              "      try {\n",
              "        const charts = await google.colab.kernel.invokeFunction(\n",
              "            'suggestCharts', [key], {});\n",
              "      } catch (error) {\n",
              "        console.error('Error during call to suggestCharts:', error);\n",
              "      }\n",
              "      quickchartButtonEl.classList.remove('colab-df-spinner');\n",
              "      quickchartButtonEl.classList.add('colab-df-quickchart-complete');\n",
              "    }\n",
              "    (() => {\n",
              "      let quickchartButtonEl =\n",
              "        document.querySelector('#df-75e70716-1c9f-4b84-ac47-8cb9de7518fd button');\n",
              "      quickchartButtonEl.style.display =\n",
              "        google.colab.kernel.accessAllowed ? 'block' : 'none';\n",
              "    })();\n",
              "  </script>\n",
              "</div>\n",
              "\n",
              "    </div>\n",
              "  </div>\n"
            ],
            "application/vnd.google.colaboratory.intrinsic+json": {
              "type": "dataframe",
              "summary": "{\n  \"name\": \"Aeronave\",\n  \"rows\": 8,\n  \"fields\": [\n    {\n      \"column\": \"aeronave_pmd\",\n      \"properties\": {\n        \"dtype\": \"number\",\n        \"std\": 137466.33595728097,\n        \"min\": 0.0,\n        \"max\": 396895.0,\n        \"num_unique_values\": 8,\n        \"samples\": [\n          15448.45,\n          2073.0,\n          6188.0\n        ],\n        \"semantic_type\": \"\",\n        \"description\": \"\"\n      }\n    },\n    {\n      \"column\": \"aeronave_pmd_categoria\",\n      \"properties\": {\n        \"dtype\": \"number\",\n        \"std\": 137466.33595728097,\n        \"min\": 0.0,\n        \"max\": 396895.0,\n        \"num_unique_values\": 8,\n        \"samples\": [\n          15448.45,\n          2073.0,\n          6188.0\n        ],\n        \"semantic_type\": \"\",\n        \"description\": \"\"\n      }\n    },\n    {\n      \"column\": \"aeronave_assentos\",\n      \"properties\": {\n        \"dtype\": \"number\",\n        \"std\": 2104.2569662930564,\n        \"min\": 0.0,\n        \"max\": 6010.0,\n        \"num_unique_values\": 8,\n        \"samples\": [\n          28.58,\n          6.0,\n          6010.0\n        ],\n        \"semantic_type\": \"\",\n        \"description\": \"\"\n      }\n    },\n    {\n      \"column\": \"aeronave_ano_fabricacao\",\n      \"properties\": {\n        \"dtype\": \"number\",\n        \"std\": 3332.903180032334,\n        \"min\": 0.0,\n        \"max\": 9999.0,\n        \"num_unique_values\": 8,\n        \"samples\": [\n          1891.23,\n          1992.0,\n          6005.0\n        ],\n        \"semantic_type\": \"\",\n        \"description\": \"\"\n      }\n    },\n    {\n      \"column\": \"aeronave_fatalidades_total\",\n      \"properties\": {\n        \"dtype\": \"number\",\n        \"std\": 2186.9458993684057,\n        \"min\": 0.0,\n        \"max\": 6188.0,\n        \"num_unique_values\": 5,\n        \"samples\": [\n          0.15,\n          16.0,\n          0.67\n        ],\n        \"semantic_type\": \"\",\n        \"description\": \"\"\n      }\n    }\n  ]\n}"
            }
          },
          "metadata": {},
          "execution_count": 9
        }
      ]
    },
    {
      "cell_type": "code",
      "source": [
        "Aeronave.aeronave_assentos.round(0).fillna(0).astype(int)"
      ],
      "metadata": {
        "id": "YNJ_h1aNHPfF",
        "colab": {
          "base_uri": "https://localhost:8080/"
        },
        "outputId": "afad35a6-1344-47f3-ee76-4fe82ea2d688"
      },
      "execution_count": 10,
      "outputs": [
        {
          "output_type": "execute_result",
          "data": {
            "text/plain": [
              "codigo_ocorrencia2\n",
              "39115      4\n",
              "39155      8\n",
              "39156     73\n",
              "39158      5\n",
              "39176    184\n",
              "        ... \n",
              "80249    192\n",
              "80251    192\n",
              "80257      4\n",
              "80258      7\n",
              "80259    183\n",
              "Name: aeronave_assentos, Length: 6188, dtype: int64"
            ]
          },
          "metadata": {},
          "execution_count": 10
        }
      ]
    },
    {
      "cell_type": "code",
      "source": [
        "Aeronave.aeronave_ano_fabricacao.round(0).fillna(0).astype(int)"
      ],
      "metadata": {
        "id": "dAFJAPt0I1UT",
        "colab": {
          "base_uri": "https://localhost:8080/"
        },
        "outputId": "52f2c8b2-bf22-4b6b-d12d-105718df5831"
      },
      "execution_count": 11,
      "outputs": [
        {
          "output_type": "execute_result",
          "data": {
            "text/plain": [
              "codigo_ocorrencia2\n",
              "39115    1979\n",
              "39155    1979\n",
              "39156    2008\n",
              "39158    1984\n",
              "39176    2001\n",
              "         ... \n",
              "80249       0\n",
              "80251       0\n",
              "80257    2010\n",
              "80258    1985\n",
              "80259       0\n",
              "Name: aeronave_ano_fabricacao, Length: 6188, dtype: int64"
            ]
          },
          "metadata": {},
          "execution_count": 11
        }
      ]
    },
    {
      "cell_type": "code",
      "source": [
        "Aeronave.aeronave_fatalidades_total.sum()"
      ],
      "metadata": {
        "colab": {
          "base_uri": "https://localhost:8080/"
        },
        "id": "MXJ147qodiyW",
        "outputId": "a4836624-3e1f-4bdd-f3ab-6a12cb88c5dc"
      },
      "execution_count": 12,
      "outputs": [
        {
          "output_type": "execute_result",
          "data": {
            "text/plain": [
              "912"
            ]
          },
          "metadata": {},
          "execution_count": 12
        }
      ]
    },
    {
      "cell_type": "code",
      "source": [
        "#Reemplazo valores faltantes con media, mediana y moda\n",
        "Aeronave['aeronave_assentos'] = Aeronave['aeronave_assentos'].fillna(0)\n",
        "print(Aeronave['aeronave_assentos'].mean())"
      ],
      "metadata": {
        "colab": {
          "base_uri": "https://localhost:8080/"
        },
        "id": "V7HJp0iAAuF-",
        "outputId": "d6aa346f-09ca-46c1-a56d-eb4ac4cf57cb"
      },
      "execution_count": 13,
      "outputs": [
        {
          "output_type": "stream",
          "name": "stdout",
          "text": [
            "27.759857789269553\n"
          ]
        }
      ]
    },
    {
      "cell_type": "code",
      "source": [
        "Aeronave['aeronave_ano_fabricacao'] = Aeronave['aeronave_ano_fabricacao'].fillna(0)\n",
        "print(Aeronave['aeronave_ano_fabricacao'].median())"
      ],
      "metadata": {
        "colab": {
          "base_uri": "https://localhost:8080/"
        },
        "id": "kJlXPglhBMlD",
        "outputId": "7c695254-e15e-405f-a7ea-7eab04937a6d"
      },
      "execution_count": 14,
      "outputs": [
        {
          "output_type": "stream",
          "name": "stdout",
          "text": [
            "1992.0\n"
          ]
        }
      ]
    },
    {
      "cell_type": "code",
      "source": [
        "Aeronave['aeronave_motor_tipo'] = Aeronave['aeronave_motor_tipo'].fillna(0)\n",
        "print(Aeronave['aeronave_motor_tipo'].mode())"
      ],
      "metadata": {
        "colab": {
          "base_uri": "https://localhost:8080/"
        },
        "id": "vS9vAhTiBzyS",
        "outputId": "b4d01afa-175c-4aba-cccd-f301548291c1"
      },
      "execution_count": 15,
      "outputs": [
        {
          "output_type": "stream",
          "name": "stdout",
          "text": [
            "0    PISTÃO\n",
            "Name: aeronave_motor_tipo, dtype: object\n"
          ]
        }
      ]
    },
    {
      "cell_type": "code",
      "source": [
        "Aeronave['aeronave_nivel_dano'].replace({'***':'DESCONOCIDO'},inplace=True )"
      ],
      "metadata": {
        "id": "ZVu-are0k0P1"
      },
      "execution_count": 16,
      "outputs": []
    },
    {
      "cell_type": "code",
      "source": [
        "Aeronave.aeronave_nivel_dano.value_counts()"
      ],
      "metadata": {
        "colab": {
          "base_uri": "https://localhost:8080/"
        },
        "id": "y7FckUEKoUIP",
        "outputId": "bc608a81-df67-44ff-a5e1-ed027febb96b"
      },
      "execution_count": 17,
      "outputs": [
        {
          "output_type": "execute_result",
          "data": {
            "text/plain": [
              "aeronave_nivel_dano\n",
              "NENHUM         2207\n",
              "LEVE           1845\n",
              "SUBSTANCIAL    1713\n",
              "DESTRUÍDA       368\n",
              "DESCONOCIDO      55\n",
              "Name: count, dtype: int64"
            ]
          },
          "metadata": {},
          "execution_count": 17
        }
      ]
    },
    {
      "cell_type": "code",
      "source": [
        "Aeronave.isnull().sum()"
      ],
      "metadata": {
        "colab": {
          "base_uri": "https://localhost:8080/"
        },
        "id": "-GkFAa7o4y9N",
        "outputId": "b4e7ed83-d32d-4a7f-c388-c4c39685893b"
      },
      "execution_count": 18,
      "outputs": [
        {
          "output_type": "execute_result",
          "data": {
            "text/plain": [
              "aeronave_matricula             0\n",
              "aeronave_operador_categoria    0\n",
              "aeronave_tipo_veiculo          0\n",
              "aeronave_fabricante            0\n",
              "aeronave_modelo                0\n",
              "aeronave_tipo_icao             0\n",
              "aeronave_motor_tipo            0\n",
              "aeronave_motor_quantidade      0\n",
              "aeronave_pmd                   0\n",
              "aeronave_pmd_categoria         0\n",
              "aeronave_assentos              0\n",
              "aeronave_ano_fabricacao        0\n",
              "aeronave_pais_fabricante       0\n",
              "aeronave_pais_registro         0\n",
              "aeronave_registro_categoria    0\n",
              "aeronave_registro_segmento     0\n",
              "aeronave_voo_origem            1\n",
              "aeronave_voo_destino           1\n",
              "aeronave_fase_operacao         0\n",
              "aeronave_tipo_operacao         0\n",
              "aeronave_nivel_dano            0\n",
              "aeronave_fatalidades_total     0\n",
              "dtype: int64"
            ]
          },
          "metadata": {},
          "execution_count": 18
        }
      ]
    },
    {
      "cell_type": "code",
      "source": [
        "Aeronave.aeronave_fatalidades_total.value_counts()"
      ],
      "metadata": {
        "colab": {
          "base_uri": "https://localhost:8080/"
        },
        "id": "0-t47Scx6q9l",
        "outputId": "45723dad-66d0-4638-8791-2a3f739d5021"
      },
      "execution_count": 19,
      "outputs": [
        {
          "output_type": "execute_result",
          "data": {
            "text/plain": [
              "aeronave_fatalidades_total\n",
              "0     5733\n",
              "1      232\n",
              "2      126\n",
              "3       33\n",
              "4       31\n",
              "5       17\n",
              "6        7\n",
              "7        4\n",
              "8        3\n",
              "16       1\n",
              "10       1\n",
              "Name: count, dtype: int64"
            ]
          },
          "metadata": {},
          "execution_count": 19
        }
      ]
    },
    {
      "cell_type": "code",
      "source": [
        "#completo valores faltantes categoricos\n",
        "Aeronave['aeronave_voo_origem'] = Aeronave['aeronave_voo_origem'].fillna('DESCONOCIDO')\n",
        "print(Aeronave['aeronave_voo_origem'])"
      ],
      "metadata": {
        "colab": {
          "base_uri": "https://localhost:8080/"
        },
        "id": "adSzcam_eHSX",
        "outputId": "f92d7b6e-289f-42a4-93e7-b711f3eb161f"
      },
      "execution_count": 20,
      "outputs": [
        {
          "output_type": "stream",
          "name": "stdout",
          "text": [
            "codigo_ocorrencia2\n",
            "39115            BRIGADEIRO ARARIPE MACEDO\n",
            "39155                    FORA DE AERODROMO\n",
            "39156                          AFONSO PENA\n",
            "39158                    FORA DE AERODROMO\n",
            "39176                    FORA DE AERODROMO\n",
            "                       ...                \n",
            "80249                        EDUARDO GOMES\n",
            "80251    VAL DE CANS / JÚLIO CEZAR RIBEIRO\n",
            "80257                                  ***\n",
            "80258                     TANGARÁ DA SERRA\n",
            "80259                        SALGADO FILHO\n",
            "Name: aeronave_voo_origem, Length: 6188, dtype: object\n"
          ]
        }
      ]
    },
    {
      "cell_type": "code",
      "source": [
        "Aeronave.isnull().sum()"
      ],
      "metadata": {
        "colab": {
          "base_uri": "https://localhost:8080/"
        },
        "id": "bNoOgkZ6CaR9",
        "outputId": "cdbaeb29-35cc-4d02-f39e-c45cb02723a5"
      },
      "execution_count": 21,
      "outputs": [
        {
          "output_type": "execute_result",
          "data": {
            "text/plain": [
              "aeronave_matricula             0\n",
              "aeronave_operador_categoria    0\n",
              "aeronave_tipo_veiculo          0\n",
              "aeronave_fabricante            0\n",
              "aeronave_modelo                0\n",
              "aeronave_tipo_icao             0\n",
              "aeronave_motor_tipo            0\n",
              "aeronave_motor_quantidade      0\n",
              "aeronave_pmd                   0\n",
              "aeronave_pmd_categoria         0\n",
              "aeronave_assentos              0\n",
              "aeronave_ano_fabricacao        0\n",
              "aeronave_pais_fabricante       0\n",
              "aeronave_pais_registro         0\n",
              "aeronave_registro_categoria    0\n",
              "aeronave_registro_segmento     0\n",
              "aeronave_voo_origem            0\n",
              "aeronave_voo_destino           1\n",
              "aeronave_fase_operacao         0\n",
              "aeronave_tipo_operacao         0\n",
              "aeronave_nivel_dano            0\n",
              "aeronave_fatalidades_total     0\n",
              "dtype: int64"
            ]
          },
          "metadata": {},
          "execution_count": 21
        }
      ]
    },
    {
      "cell_type": "code",
      "source": [
        "Aeronave['aeronave_voo_destino'] = Aeronave['aeronave_voo_origem'].fillna('DESCONOCIDO')\n",
        "print(Aeronave['aeronave_voo_destino'])"
      ],
      "metadata": {
        "colab": {
          "base_uri": "https://localhost:8080/"
        },
        "id": "eDCqEQXzd62E",
        "outputId": "46a576fe-a771-4d51-b8a2-a845db83481f"
      },
      "execution_count": 22,
      "outputs": [
        {
          "output_type": "stream",
          "name": "stdout",
          "text": [
            "codigo_ocorrencia2\n",
            "39115            BRIGADEIRO ARARIPE MACEDO\n",
            "39155                    FORA DE AERODROMO\n",
            "39156                          AFONSO PENA\n",
            "39158                    FORA DE AERODROMO\n",
            "39176                    FORA DE AERODROMO\n",
            "                       ...                \n",
            "80249                        EDUARDO GOMES\n",
            "80251    VAL DE CANS / JÚLIO CEZAR RIBEIRO\n",
            "80257                                  ***\n",
            "80258                     TANGARÁ DA SERRA\n",
            "80259                        SALGADO FILHO\n",
            "Name: aeronave_voo_destino, Length: 6188, dtype: object\n"
          ]
        }
      ]
    },
    {
      "cell_type": "code",
      "source": [
        "Aeronave.isnull().sum()"
      ],
      "metadata": {
        "colab": {
          "base_uri": "https://localhost:8080/"
        },
        "id": "NLqxe40cDnuC",
        "outputId": "886cd2ae-4f08-4369-882d-142c673dab7a"
      },
      "execution_count": 23,
      "outputs": [
        {
          "output_type": "execute_result",
          "data": {
            "text/plain": [
              "aeronave_matricula             0\n",
              "aeronave_operador_categoria    0\n",
              "aeronave_tipo_veiculo          0\n",
              "aeronave_fabricante            0\n",
              "aeronave_modelo                0\n",
              "aeronave_tipo_icao             0\n",
              "aeronave_motor_tipo            0\n",
              "aeronave_motor_quantidade      0\n",
              "aeronave_pmd                   0\n",
              "aeronave_pmd_categoria         0\n",
              "aeronave_assentos              0\n",
              "aeronave_ano_fabricacao        0\n",
              "aeronave_pais_fabricante       0\n",
              "aeronave_pais_registro         0\n",
              "aeronave_registro_categoria    0\n",
              "aeronave_registro_segmento     0\n",
              "aeronave_voo_origem            0\n",
              "aeronave_voo_destino           0\n",
              "aeronave_fase_operacao         0\n",
              "aeronave_tipo_operacao         0\n",
              "aeronave_nivel_dano            0\n",
              "aeronave_fatalidades_total     0\n",
              "dtype: int64"
            ]
          },
          "metadata": {},
          "execution_count": 23
        }
      ]
    },
    {
      "cell_type": "code",
      "source": [
        "#Reemplazo caracteres"
      ],
      "metadata": {
        "id": "21C09Y5ZC2qt"
      },
      "execution_count": null,
      "outputs": []
    },
    {
      "cell_type": "code",
      "source": [
        "Aeronave['aeronave_motor_quantidade'] = Aeronave['aeronave_motor_quantidade'].replace('***','DESCONOCIDO')"
      ],
      "metadata": {
        "id": "YH2HbdiMnWN-"
      },
      "execution_count": 24,
      "outputs": []
    },
    {
      "cell_type": "code",
      "source": [
        "Aeronave['aeronave_operador_categoria']= Aeronave ['aeronave_operador_categoria'].replace('***', 'DESCONOCIDO')"
      ],
      "metadata": {
        "id": "tOt_-mJFGJCh"
      },
      "execution_count": 25,
      "outputs": []
    },
    {
      "cell_type": "code",
      "source": [
        "añofabric_int=Aeronave.aeronave_ano_fabricacao.astype(int)"
      ],
      "metadata": {
        "id": "0mz_bLVJ03ut"
      },
      "execution_count": 26,
      "outputs": []
    },
    {
      "cell_type": "code",
      "source": [
        "#Coloco a cada variable su dtype\n",
        "Aeronave[['aeronave_operador_categoria','aeronave_tipo_veiculo','aeronave_fabricante']]=Aeronave[['aeronave_operador_categoria','aeronave_tipo_veiculo','aeronave_fabricante']].astype('category')"
      ],
      "metadata": {
        "id": "7A3jsv8dFYCh"
      },
      "execution_count": 27,
      "outputs": []
    },
    {
      "cell_type": "code",
      "source": [
        "Aeronave[['aeronave_modelo','aeronave_motor_quantidade']]=Aeronave[['aeronave_modelo','aeronave_motor_quantidade']].astype('category')"
      ],
      "metadata": {
        "id": "04UxRYkiKIAL"
      },
      "execution_count": 28,
      "outputs": []
    },
    {
      "cell_type": "code",
      "source": [
        "Aeronave['aeronave_registro_categoria']=Aeronave['aeronave_registro_categoria'].astype('category')"
      ],
      "metadata": {
        "id": "6k9G3wOxLauB"
      },
      "execution_count": 29,
      "outputs": []
    },
    {
      "cell_type": "code",
      "source": [
        "Aeronave['aeronave_fase_operacao']=Aeronave['aeronave_fase_operacao'].astype('category')"
      ],
      "metadata": {
        "id": "w67Mv-AVLsdD"
      },
      "execution_count": 30,
      "outputs": []
    },
    {
      "cell_type": "code",
      "source": [
        "Aeronave['aeronave_tipo_operacao']=Aeronave['aeronave_tipo_operacao'].astype('category')"
      ],
      "metadata": {
        "id": "BhymzApRL4Kb"
      },
      "execution_count": 31,
      "outputs": []
    },
    {
      "cell_type": "code",
      "source": [
        "Aeronave['aeronave_nivel_dano']=Aeronave['aeronave_nivel_dano'].astype('category')"
      ],
      "metadata": {
        "id": "CfeYQ56aL-1N"
      },
      "execution_count": 32,
      "outputs": []
    },
    {
      "cell_type": "markdown",
      "source": [
        "**¿Cuantas muertes ocurrieron según el tipo de motor de la aviación?**"
      ],
      "metadata": {
        "id": "m5KRp8NSo89-"
      }
    },
    {
      "cell_type": "code",
      "source": [
        "plt.figure(figsize=(5,3))\n",
        "sns.pointplot( data=Aeronave, x='aeronave_fatalidades_total', y=\"aeronave_motor_quantidade\",errorbar=(\"pi\", 100), capsize=.4,color='blue', linestyle=\"none\", marker=\"D\")\n",
        "plt.xlabel('Fatalidades', fontsize=10)\n",
        "plt.ylabel('Tipo de motor', fontsize=10)"
      ],
      "metadata": {
        "colab": {
          "base_uri": "https://localhost:8080/",
          "height": 329
        },
        "id": "PAzf2wp2Dwpz",
        "outputId": "881db055-eb85-423f-9630-51092dca9f7d"
      },
      "execution_count": 33,
      "outputs": [
        {
          "output_type": "execute_result",
          "data": {
            "text/plain": [
              "Text(0, 0.5, 'Tipo de motor')"
            ]
          },
          "metadata": {},
          "execution_count": 33
        },
        {
          "output_type": "display_data",
          "data": {
            "text/plain": [
              "<Figure size 500x300 with 1 Axes>"
            ],
            "image/png": "[encoded data removed]"
          },
          "metadata": {}
        }
      ]
    },
    {
      "cell_type": "markdown",
      "source": [
        "En este conjunto de datos estan contemplados diferentes aviaciones, tanto aviones como helicópteros y algunas más.\n",
        "Podemos observar según el gráfico que la mayor proporción de los aviones son bimotor y después tenemos el monomotor.\n",
        "El gráfico representa un porcentaje de las personas fallecidas según el avion en el que viajaban."
      ],
      "metadata": {
        "id": "dqp1t5ykIgeZ"
      }
    },
    {
      "cell_type": "markdown",
      "source": [
        "**¿Cuantas muertes por nivel de daño del avion?**"
      ],
      "metadata": {
        "id": "o7hXmuCc6B1k"
      }
    },
    {
      "cell_type": "code",
      "source": [
        "plt.figure(figsize=(7,4))\n",
        "sns.barplot(Aeronave, x=\"aeronave_fatalidades_total\", y=\"aeronave_nivel_dano\", hue=\"aeronave_fatalidades_total\", legend=False, color=\"blue\")\n",
        "plt.xlabel('Fatalidades', fontsize=10)\n",
        "plt.ylabel('Nivel de daño de la aeronave', fontsize=10)"
      ],
      "metadata": {
        "colab": {
          "base_uri": "https://localhost:8080/",
          "height": 495
        },
        "id": "HHtbEm480n4g",
        "outputId": "b2d0bc2d-b74e-426f-c205-902832bfd8bf"
      },
      "execution_count": 34,
      "outputs": [
        {
          "output_type": "stream",
          "name": "stderr",
          "text": [
            "<ipython-input-34-61a6e386800f>:2: FutureWarning: \n",
            "\n",
            "Setting a gradient palette using color= is deprecated and will be removed in v0.14.0. Set `palette='dark:blue'` for the same effect.\n",
            "\n",
            "  sns.barplot(Aeronave, x=\"aeronave_fatalidades_total\", y=\"aeronave_nivel_dano\", hue=\"aeronave_fatalidades_total\", legend=False, color=\"blue\")\n"
          ]
        },
        {
          "output_type": "execute_result",
          "data": {
            "text/plain": [
              "Text(0, 0.5, 'Nivel de daño de la aeronave')"
            ]
          },
          "metadata": {},
          "execution_count": 34
        },
        {
          "output_type": "display_data",
          "data": {
            "text/plain": [
              "<Figure size 700x400 with 1 Axes>"
            ],
            "image/png": "[encoded data removed]"
          },
          "metadata": {}
        }
      ]
    },
    {
      "cell_type": "markdown",
      "source": [
        "El número mas representativo de nuestro gráfico nos indica que el mayor número de muertes esta dado en aeronaves que fueron destruidas.\n",
        "En segundo lugar el mayor numero de muertes es dado en el nivel de daño Substancial.\n",
        "\n"
      ],
      "metadata": {
        "id": "rX0DEJf7HKLm"
      }
    },
    {
      "cell_type": "markdown",
      "source": [
        "**El daño substancial se define como el daño o rotura que afecta la resistencia estructural, el rendimiento o las características de vuelo de la aeronave. Esto incluye daños que normalmente requerirían una reparación importante o el reemplazo del componente afectado.**\n",
        "\n",
        "Daño Estructural:\n",
        "\n",
        "-Incluye daños a partes importantes de la estructura de la aeronave, como el fuselaje, las alas, la cola o los trenes de aterrizaje.\n",
        "Pérdida de Rendimiento:\n",
        "\n",
        "-Daños que afectan significativamente la capacidad de la aeronave para volar, como la pérdida de control de vuelo o la reducción drástica en la maniobrabilidad.\n",
        "Necesidad de Reparación Mayor:\n",
        "\n",
        "-Daños que requieren reparaciones extensivas, no solo ajustes menores o reemplazo de componentes menores. Esto implica que la aeronave no puede volver a estar operativa sin una intervención considerable.\n",
        "Fallas en Sistemas Críticos:\n",
        "\n",
        "-Daños a sistemas esenciales para el funcionamiento seguro de la aeronave, como los sistemas hidráulicos, eléctricos, de navegación o de control de vuelo."
      ],
      "metadata": {
        "id": "NuPiJ5YGH_Lv"
      }
    },
    {
      "cell_type": "markdown",
      "source": [
        "### Tabla 2 del conjunto de datasets"
      ],
      "metadata": {
        "id": "peSVmJ0emlbs"
      }
    },
    {
      "cell_type": "code",
      "source": [
        "Factor_contribuyente= pd.read_excel('/content/drive/MyDrive/Data Science 1/fator_contribuinte brasil 3.xlsx')\n",
        "Factor_contribuyente"
      ],
      "metadata": {
        "colab": {
          "base_uri": "https://localhost:8080/",
          "height": 424
        },
        "id": "xAC5xtPTLFsL",
        "outputId": "fe7646bf-1bfe-4d17-c4e1-f133611f6fb0"
      },
      "execution_count": 35,
      "outputs": [
        {
          "output_type": "execute_result",
          "data": {
            "text/plain": [
              "      codigo_ocorrencia3                   fator_nome  \\\n",
              "0                  39115        APLICAÇÃO DE COMANDOS   \n",
              "1                  39115      JULGAMENTO DE PILOTAGEM   \n",
              "2                  39115                    PERCEPÇÃO   \n",
              "3                  39115          PLANEJAMENTO DE VOO   \n",
              "4                  39115  POUCA EXPERIÊNCIA DO PILOTO   \n",
              "...                  ...                          ...   \n",
              "4480               79713                      ATITUDE   \n",
              "4481               79713      JULGAMENTO DE PILOTAGEM   \n",
              "4482               79713                      MEMÓRIA   \n",
              "4483               79713           PROCESSO DECISÓRIO   \n",
              "4484               79713         SUPERVISÃO GERENCIAL   \n",
              "\n",
              "                 fator_aspecto   fator_condicionante         fator_area  \n",
              "0     DESEMPENHO DO SER HUMANO  OPERAÇÃO DA AERONAVE  FATOR OPERACIONAL  \n",
              "1     DESEMPENHO DO SER HUMANO  OPERAÇÃO DA AERONAVE  FATOR OPERACIONAL  \n",
              "2          ASPECTO PSICOLÓGICO            INDIVIDUAL       FATOR HUMANO  \n",
              "3     DESEMPENHO DO SER HUMANO  OPERAÇÃO DA AERONAVE  FATOR OPERACIONAL  \n",
              "4     DESEMPENHO DO SER HUMANO  OPERAÇÃO DA AERONAVE  FATOR OPERACIONAL  \n",
              "...                        ...                   ...                ...  \n",
              "4480       ASPECTO PSICOLÓGICO            INDIVIDUAL       FATOR HUMANO  \n",
              "4481  DESEMPENHO DO SER HUMANO  OPERAÇÃO DA AERONAVE  FATOR OPERACIONAL  \n",
              "4482       ASPECTO PSICOLÓGICO            INDIVIDUAL       FATOR HUMANO  \n",
              "4483       ASPECTO PSICOLÓGICO            INDIVIDUAL       FATOR HUMANO  \n",
              "4484  DESEMPENHO DO SER HUMANO  OPERAÇÃO DA AERONAVE  FATOR OPERACIONAL  \n",
              "\n",
              "[4485 rows x 5 columns]"
            ],
            "text/html": [
              "\n",
              "  <div id=\"df-f0009af6-be65-47d7-96b1-c5cccb124e06\" class=\"colab-df-container\">\n",
              "    <div>\n",
              "<style scoped>\n",
              "    .dataframe tbody tr th:only-of-type {\n",
              "        vertical-align: middle;\n",
              "    }\n",
              "\n",
              "    .dataframe tbody tr th {\n",
              "        vertical-align: top;\n",
              "    }\n",
              "\n",
              "    .dataframe thead th {\n",
              "        text-align: right;\n",
              "    }\n",
              "</style>\n",
              "<table border=\"1\" class=\"dataframe\">\n",
              "  <thead>\n",
              "    <tr style=\"text-align: right;\">\n",
              "      <th></th>\n",
              "      <th>codigo_ocorrencia3</th>\n",
              "      <th>fator_nome</th>\n",
              "      <th>fator_aspecto</th>\n",
              "      <th>fator_condicionante</th>\n",
              "      <th>fator_area</th>\n",
              "    </tr>\n",
              "  </thead>\n",
              "  <tbody>\n",
              "    <tr>\n",
              "      <th>0</th>\n",
              "      <td>39115</td>\n",
              "      <td>APLICAÇÃO DE COMANDOS</td>\n",
              "      <td>DESEMPENHO DO SER HUMANO</td>\n",
              "      <td>OPERAÇÃO DA AERONAVE</td>\n",
              "      <td>FATOR OPERACIONAL</td>\n",
              "    </tr>\n",
              "    <tr>\n",
              "      <th>1</th>\n",
              "      <td>39115</td>\n",
              "      <td>JULGAMENTO DE PILOTAGEM</td>\n",
              "      <td>DESEMPENHO DO SER HUMANO</td>\n",
              "      <td>OPERAÇÃO DA AERONAVE</td>\n",
              "      <td>FATOR OPERACIONAL</td>\n",
              "    </tr>\n",
              "    <tr>\n",
              "      <th>2</th>\n",
              "      <td>39115</td>\n",
              "      <td>PERCEPÇÃO</td>\n",
              "      <td>ASPECTO PSICOLÓGICO</td>\n",
              "      <td>INDIVIDUAL</td>\n",
              "      <td>FATOR HUMANO</td>\n",
              "    </tr>\n",
              "    <tr>\n",
              "      <th>3</th>\n",
              "      <td>39115</td>\n",
              "      <td>PLANEJAMENTO DE VOO</td>\n",
              "      <td>DESEMPENHO DO SER HUMANO</td>\n",
              "      <td>OPERAÇÃO DA AERONAVE</td>\n",
              "      <td>FATOR OPERACIONAL</td>\n",
              "    </tr>\n",
              "    <tr>\n",
              "      <th>4</th>\n",
              "      <td>39115</td>\n",
              "      <td>POUCA EXPERIÊNCIA DO PILOTO</td>\n",
              "      <td>DESEMPENHO DO SER HUMANO</td>\n",
              "      <td>OPERAÇÃO DA AERONAVE</td>\n",
              "      <td>FATOR OPERACIONAL</td>\n",
              "    </tr>\n",
              "    <tr>\n",
              "      <th>...</th>\n",
              "      <td>...</td>\n",
              "      <td>...</td>\n",
              "      <td>...</td>\n",
              "      <td>...</td>\n",
              "      <td>...</td>\n",
              "    </tr>\n",
              "    <tr>\n",
              "      <th>4480</th>\n",
              "      <td>79713</td>\n",
              "      <td>ATITUDE</td>\n",
              "      <td>ASPECTO PSICOLÓGICO</td>\n",
              "      <td>INDIVIDUAL</td>\n",
              "      <td>FATOR HUMANO</td>\n",
              "    </tr>\n",
              "    <tr>\n",
              "      <th>4481</th>\n",
              "      <td>79713</td>\n",
              "      <td>JULGAMENTO DE PILOTAGEM</td>\n",
              "      <td>DESEMPENHO DO SER HUMANO</td>\n",
              "      <td>OPERAÇÃO DA AERONAVE</td>\n",
              "      <td>FATOR OPERACIONAL</td>\n",
              "    </tr>\n",
              "    <tr>\n",
              "      <th>4482</th>\n",
              "      <td>79713</td>\n",
              "      <td>MEMÓRIA</td>\n",
              "      <td>ASPECTO PSICOLÓGICO</td>\n",
              "      <td>INDIVIDUAL</td>\n",
              "      <td>FATOR HUMANO</td>\n",
              "    </tr>\n",
              "    <tr>\n",
              "      <th>4483</th>\n",
              "      <td>79713</td>\n",
              "      <td>PROCESSO DECISÓRIO</td>\n",
              "      <td>ASPECTO PSICOLÓGICO</td>\n",
              "      <td>INDIVIDUAL</td>\n",
              "      <td>FATOR HUMANO</td>\n",
              "    </tr>\n",
              "    <tr>\n",
              "      <th>4484</th>\n",
              "      <td>79713</td>\n",
              "      <td>SUPERVISÃO GERENCIAL</td>\n",
              "      <td>DESEMPENHO DO SER HUMANO</td>\n",
              "      <td>OPERAÇÃO DA AERONAVE</td>\n",
              "      <td>FATOR OPERACIONAL</td>\n",
              "    </tr>\n",
              "  </tbody>\n",
              "</table>\n",
              "<p>4485 rows × 5 columns</p>\n",
              "</div>\n",
              "    <div class=\"colab-df-buttons\">\n",
              "\n",
              "  <div class=\"colab-df-container\">\n",
              "    <button class=\"colab-df-convert\" onclick=\"convertToInteractive('df-f0009af6-be65-47d7-96b1-c5cccb124e06')\"\n",
              "            title=\"Convert this dataframe to an interactive table.\"\n",
              "            style=\"display:none;\">\n",
              "\n",
              "  <svg xmlns=\"http://www.w3.org/2000/svg\" height=\"24px\" viewBox=\"0 -960 960 960\">\n",
              "    <path d=\"M120-120v-720h720v720H120Zm60-500h600v-160H180v160Zm220 220h160v-160H400v160Zm0 220h160v-160H400v160ZM180-400h160v-160H180v160Zm440 0h160v-160H620v160ZM180-180h160v-160H180v160Zm440 0h160v-160H620v160Z\"/>\n",
              "  </svg>\n",
              "    </button>\n",
              "\n",
              "  <style>\n",
              "    .colab-df-container {\n",
              "      display:flex;\n",
              "      gap: 12px;\n",
              "    }\n",
              "\n",
              "    .colab-df-convert {\n",
              "      background-color: #E8F0FE;\n",
              "      border: none;\n",
              "      border-radius: 50%;\n",
              "      cursor: pointer;\n",
              "      display: none;\n",
              "      fill: #1967D2;\n",
              "      height: 32px;\n",
              "      padding: 0 0 0 0;\n",
              "      width: 32px;\n",
              "    }\n",
              "\n",
              "    .colab-df-convert:hover {\n",
              "      background-color: #E2EBFA;\n",
              "      box-shadow: 0px 1px 2px rgba(60, 64, 67, 0.3), 0px 1px 3px 1px rgba(60, 64, 67, 0.15);\n",
              "      fill: #174EA6;\n",
              "    }\n",
              "\n",
              "    .colab-df-buttons div {\n",
              "      margin-bottom: 4px;\n",
              "    }\n",
              "\n",
              "    [theme=dark] .colab-df-convert {\n",
              "      background-color: #3B4455;\n",
              "      fill: #D2E3FC;\n",
              "    }\n",
              "\n",
              "    [theme=dark] .colab-df-convert:hover {\n",
              "      background-color: #434B5C;\n",
              "      box-shadow: 0px 1px 3px 1px rgba(0, 0, 0, 0.15);\n",
              "      filter: drop-shadow(0px 1px 2px rgba(0, 0, 0, 0.3));\n",
              "      fill: #FFFFFF;\n",
              "    }\n",
              "  </style>\n",
              "\n",
              "    <script>\n",
              "      const buttonEl =\n",
              "        document.querySelector('#df-f0009af6-be65-47d7-96b1-c5cccb124e06 button.colab-df-convert');\n",
              "      buttonEl.style.display =\n",
              "        google.colab.kernel.accessAllowed ? 'block' : 'none';\n",
              "\n",
              "      async function convertToInteractive(key) {\n",
              "        const element = document.querySelector('#df-f0009af6-be65-47d7-96b1-c5cccb124e06');\n",
              "        const dataTable =\n",
              "          await google.colab.kernel.invokeFunction('convertToInteractive',\n",
              "                                                    [key], {});\n",
              "        if (!dataTable) return;\n",
              "\n",
              "        const docLinkHtml = 'Like what you see? Visit the ' +\n",
              "          '<a target=\"_blank\" href=https://colab.research.google.com/notebooks/data_table.ipynb>data table notebook</a>'\n",
              "          + ' to learn more about interactive tables.';\n",
              "        element.innerHTML = '';\n",
              "        dataTable['output_type'] = 'display_data';\n",
              "        await google.colab.output.renderOutput(dataTable, element);\n",
              "        const docLink = document.createElement('div');\n",
              "        docLink.innerHTML = docLinkHtml;\n",
              "        element.appendChild(docLink);\n",
              "      }\n",
              "    </script>\n",
              "  </div>\n",
              "\n",
              "\n",
              "<div id=\"df-e1a6b596-04a4-48ec-823e-965c14921835\">\n",
              "  <button class=\"colab-df-quickchart\" onclick=\"quickchart('df-e1a6b596-04a4-48ec-823e-965c14921835')\"\n",
              "            title=\"Suggest charts\"\n",
              "            style=\"display:none;\">\n",
              "\n",
              "<svg xmlns=\"http://www.w3.org/2000/svg\" height=\"24px\"viewBox=\"0 0 24 24\"\n",
              "     width=\"24px\">\n",
              "    <g>\n",
              "        <path d=\"M19 3H5c-1.1 0-2 .9-2 2v14c0 1.1.9 2 2 2h14c1.1 0 2-.9 2-2V5c0-1.1-.9-2-2-2zM9 17H7v-7h2v7zm4 0h-2V7h2v10zm4 0h-2v-4h2v4z\"/>\n",
              "    </g>\n",
              "</svg>\n",
              "  </button>\n",
              "\n",
              "<style>\n",
              "  .colab-df-quickchart {\n",
              "      --bg-color: #E8F0FE;\n",
              "      --fill-color: #1967D2;\n",
              "      --hover-bg-color: #E2EBFA;\n",
              "      --hover-fill-color: #174EA6;\n",
              "      --disabled-fill-color: #AAA;\n",
              "      --disabled-bg-color: #DDD;\n",
              "  }\n",
              "\n",
              "  [theme=dark] .colab-df-quickchart {\n",
              "      --bg-color: #3B4455;\n",
              "      --fill-color: #D2E3FC;\n",
              "      --hover-bg-color: #434B5C;\n",
              "      --hover-fill-color: #FFFFFF;\n",
              "      --disabled-bg-color: #3B4455;\n",
              "      --disabled-fill-color: #666;\n",
              "  }\n",
              "\n",
              "  .colab-df-quickchart {\n",
              "    background-color: var(--bg-color);\n",
              "    border: none;\n",
              "    border-radius: 50%;\n",
              "    cursor: pointer;\n",
              "    display: none;\n",
              "    fill: var(--fill-color);\n",
              "    height: 32px;\n",
              "    padding: 0;\n",
              "    width: 32px;\n",
              "  }\n",
              "\n",
              "  .colab-df-quickchart:hover {\n",
              "    background-color: var(--hover-bg-color);\n",
              "    box-shadow: 0 1px 2px rgba(60, 64, 67, 0.3), 0 1px 3px 1px rgba(60, 64, 67, 0.15);\n",
              "    fill: var(--button-hover-fill-color);\n",
              "  }\n",
              "\n",
              "  .colab-df-quickchart-complete:disabled,\n",
              "  .colab-df-quickchart-complete:disabled:hover {\n",
              "    background-color: var(--disabled-bg-color);\n",
              "    fill: var(--disabled-fill-color);\n",
              "    box-shadow: none;\n",
              "  }\n",
              "\n",
              "  .colab-df-spinner {\n",
              "    border: 2px solid var(--fill-color);\n",
              "    border-color: transparent;\n",
              "    border-bottom-color: var(--fill-color);\n",
              "    animation:\n",
              "      spin 1s steps(1) infinite;\n",
              "  }\n",
              "\n",
              "  @keyframes spin {\n",
              "    0% {\n",
              "      border-color: transparent;\n",
              "      border-bottom-color: var(--fill-color);\n",
              "      border-left-color: var(--fill-color);\n",
              "    }\n",
              "    20% {\n",
              "      border-color: transparent;\n",
              "      border-left-color: var(--fill-color);\n",
              "      border-top-color: var(--fill-color);\n",
              "    }\n",
              "    30% {\n",
              "      border-color: transparent;\n",
              "      border-left-color: var(--fill-color);\n",
              "      border-top-color: var(--fill-color);\n",
              "      border-right-color: var(--fill-color);\n",
              "    }\n",
              "    40% {\n",
              "      border-color: transparent;\n",
              "      border-right-color: var(--fill-color);\n",
              "      border-top-color: var(--fill-color);\n",
              "    }\n",
              "    60% {\n",
              "      border-color: transparent;\n",
              "      border-right-color: var(--fill-color);\n",
              "    }\n",
              "    80% {\n",
              "      border-color: transparent;\n",
              "      border-right-color: var(--fill-color);\n",
              "      border-bottom-color: var(--fill-color);\n",
              "    }\n",
              "    90% {\n",
              "      border-color: transparent;\n",
              "      border-bottom-color: var(--fill-color);\n",
              "    }\n",
              "  }\n",
              "</style>\n",
              "\n",
              "  <script>\n",
              "    async function quickchart(key) {\n",
              "      const quickchartButtonEl =\n",
              "        document.querySelector('#' + key + ' button');\n",
              "      quickchartButtonEl.disabled = true;  // To prevent multiple clicks.\n",
              "      quickchartButtonEl.classList.add('colab-df-spinner');\n",
              "      try {\n",
              "        const charts = await google.colab.kernel.invokeFunction(\n",
              "            'suggestCharts', [key], {});\n",
              "      } catch (error) {\n",
              "        console.error('Error during call to suggestCharts:', error);\n",
              "      }\n",
              "      quickchartButtonEl.classList.remove('colab-df-spinner');\n",
              "      quickchartButtonEl.classList.add('colab-df-quickchart-complete');\n",
              "    }\n",
              "    (() => {\n",
              "      let quickchartButtonEl =\n",
              "        document.querySelector('#df-e1a6b596-04a4-48ec-823e-965c14921835 button');\n",
              "      quickchartButtonEl.style.display =\n",
              "        google.colab.kernel.accessAllowed ? 'block' : 'none';\n",
              "    })();\n",
              "  </script>\n",
              "</div>\n",
              "\n",
              "  <div id=\"id_29cb61ca-48c0-4980-8b9d-1cff787a2615\">\n",
              "    <style>\n",
              "      .colab-df-generate {\n",
              "        background-color: #E8F0FE;\n",
              "        border: none;\n",
              "        border-radius: 50%;\n",
              "        cursor: pointer;\n",
              "        display: none;\n",
              "        fill: #1967D2;\n",
              "        height: 32px;\n",
              "        padding: 0 0 0 0;\n",
              "        width: 32px;\n",
              "      }\n",
              "\n",
              "      .colab-df-generate:hover {\n",
              "        background-color: #E2EBFA;\n",
              "        box-shadow: 0px 1px 2px rgba(60, 64, 67, 0.3), 0px 1px 3px 1px rgba(60, 64, 67, 0.15);\n",
              "        fill: #174EA6;\n",
              "      }\n",
              "\n",
              "      [theme=dark] .colab-df-generate {\n",
              "        background-color: #3B4455;\n",
              "        fill: #D2E3FC;\n",
              "      }\n",
              "\n",
              "      [theme=dark] .colab-df-generate:hover {\n",
              "        background-color: #434B5C;\n",
              "        box-shadow: 0px 1px 3px 1px rgba(0, 0, 0, 0.15);\n",
              "        filter: drop-shadow(0px 1px 2px rgba(0, 0, 0, 0.3));\n",
              "        fill: #FFFFFF;\n",
              "      }\n",
              "    </style>\n",
              "    <button class=\"colab-df-generate\" onclick=\"generateWithVariable('Factor_contribuyente')\"\n",
              "            title=\"Generate code using this dataframe.\"\n",
              "            style=\"display:none;\">\n",
              "\n",
              "  <svg xmlns=\"http://www.w3.org/2000/svg\" height=\"24px\"viewBox=\"0 0 24 24\"\n",
              "       width=\"24px\">\n",
              "    <path d=\"M7,19H8.4L18.45,9,17,7.55,7,17.6ZM5,21V16.75L18.45,3.32a2,2,0,0,1,2.83,0l1.4,1.43a1.91,1.91,0,0,1,.58,1.4,1.91,1.91,0,0,1-.58,1.4L9.25,21ZM18.45,9,17,7.55Zm-12,3A5.31,5.31,0,0,0,4.9,8.1,5.31,5.31,0,0,0,1,6.5,5.31,5.31,0,0,0,4.9,4.9,5.31,5.31,0,0,0,6.5,1,5.31,5.31,0,0,0,8.1,4.9,5.31,5.31,0,0,0,12,6.5,5.46,5.46,0,0,0,6.5,12Z\"/>\n",
              "  </svg>\n",
              "    </button>\n",
              "    <script>\n",
              "      (() => {\n",
              "      const buttonEl =\n",
              "        document.querySelector('#id_29cb61ca-48c0-4980-8b9d-1cff787a2615 button.colab-df-generate');\n",
              "      buttonEl.style.display =\n",
              "        google.colab.kernel.accessAllowed ? 'block' : 'none';\n",
              "\n",
              "      buttonEl.onclick = () => {\n",
              "        google.colab.notebook.generateWithVariable('Factor_contribuyente');\n",
              "      }\n",
              "      })();\n",
              "    </script>\n",
              "  </div>\n",
              "\n",
              "    </div>\n",
              "  </div>\n"
            ],
            "application/vnd.google.colaboratory.intrinsic+json": {
              "type": "dataframe",
              "variable_name": "Factor_contribuyente",
              "summary": "{\n  \"name\": \"Factor_contribuyente\",\n  \"rows\": 4485,\n  \"fields\": [\n    {\n      \"column\": \"codigo_ocorrencia3\",\n      \"properties\": {\n        \"dtype\": \"number\",\n        \"std\": 12625,\n        \"min\": 39115,\n        \"max\": 79713,\n        \"num_unique_values\": 1152,\n        \"samples\": [\n          44404,\n          53224,\n          50975\n        ],\n        \"semantic_type\": \"\",\n        \"description\": \"\"\n      }\n    },\n    {\n      \"column\": \"fator_nome\",\n      \"properties\": {\n        \"dtype\": \"category\",\n        \"num_unique_values\": 73,\n        \"samples\": [\n          \"POUCA EXPERI\\u00caNCIA DO PILOTO\",\n          \"PRESEN\\u00c7A DE AVE\",\n          \"ATITUDE\"\n        ],\n        \"semantic_type\": \"\",\n        \"description\": \"\"\n      }\n    },\n    {\n      \"column\": \"fator_aspecto\",\n      \"properties\": {\n        \"dtype\": \"category\",\n        \"num_unique_values\": 12,\n        \"samples\": [\n          \"INFRAESTRUTURA DE TR\\u00c1FEGO A\\u00c9REO\",\n          \"ASPECTO DE PROJETO\",\n          \"DESEMPENHO DO SER HUMANO\"\n        ],\n        \"semantic_type\": \"\",\n        \"description\": \"\"\n      }\n    },\n    {\n      \"column\": \"fator_condicionante\",\n      \"properties\": {\n        \"dtype\": \"category\",\n        \"num_unique_values\": 7,\n        \"samples\": [\n          \"OPERA\\u00c7\\u00c3O DA AERONAVE\",\n          \"INDIVIDUAL\",\n          \"***\"\n        ],\n        \"semantic_type\": \"\",\n        \"description\": \"\"\n      }\n    },\n    {\n      \"column\": \"fator_area\",\n      \"properties\": {\n        \"dtype\": \"category\",\n        \"num_unique_values\": 5,\n        \"samples\": [\n          \"FATOR HUMANO\",\n          \"***\",\n          \"FATOR MATERIAL\"\n        ],\n        \"semantic_type\": \"\",\n        \"description\": \"\"\n      }\n    }\n  ]\n}"
            }
          },
          "metadata": {},
          "execution_count": 35
        }
      ]
    },
    {
      "cell_type": "code",
      "source": [
        "Factor_contribuyente.info()"
      ],
      "metadata": {
        "colab": {
          "base_uri": "https://localhost:8080/"
        },
        "id": "9FPUVdL3ZQ-s",
        "outputId": "fd06d3de-bdba-4e0a-f67a-c0dc7f8afa21"
      },
      "execution_count": 36,
      "outputs": [
        {
          "output_type": "stream",
          "name": "stdout",
          "text": [
            "<class 'pandas.core.frame.DataFrame'>\n",
            "RangeIndex: 4485 entries, 0 to 4484\n",
            "Data columns (total 5 columns):\n",
            " #   Column               Non-Null Count  Dtype \n",
            "---  ------               --------------  ----- \n",
            " 0   codigo_ocorrencia3   4485 non-null   int64 \n",
            " 1   fator_nome           4485 non-null   object\n",
            " 2   fator_aspecto        4485 non-null   object\n",
            " 3   fator_condicionante  4485 non-null   object\n",
            " 4   fator_area           4485 non-null   object\n",
            "dtypes: int64(1), object(4)\n",
            "memory usage: 175.3+ KB\n"
          ]
        }
      ]
    },
    {
      "cell_type": "code",
      "source": [
        "Factor_contribuyente.fator_condicionante.value_counts()"
      ],
      "metadata": {
        "colab": {
          "base_uri": "https://localhost:8080/"
        },
        "id": "YNmQbFIHU2RU",
        "outputId": "8cf8b3fe-1556-4748-a114-df8584620880"
      },
      "execution_count": 37,
      "outputs": [
        {
          "output_type": "execute_result",
          "data": {
            "text/plain": [
              "fator_condicionante\n",
              "OPERAÇÃO DA AERONAVE                      2410\n",
              "INDIVIDUAL                                 817\n",
              "***                                        435\n",
              "ORGANIZACIONAL                             381\n",
              "MANUTENÇÃO DA AERONAVE                     265\n",
              "PSICOSSOCIAL                               152\n",
              "PRESTAÇÃO DE SERVIÇOS DE TRÁFEGO AÉREO      25\n",
              "Name: count, dtype: int64"
            ]
          },
          "metadata": {},
          "execution_count": 37
        }
      ]
    },
    {
      "cell_type": "code",
      "source": [
        "#Reemplazo valores faltantes\n",
        "Factor_contribuyente['fator_condicionante']= Factor_contribuyente['fator_condicionante'].fillna(0)\n",
        "print(Factor_contribuyente['fator_condicionante'].mode())"
      ],
      "metadata": {
        "colab": {
          "base_uri": "https://localhost:8080/"
        },
        "id": "rpgWe9fFaUxy",
        "outputId": "3acc6a94-422e-43d0-8a84-e5ff2a814627"
      },
      "execution_count": 38,
      "outputs": [
        {
          "output_type": "stream",
          "name": "stdout",
          "text": [
            "0    OPERAÇÃO DA AERONAVE\n",
            "Name: fator_condicionante, dtype: object\n"
          ]
        }
      ]
    },
    {
      "cell_type": "code",
      "source": [
        "Factor_contribuyente['fator_condicionante']=Factor_contribuyente['fator_condicionante'].astype('category')"
      ],
      "metadata": {
        "id": "dY-M3xQLapso"
      },
      "execution_count": 39,
      "outputs": []
    },
    {
      "cell_type": "code",
      "source": [
        "Factor_contribuyente.fator_area.value_counts()"
      ],
      "metadata": {
        "colab": {
          "base_uri": "https://localhost:8080/"
        },
        "id": "aKNMwgfOZBZ8",
        "outputId": "a7d57a3e-f9ad-420b-fd05-93ddf635a48b"
      },
      "execution_count": 40,
      "outputs": [
        {
          "output_type": "execute_result",
          "data": {
            "text/plain": [
              "fator_area\n",
              "FATOR OPERACIONAL    2911\n",
              "FATOR HUMANO         1445\n",
              "OUTRO                  72\n",
              "FATOR MATERIAL         29\n",
              "***                    28\n",
              "Name: count, dtype: int64"
            ]
          },
          "metadata": {},
          "execution_count": 40
        }
      ]
    },
    {
      "cell_type": "code",
      "source": [
        "Factor_contribuyente['fator_area'].replace({'***':'DESCONOCIDO'},inplace=True )"
      ],
      "metadata": {
        "id": "xzArXGwQ-bB5"
      },
      "execution_count": 41,
      "outputs": []
    },
    {
      "cell_type": "code",
      "source": [
        "Factor_contribuyente['fator_area']=Factor_contribuyente['fator_area'].astype('category')"
      ],
      "metadata": {
        "id": "ZTLZZvewavcK"
      },
      "execution_count": 42,
      "outputs": []
    },
    {
      "cell_type": "code",
      "source": [
        "Factor_contribuyente.fator_nome.value_counts()"
      ],
      "metadata": {
        "colab": {
          "base_uri": "https://localhost:8080/"
        },
        "id": "V_fUCPzKbHvY",
        "outputId": "2f80d71a-58af-4dfa-f20c-92e2b4a83a83"
      },
      "execution_count": 43,
      "outputs": [
        {
          "output_type": "execute_result",
          "data": {
            "text/plain": [
              "fator_nome\n",
              "JULGAMENTO DE PILOTAGEM          591\n",
              "APLICAÇÃO DE COMANDOS            412\n",
              "SUPERVISÃO GERENCIAL             353\n",
              "PLANEJAMENTO DE VOO              330\n",
              "MANUTENÇÃO DA AERONAVE           265\n",
              "                                ... \n",
              "EMPREGO DE MEIOS (ATS)             1\n",
              "USO ILÍCITO DE DROGAS              1\n",
              "VESTIMENTA INADEQUADA              1\n",
              "SUBSTITUIÇÃO NA POSIÇÃO (ATS)      1\n",
              "DOR                                1\n",
              "Name: count, Length: 73, dtype: int64"
            ]
          },
          "metadata": {},
          "execution_count": 43
        }
      ]
    },
    {
      "cell_type": "code",
      "source": [
        "#Cambio los dtypes\n",
        "Factor_contribuyente['fator_nome']=Factor_contribuyente['fator_nome'].astype('category')"
      ],
      "metadata": {
        "id": "jg1-U0fga7Ey"
      },
      "execution_count": 44,
      "outputs": []
    },
    {
      "cell_type": "code",
      "source": [
        "aspectos=Factor_contribuyente.fator_aspecto.value_counts().head(5)\n",
        "print(aspectos)"
      ],
      "metadata": {
        "colab": {
          "base_uri": "https://localhost:8080/"
        },
        "id": "kZIgehJ7cBc6",
        "outputId": "9ef2218f-6562-4022-88f4-5a997ad29116"
      },
      "execution_count": 45,
      "outputs": [
        {
          "output_type": "stream",
          "name": "stdout",
          "text": [
            "fator_aspecto\n",
            "DESEMPENHO DO SER HUMANO                          2700\n",
            "ASPECTO PSICOLÓGICO                               1350\n",
            "ELEMENTOS RELACIONADOS AO AMBIENTE OPERACIONAL     124\n",
            "ASPECTO MÉDICO                                      83\n",
            "INFRAESTRUTURA AEROPORTUÁRIA                        78\n",
            "Name: count, dtype: int64\n"
          ]
        }
      ]
    },
    {
      "cell_type": "code",
      "source": [
        "Factor_contribuyente.isnull().sum()"
      ],
      "metadata": {
        "colab": {
          "base_uri": "https://localhost:8080/"
        },
        "id": "OaiGETk6vcPO",
        "outputId": "60f080c4-a2cc-4134-9719-70dc046ae7b4"
      },
      "execution_count": 46,
      "outputs": [
        {
          "output_type": "execute_result",
          "data": {
            "text/plain": [
              "codigo_ocorrencia3     0\n",
              "fator_nome             0\n",
              "fator_aspecto          0\n",
              "fator_condicionante    0\n",
              "fator_area             0\n",
              "dtype: int64"
            ]
          },
          "metadata": {},
          "execution_count": 46
        }
      ]
    },
    {
      "cell_type": "markdown",
      "source": [
        "**¿Qué cantidad de errores se comenten según los factores principales?**\n",
        "\n",
        "\n"
      ],
      "metadata": {
        "id": "OHrybjsk-4Fc"
      }
    },
    {
      "cell_type": "code",
      "source": [
        "sns.violinplot(data=Factor_contribuyente, y=\"fator_area\",color=\"seagreen\")\n",
        "plt.ylabel('Área', fontsize=10)"
      ],
      "metadata": {
        "colab": {
          "base_uri": "https://localhost:8080/",
          "height": 429
        },
        "id": "pbNAK3x_wTVZ",
        "outputId": "1a716ede-5081-4f83-c38d-c293e4ec4240"
      },
      "execution_count": 47,
      "outputs": [
        {
          "output_type": "execute_result",
          "data": {
            "text/plain": [
              "Text(0, 0.5, 'Área')"
            ]
          },
          "metadata": {},
          "execution_count": 47
        },
        {
          "output_type": "display_data",
          "data": {
            "text/plain": [
              "<Figure size 640x480 with 1 Axes>"
            ],
            "image/png": "[encoded data removed]"
          },
          "metadata": {}
        }
      ]
    },
    {
      "cell_type": "markdown",
      "source": [
        "Podemos observar en el gráfico como los errores más comunes son cometidos, mayormente, por factores operacionales, siguiendo luego, con los errores de factor humano.\n",
        "\n",
        "* FATOR OPERACIONAL  2911\n",
        "* FATOR HUMANO         1445\n",
        "* OUTRO                  72\n",
        "* FATOR MATERIAL         29\n",
        "\n",
        "\n"
      ],
      "metadata": {
        "id": "mmfbqjF2GEch"
      }
    },
    {
      "cell_type": "markdown",
      "source": [
        "### Tabla 3 del conjunto de datasets"
      ],
      "metadata": {
        "id": "vcqloIPVmYCe"
      }
    },
    {
      "cell_type": "code",
      "source": [
        "Ocorrencia = pd.read_excel ('/content/drive/MyDrive/Data Science 1/ocorrencia brasil2.xlsx', index_col=0)\n",
        "Ocorrencia"
      ],
      "metadata": {
        "colab": {
          "base_uri": "https://localhost:8080/",
          "height": 492
        },
        "id": "EMCUBWlaLdN8",
        "outputId": "79696802-05df-4493-89b7-46a9cb76df9a"
      },
      "execution_count": 48,
      "outputs": [
        {
          "output_type": "execute_result",
          "data": {
            "text/plain": [
              "                   codigo_ocorrencia1  codigo_ocorrencia2  codigo_ocorrencia3  \\\n",
              "codigo_ocorrencia                                                               \n",
              "40211                           40211               40211               40211   \n",
              "40349                           40349               40349               40349   \n",
              "40351                           40351               40351               40351   \n",
              "39527                           39527               39527               39527   \n",
              "40324                           40324               40324               40324   \n",
              "...                               ...                 ...                 ...   \n",
              "80245                           80245               80245               80245   \n",
              "80247                           80247               80247               80247   \n",
              "80251                           80251               80251               80251   \n",
              "80257                           80257               80257               80257   \n",
              "80259                           80259               80259               80259   \n",
              "\n",
              "                   codigo_ocorrencia4 ocorrencia_classificacao  \\\n",
              "codigo_ocorrencia                                                \n",
              "40211                           40211                INCIDENTE   \n",
              "40349                           40349                INCIDENTE   \n",
              "40351                           40351                INCIDENTE   \n",
              "39527                           39527                 ACIDENTE   \n",
              "40324                           40324                INCIDENTE   \n",
              "...                               ...                      ...   \n",
              "80245                           80245                INCIDENTE   \n",
              "80247                           80247                INCIDENTE   \n",
              "80251                           80251                INCIDENTE   \n",
              "80257                           80257                 ACIDENTE   \n",
              "80259                           80259                INCIDENTE   \n",
              "\n",
              "                  ocorrencia_latitude ocorrencia_longitude  \\\n",
              "codigo_ocorrencia                                            \n",
              "40211                             ***                  ***   \n",
              "40349                             NaN                  NaN   \n",
              "40351                             NaN                  NaN   \n",
              "39527                   -131066666667        -559930555556   \n",
              "40324                             NaN                  NaN   \n",
              "...                               ...                  ...   \n",
              "80245                         -812638             -3492277   \n",
              "80247                  -8713611111111       -6390277777777   \n",
              "80251                  -1384722222222       -4847888888888   \n",
              "80257                       -15430833            -54699722   \n",
              "80259                  -2300694444444       -4713444444444   \n",
              "\n",
              "                    ocorrencia_cidade ocorrencia_uf ocorrencia_pais  \\\n",
              "codigo_ocorrencia                                                     \n",
              "40211                  RIO DE JANEIRO            RJ          BRASIL   \n",
              "40349                           BELÉM            PA          BRASIL   \n",
              "40351                  RIO DE JANEIRO            RJ          BRASIL   \n",
              "39527              LUCAS DO RIO VERDE            MT          BRASIL   \n",
              "40324                         PELOTAS            RS          BRASIL   \n",
              "...                               ...           ...             ...   \n",
              "80245                          RECIFE            PE          BRASIL   \n",
              "80247                     PORTO VELHO            RO          BRASIL   \n",
              "80251                           BELÉM            PA          BRASIL   \n",
              "80257                      DOM AQUINO            MT          BRASIL   \n",
              "80259                        CAMPINAS            SP          BRASIL   \n",
              "\n",
              "                  ocorrencia_aerodromo ocorrencia_dia ocorrencia_hora  \\\n",
              "codigo_ocorrencia                                                       \n",
              "40211                             ****     2010-01-03        12:00:00   \n",
              "40349                             SBBE     2010-01-03        11:05:00   \n",
              "40351                             SBRJ     2010-01-03        03:00:00   \n",
              "39527                             ****     2010-01-04        17:30:00   \n",
              "40324                             SBPK     2010-01-05        19:25:00   \n",
              "...                                ...            ...             ...   \n",
              "80245                             SBRF     2021-08-15        15:05:00   \n",
              "80247                             SBPV     2021-08-16        02:30:00   \n",
              "80251                             SBBE     2021-08-17        15:45:00   \n",
              "80257                             ****     2021-08-18        16:00:00   \n",
              "80259                             SBKP     2021-08-18        12:45:00   \n",
              "\n",
              "                  investigacao_aeronave_liberada investigacao_status  \\\n",
              "codigo_ocorrencia                                                      \n",
              "40211                                        SIM          FINALIZADA   \n",
              "40349                                        SIM          FINALIZADA   \n",
              "40351                                        SIM          FINALIZADA   \n",
              "39527                                        SIM          FINALIZADA   \n",
              "40324                                        SIM          FINALIZADA   \n",
              "...                                          ...                 ...   \n",
              "80245                                        SIM          FINALIZADA   \n",
              "80247                                        SIM          FINALIZADA   \n",
              "80251                                        SIM          FINALIZADA   \n",
              "80257                                        SIM          FINALIZADA   \n",
              "80259                                        SIM          FINALIZADA   \n",
              "\n",
              "                  divulgacao_relatorio_numero divulgacao_relatorio_publicado  \\\n",
              "codigo_ocorrencia                                                              \n",
              "40211                                     ***                            NÃO   \n",
              "40349                                     NaN                            NÃO   \n",
              "40351                                     NaN                            NÃO   \n",
              "39527                       A-539/CENIPA/2018                            SIM   \n",
              "40324                                     NaN                            NÃO   \n",
              "...                                       ...                            ...   \n",
              "80245                                     ***                            NÃO   \n",
              "80247                                     ***                            NÃO   \n",
              "80251                                     ***                            NÃO   \n",
              "80257                                     ***                            NÃO   \n",
              "80259                                     ***                            NÃO   \n",
              "\n",
              "                  divulgacao_dia_publicacao  total_recomendacoes  \\\n",
              "codigo_ocorrencia                                                  \n",
              "40211                                   NaT                    0   \n",
              "40349                                   NaT                    0   \n",
              "40351                                   NaT                    0   \n",
              "39527                            2019-10-28                    0   \n",
              "40324                                   NaT                    0   \n",
              "...                                     ...                  ...   \n",
              "80245                                   NaT                    0   \n",
              "80247                                   NaT                    0   \n",
              "80251                                   NaT                    0   \n",
              "80257                                   NaT                    0   \n",
              "80259                                   NaT                    0   \n",
              "\n",
              "                   total_aeronaves_envolvidas ocorrencia_saida_pista  \n",
              "codigo_ocorrencia                                                     \n",
              "40211                                       1                    NÃO  \n",
              "40349                                       1                    NÃO  \n",
              "40351                                       1                    NÃO  \n",
              "39527                                       1                    NÃO  \n",
              "40324                                       1                    NÃO  \n",
              "...                                       ...                    ...  \n",
              "80245                                       1                    NÃO  \n",
              "80247                                       1                    NÃO  \n",
              "80251                                       1                    NÃO  \n",
              "80257                                       1                    NÃO  \n",
              "80259                                       1                    NÃO  \n",
              "\n",
              "[6114 rows x 21 columns]"
            ],
            "text/html": [
              "\n",
              "  <div id=\"df-85475318-4801-4f8d-a1ae-02dfc1fbd669\" class=\"colab-df-container\">\n",
              "    <div>\n",
              "<style scoped>\n",
              "    .dataframe tbody tr th:only-of-type {\n",
              "        vertical-align: middle;\n",
              "    }\n",
              "\n",
              "    .dataframe tbody tr th {\n",
              "        vertical-align: top;\n",
              "    }\n",
              "\n",
              "    .dataframe thead th {\n",
              "        text-align: right;\n",
              "    }\n",
              "</style>\n",
              "<table border=\"1\" class=\"dataframe\">\n",
              "  <thead>\n",
              "    <tr style=\"text-align: right;\">\n",
              "      <th></th>\n",
              "      <th>codigo_ocorrencia1</th>\n",
              "      <th>codigo_ocorrencia2</th>\n",
              "      <th>codigo_ocorrencia3</th>\n",
              "      <th>codigo_ocorrencia4</th>\n",
              "      <th>ocorrencia_classificacao</th>\n",
              "      <th>ocorrencia_latitude</th>\n",
              "      <th>ocorrencia_longitude</th>\n",
              "      <th>ocorrencia_cidade</th>\n",
              "      <th>ocorrencia_uf</th>\n",
              "      <th>ocorrencia_pais</th>\n",
              "      <th>ocorrencia_aerodromo</th>\n",
              "      <th>ocorrencia_dia</th>\n",
              "      <th>ocorrencia_hora</th>\n",
              "      <th>investigacao_aeronave_liberada</th>\n",
              "      <th>investigacao_status</th>\n",
              "      <th>divulgacao_relatorio_numero</th>\n",
              "      <th>divulgacao_relatorio_publicado</th>\n",
              "      <th>divulgacao_dia_publicacao</th>\n",
              "      <th>total_recomendacoes</th>\n",
              "      <th>total_aeronaves_envolvidas</th>\n",
              "      <th>ocorrencia_saida_pista</th>\n",
              "    </tr>\n",
              "    <tr>\n",
              "      <th>codigo_ocorrencia</th>\n",
              "      <th></th>\n",
              "      <th></th>\n",
              "      <th></th>\n",
              "      <th></th>\n",
              "      <th></th>\n",
              "      <th></th>\n",
              "      <th></th>\n",
              "      <th></th>\n",
              "      <th></th>\n",
              "      <th></th>\n",
              "      <th></th>\n",
              "      <th></th>\n",
              "      <th></th>\n",
              "      <th></th>\n",
              "      <th></th>\n",
              "      <th></th>\n",
              "      <th></th>\n",
              "      <th></th>\n",
              "      <th></th>\n",
              "      <th></th>\n",
              "      <th></th>\n",
              "    </tr>\n",
              "  </thead>\n",
              "  <tbody>\n",
              "    <tr>\n",
              "      <th>40211</th>\n",
              "      <td>40211</td>\n",
              "      <td>40211</td>\n",
              "      <td>40211</td>\n",
              "      <td>40211</td>\n",
              "      <td>INCIDENTE</td>\n",
              "      <td>***</td>\n",
              "      <td>***</td>\n",
              "      <td>RIO DE JANEIRO</td>\n",
              "      <td>RJ</td>\n",
              "      <td>BRASIL</td>\n",
              "      <td>****</td>\n",
              "      <td>2010-01-03</td>\n",
              "      <td>12:00:00</td>\n",
              "      <td>SIM</td>\n",
              "      <td>FINALIZADA</td>\n",
              "      <td>***</td>\n",
              "      <td>NÃO</td>\n",
              "      <td>NaT</td>\n",
              "      <td>0</td>\n",
              "      <td>1</td>\n",
              "      <td>NÃO</td>\n",
              "    </tr>\n",
              "    <tr>\n",
              "      <th>40349</th>\n",
              "      <td>40349</td>\n",
              "      <td>40349</td>\n",
              "      <td>40349</td>\n",
              "      <td>40349</td>\n",
              "      <td>INCIDENTE</td>\n",
              "      <td>NaN</td>\n",
              "      <td>NaN</td>\n",
              "      <td>BELÉM</td>\n",
              "      <td>PA</td>\n",
              "      <td>BRASIL</td>\n",
              "      <td>SBBE</td>\n",
              "      <td>2010-01-03</td>\n",
              "      <td>11:05:00</td>\n",
              "      <td>SIM</td>\n",
              "      <td>FINALIZADA</td>\n",
              "      <td>NaN</td>\n",
              "      <td>NÃO</td>\n",
              "      <td>NaT</td>\n",
              "      <td>0</td>\n",
              "      <td>1</td>\n",
              "      <td>NÃO</td>\n",
              "    </tr>\n",
              "    <tr>\n",
              "      <th>40351</th>\n",
              "      <td>40351</td>\n",
              "      <td>40351</td>\n",
              "      <td>40351</td>\n",
              "      <td>40351</td>\n",
              "      <td>INCIDENTE</td>\n",
              "      <td>NaN</td>\n",
              "      <td>NaN</td>\n",
              "      <td>RIO DE JANEIRO</td>\n",
              "      <td>RJ</td>\n",
              "      <td>BRASIL</td>\n",
              "      <td>SBRJ</td>\n",
              "      <td>2010-01-03</td>\n",
              "      <td>03:00:00</td>\n",
              "      <td>SIM</td>\n",
              "      <td>FINALIZADA</td>\n",
              "      <td>NaN</td>\n",
              "      <td>NÃO</td>\n",
              "      <td>NaT</td>\n",
              "      <td>0</td>\n",
              "      <td>1</td>\n",
              "      <td>NÃO</td>\n",
              "    </tr>\n",
              "    <tr>\n",
              "      <th>39527</th>\n",
              "      <td>39527</td>\n",
              "      <td>39527</td>\n",
              "      <td>39527</td>\n",
              "      <td>39527</td>\n",
              "      <td>ACIDENTE</td>\n",
              "      <td>-131066666667</td>\n",
              "      <td>-559930555556</td>\n",
              "      <td>LUCAS DO RIO VERDE</td>\n",
              "      <td>MT</td>\n",
              "      <td>BRASIL</td>\n",
              "      <td>****</td>\n",
              "      <td>2010-01-04</td>\n",
              "      <td>17:30:00</td>\n",
              "      <td>SIM</td>\n",
              "      <td>FINALIZADA</td>\n",
              "      <td>A-539/CENIPA/2018</td>\n",
              "      <td>SIM</td>\n",
              "      <td>2019-10-28</td>\n",
              "      <td>0</td>\n",
              "      <td>1</td>\n",
              "      <td>NÃO</td>\n",
              "    </tr>\n",
              "    <tr>\n",
              "      <th>40324</th>\n",
              "      <td>40324</td>\n",
              "      <td>40324</td>\n",
              "      <td>40324</td>\n",
              "      <td>40324</td>\n",
              "      <td>INCIDENTE</td>\n",
              "      <td>NaN</td>\n",
              "      <td>NaN</td>\n",
              "      <td>PELOTAS</td>\n",
              "      <td>RS</td>\n",
              "      <td>BRASIL</td>\n",
              "      <td>SBPK</td>\n",
              "      <td>2010-01-05</td>\n",
              "      <td>19:25:00</td>\n",
              "      <td>SIM</td>\n",
              "      <td>FINALIZADA</td>\n",
              "      <td>NaN</td>\n",
              "      <td>NÃO</td>\n",
              "      <td>NaT</td>\n",
              "      <td>0</td>\n",
              "      <td>1</td>\n",
              "      <td>NÃO</td>\n",
              "    </tr>\n",
              "    <tr>\n",
              "      <th>...</th>\n",
              "      <td>...</td>\n",
              "      <td>...</td>\n",
              "      <td>...</td>\n",
              "      <td>...</td>\n",
              "      <td>...</td>\n",
              "      <td>...</td>\n",
              "      <td>...</td>\n",
              "      <td>...</td>\n",
              "      <td>...</td>\n",
              "      <td>...</td>\n",
              "      <td>...</td>\n",
              "      <td>...</td>\n",
              "      <td>...</td>\n",
              "      <td>...</td>\n",
              "      <td>...</td>\n",
              "      <td>...</td>\n",
              "      <td>...</td>\n",
              "      <td>...</td>\n",
              "      <td>...</td>\n",
              "      <td>...</td>\n",
              "      <td>...</td>\n",
              "    </tr>\n",
              "    <tr>\n",
              "      <th>80245</th>\n",
              "      <td>80245</td>\n",
              "      <td>80245</td>\n",
              "      <td>80245</td>\n",
              "      <td>80245</td>\n",
              "      <td>INCIDENTE</td>\n",
              "      <td>-812638</td>\n",
              "      <td>-3492277</td>\n",
              "      <td>RECIFE</td>\n",
              "      <td>PE</td>\n",
              "      <td>BRASIL</td>\n",
              "      <td>SBRF</td>\n",
              "      <td>2021-08-15</td>\n",
              "      <td>15:05:00</td>\n",
              "      <td>SIM</td>\n",
              "      <td>FINALIZADA</td>\n",
              "      <td>***</td>\n",
              "      <td>NÃO</td>\n",
              "      <td>NaT</td>\n",
              "      <td>0</td>\n",
              "      <td>1</td>\n",
              "      <td>NÃO</td>\n",
              "    </tr>\n",
              "    <tr>\n",
              "      <th>80247</th>\n",
              "      <td>80247</td>\n",
              "      <td>80247</td>\n",
              "      <td>80247</td>\n",
              "      <td>80247</td>\n",
              "      <td>INCIDENTE</td>\n",
              "      <td>-8713611111111</td>\n",
              "      <td>-6390277777777</td>\n",
              "      <td>PORTO VELHO</td>\n",
              "      <td>RO</td>\n",
              "      <td>BRASIL</td>\n",
              "      <td>SBPV</td>\n",
              "      <td>2021-08-16</td>\n",
              "      <td>02:30:00</td>\n",
              "      <td>SIM</td>\n",
              "      <td>FINALIZADA</td>\n",
              "      <td>***</td>\n",
              "      <td>NÃO</td>\n",
              "      <td>NaT</td>\n",
              "      <td>0</td>\n",
              "      <td>1</td>\n",
              "      <td>NÃO</td>\n",
              "    </tr>\n",
              "    <tr>\n",
              "      <th>80251</th>\n",
              "      <td>80251</td>\n",
              "      <td>80251</td>\n",
              "      <td>80251</td>\n",
              "      <td>80251</td>\n",
              "      <td>INCIDENTE</td>\n",
              "      <td>-1384722222222</td>\n",
              "      <td>-4847888888888</td>\n",
              "      <td>BELÉM</td>\n",
              "      <td>PA</td>\n",
              "      <td>BRASIL</td>\n",
              "      <td>SBBE</td>\n",
              "      <td>2021-08-17</td>\n",
              "      <td>15:45:00</td>\n",
              "      <td>SIM</td>\n",
              "      <td>FINALIZADA</td>\n",
              "      <td>***</td>\n",
              "      <td>NÃO</td>\n",
              "      <td>NaT</td>\n",
              "      <td>0</td>\n",
              "      <td>1</td>\n",
              "      <td>NÃO</td>\n",
              "    </tr>\n",
              "    <tr>\n",
              "      <th>80257</th>\n",
              "      <td>80257</td>\n",
              "      <td>80257</td>\n",
              "      <td>80257</td>\n",
              "      <td>80257</td>\n",
              "      <td>ACIDENTE</td>\n",
              "      <td>-15430833</td>\n",
              "      <td>-54699722</td>\n",
              "      <td>DOM AQUINO</td>\n",
              "      <td>MT</td>\n",
              "      <td>BRASIL</td>\n",
              "      <td>****</td>\n",
              "      <td>2021-08-18</td>\n",
              "      <td>16:00:00</td>\n",
              "      <td>SIM</td>\n",
              "      <td>FINALIZADA</td>\n",
              "      <td>***</td>\n",
              "      <td>NÃO</td>\n",
              "      <td>NaT</td>\n",
              "      <td>0</td>\n",
              "      <td>1</td>\n",
              "      <td>NÃO</td>\n",
              "    </tr>\n",
              "    <tr>\n",
              "      <th>80259</th>\n",
              "      <td>80259</td>\n",
              "      <td>80259</td>\n",
              "      <td>80259</td>\n",
              "      <td>80259</td>\n",
              "      <td>INCIDENTE</td>\n",
              "      <td>-2300694444444</td>\n",
              "      <td>-4713444444444</td>\n",
              "      <td>CAMPINAS</td>\n",
              "      <td>SP</td>\n",
              "      <td>BRASIL</td>\n",
              "      <td>SBKP</td>\n",
              "      <td>2021-08-18</td>\n",
              "      <td>12:45:00</td>\n",
              "      <td>SIM</td>\n",
              "      <td>FINALIZADA</td>\n",
              "      <td>***</td>\n",
              "      <td>NÃO</td>\n",
              "      <td>NaT</td>\n",
              "      <td>0</td>\n",
              "      <td>1</td>\n",
              "      <td>NÃO</td>\n",
              "    </tr>\n",
              "  </tbody>\n",
              "</table>\n",
              "<p>6114 rows × 21 columns</p>\n",
              "</div>\n",
              "    <div class=\"colab-df-buttons\">\n",
              "\n",
              "  <div class=\"colab-df-container\">\n",
              "    <button class=\"colab-df-convert\" onclick=\"convertToInteractive('df-85475318-4801-4f8d-a1ae-02dfc1fbd669')\"\n",
              "            title=\"Convert this dataframe to an interactive table.\"\n",
              "            style=\"display:none;\">\n",
              "\n",
              "  <svg xmlns=\"http://www.w3.org/2000/svg\" height=\"24px\" viewBox=\"0 -960 960 960\">\n",
              "    <path d=\"M120-120v-720h720v720H120Zm60-500h600v-160H180v160Zm220 220h160v-160H400v160Zm0 220h160v-160H400v160ZM180-400h160v-160H180v160Zm440 0h160v-160H620v160ZM180-180h160v-160H180v160Zm440 0h160v-160H620v160Z\"/>\n",
              "  </svg>\n",
              "    </button>\n",
              "\n",
              "  <style>\n",
              "    .colab-df-container {\n",
              "      display:flex;\n",
              "      gap: 12px;\n",
              "    }\n",
              "\n",
              "    .colab-df-convert {\n",
              "      background-color: #E8F0FE;\n",
              "      border: none;\n",
              "      border-radius: 50%;\n",
              "      cursor: pointer;\n",
              "      display: none;\n",
              "      fill: #1967D2;\n",
              "      height: 32px;\n",
              "      padding: 0 0 0 0;\n",
              "      width: 32px;\n",
              "    }\n",
              "\n",
              "    .colab-df-convert:hover {\n",
              "      background-color: #E2EBFA;\n",
              "      box-shadow: 0px 1px 2px rgba(60, 64, 67, 0.3), 0px 1px 3px 1px rgba(60, 64, 67, 0.15);\n",
              "      fill: #174EA6;\n",
              "    }\n",
              "\n",
              "    .colab-df-buttons div {\n",
              "      margin-bottom: 4px;\n",
              "    }\n",
              "\n",
              "    [theme=dark] .colab-df-convert {\n",
              "      background-color: #3B4455;\n",
              "      fill: #D2E3FC;\n",
              "    }\n",
              "\n",
              "    [theme=dark] .colab-df-convert:hover {\n",
              "      background-color: #434B5C;\n",
              "      box-shadow: 0px 1px 3px 1px rgba(0, 0, 0, 0.15);\n",
              "      filter: drop-shadow(0px 1px 2px rgba(0, 0, 0, 0.3));\n",
              "      fill: #FFFFFF;\n",
              "    }\n",
              "  </style>\n",
              "\n",
              "    <script>\n",
              "      const buttonEl =\n",
              "        document.querySelector('#df-85475318-4801-4f8d-a1ae-02dfc1fbd669 button.colab-df-convert');\n",
              "      buttonEl.style.display =\n",
              "        google.colab.kernel.accessAllowed ? 'block' : 'none';\n",
              "\n",
              "      async function convertToInteractive(key) {\n",
              "        const element = document.querySelector('#df-85475318-4801-4f8d-a1ae-02dfc1fbd669');\n",
              "        const dataTable =\n",
              "          await google.colab.kernel.invokeFunction('convertToInteractive',\n",
              "                                                    [key], {});\n",
              "        if (!dataTable) return;\n",
              "\n",
              "        const docLinkHtml = 'Like what you see? Visit the ' +\n",
              "          '<a target=\"_blank\" href=https://colab.research.google.com/notebooks/data_table.ipynb>data table notebook</a>'\n",
              "          + ' to learn more about interactive tables.';\n",
              "        element.innerHTML = '';\n",
              "        dataTable['output_type'] = 'display_data';\n",
              "        await google.colab.output.renderOutput(dataTable, element);\n",
              "        const docLink = document.createElement('div');\n",
              "        docLink.innerHTML = docLinkHtml;\n",
              "        element.appendChild(docLink);\n",
              "      }\n",
              "    </script>\n",
              "  </div>\n",
              "\n",
              "\n",
              "<div id=\"df-4f2fd2b0-e682-4d87-9280-8facda6aada2\">\n",
              "  <button class=\"colab-df-quickchart\" onclick=\"quickchart('df-4f2fd2b0-e682-4d87-9280-8facda6aada2')\"\n",
              "            title=\"Suggest charts\"\n",
              "            style=\"display:none;\">\n",
              "\n",
              "<svg xmlns=\"http://www.w3.org/2000/svg\" height=\"24px\"viewBox=\"0 0 24 24\"\n",
              "     width=\"24px\">\n",
              "    <g>\n",
              "        <path d=\"M19 3H5c-1.1 0-2 .9-2 2v14c0 1.1.9 2 2 2h14c1.1 0 2-.9 2-2V5c0-1.1-.9-2-2-2zM9 17H7v-7h2v7zm4 0h-2V7h2v10zm4 0h-2v-4h2v4z\"/>\n",
              "    </g>\n",
              "</svg>\n",
              "  </button>\n",
              "\n",
              "<style>\n",
              "  .colab-df-quickchart {\n",
              "      --bg-color: #E8F0FE;\n",
              "      --fill-color: #1967D2;\n",
              "      --hover-bg-color: #E2EBFA;\n",
              "      --hover-fill-color: #174EA6;\n",
              "      --disabled-fill-color: #AAA;\n",
              "      --disabled-bg-color: #DDD;\n",
              "  }\n",
              "\n",
              "  [theme=dark] .colab-df-quickchart {\n",
              "      --bg-color: #3B4455;\n",
              "      --fill-color: #D2E3FC;\n",
              "      --hover-bg-color: #434B5C;\n",
              "      --hover-fill-color: #FFFFFF;\n",
              "      --disabled-bg-color: #3B4455;\n",
              "      --disabled-fill-color: #666;\n",
              "  }\n",
              "\n",
              "  .colab-df-quickchart {\n",
              "    background-color: var(--bg-color);\n",
              "    border: none;\n",
              "    border-radius: 50%;\n",
              "    cursor: pointer;\n",
              "    display: none;\n",
              "    fill: var(--fill-color);\n",
              "    height: 32px;\n",
              "    padding: 0;\n",
              "    width: 32px;\n",
              "  }\n",
              "\n",
              "  .colab-df-quickchart:hover {\n",
              "    background-color: var(--hover-bg-color);\n",
              "    box-shadow: 0 1px 2px rgba(60, 64, 67, 0.3), 0 1px 3px 1px rgba(60, 64, 67, 0.15);\n",
              "    fill: var(--button-hover-fill-color);\n",
              "  }\n",
              "\n",
              "  .colab-df-quickchart-complete:disabled,\n",
              "  .colab-df-quickchart-complete:disabled:hover {\n",
              "    background-color: var(--disabled-bg-color);\n",
              "    fill: var(--disabled-fill-color);\n",
              "    box-shadow: none;\n",
              "  }\n",
              "\n",
              "  .colab-df-spinner {\n",
              "    border: 2px solid var(--fill-color);\n",
              "    border-color: transparent;\n",
              "    border-bottom-color: var(--fill-color);\n",
              "    animation:\n",
              "      spin 1s steps(1) infinite;\n",
              "  }\n",
              "\n",
              "  @keyframes spin {\n",
              "    0% {\n",
              "      border-color: transparent;\n",
              "      border-bottom-color: var(--fill-color);\n",
              "      border-left-color: var(--fill-color);\n",
              "    }\n",
              "    20% {\n",
              "      border-color: transparent;\n",
              "      border-left-color: var(--fill-color);\n",
              "      border-top-color: var(--fill-color);\n",
              "    }\n",
              "    30% {\n",
              "      border-color: transparent;\n",
              "      border-left-color: var(--fill-color);\n",
              "      border-top-color: var(--fill-color);\n",
              "      border-right-color: var(--fill-color);\n",
              "    }\n",
              "    40% {\n",
              "      border-color: transparent;\n",
              "      border-right-color: var(--fill-color);\n",
              "      border-top-color: var(--fill-color);\n",
              "    }\n",
              "    60% {\n",
              "      border-color: transparent;\n",
              "      border-right-color: var(--fill-color);\n",
              "    }\n",
              "    80% {\n",
              "      border-color: transparent;\n",
              "      border-right-color: var(--fill-color);\n",
              "      border-bottom-color: var(--fill-color);\n",
              "    }\n",
              "    90% {\n",
              "      border-color: transparent;\n",
              "      border-bottom-color: var(--fill-color);\n",
              "    }\n",
              "  }\n",
              "</style>\n",
              "\n",
              "  <script>\n",
              "    async function quickchart(key) {\n",
              "      const quickchartButtonEl =\n",
              "        document.querySelector('#' + key + ' button');\n",
              "      quickchartButtonEl.disabled = true;  // To prevent multiple clicks.\n",
              "      quickchartButtonEl.classList.add('colab-df-spinner');\n",
              "      try {\n",
              "        const charts = await google.colab.kernel.invokeFunction(\n",
              "            'suggestCharts', [key], {});\n",
              "      } catch (error) {\n",
              "        console.error('Error during call to suggestCharts:', error);\n",
              "      }\n",
              "      quickchartButtonEl.classList.remove('colab-df-spinner');\n",
              "      quickchartButtonEl.classList.add('colab-df-quickchart-complete');\n",
              "    }\n",
              "    (() => {\n",
              "      let quickchartButtonEl =\n",
              "        document.querySelector('#df-4f2fd2b0-e682-4d87-9280-8facda6aada2 button');\n",
              "      quickchartButtonEl.style.display =\n",
              "        google.colab.kernel.accessAllowed ? 'block' : 'none';\n",
              "    })();\n",
              "  </script>\n",
              "</div>\n",
              "\n",
              "  <div id=\"id_2a23bb2a-95b1-44c4-bb24-f97db4e39ebc\">\n",
              "    <style>\n",
              "      .colab-df-generate {\n",
              "        background-color: #E8F0FE;\n",
              "        border: none;\n",
              "        border-radius: 50%;\n",
              "        cursor: pointer;\n",
              "        display: none;\n",
              "        fill: #1967D2;\n",
              "        height: 32px;\n",
              "        padding: 0 0 0 0;\n",
              "        width: 32px;\n",
              "      }\n",
              "\n",
              "      .colab-df-generate:hover {\n",
              "        background-color: #E2EBFA;\n",
              "        box-shadow: 0px 1px 2px rgba(60, 64, 67, 0.3), 0px 1px 3px 1px rgba(60, 64, 67, 0.15);\n",
              "        fill: #174EA6;\n",
              "      }\n",
              "\n",
              "      [theme=dark] .colab-df-generate {\n",
              "        background-color: #3B4455;\n",
              "        fill: #D2E3FC;\n",
              "      }\n",
              "\n",
              "      [theme=dark] .colab-df-generate:hover {\n",
              "        background-color: #434B5C;\n",
              "        box-shadow: 0px 1px 3px 1px rgba(0, 0, 0, 0.15);\n",
              "        filter: drop-shadow(0px 1px 2px rgba(0, 0, 0, 0.3));\n",
              "        fill: #FFFFFF;\n",
              "      }\n",
              "    </style>\n",
              "    <button class=\"colab-df-generate\" onclick=\"generateWithVariable('Ocorrencia')\"\n",
              "            title=\"Generate code using this dataframe.\"\n",
              "            style=\"display:none;\">\n",
              "\n",
              "  <svg xmlns=\"http://www.w3.org/2000/svg\" height=\"24px\"viewBox=\"0 0 24 24\"\n",
              "       width=\"24px\">\n",
              "    <path d=\"M7,19H8.4L18.45,9,17,7.55,7,17.6ZM5,21V16.75L18.45,3.32a2,2,0,0,1,2.83,0l1.4,1.43a1.91,1.91,0,0,1,.58,1.4,1.91,1.91,0,0,1-.58,1.4L9.25,21ZM18.45,9,17,7.55Zm-12,3A5.31,5.31,0,0,0,4.9,8.1,5.31,5.31,0,0,0,1,6.5,5.31,5.31,0,0,0,4.9,4.9,5.31,5.31,0,0,0,6.5,1,5.31,5.31,0,0,0,8.1,4.9,5.31,5.31,0,0,0,12,6.5,5.46,5.46,0,0,0,6.5,12Z\"/>\n",
              "  </svg>\n",
              "    </button>\n",
              "    <script>\n",
              "      (() => {\n",
              "      const buttonEl =\n",
              "        document.querySelector('#id_2a23bb2a-95b1-44c4-bb24-f97db4e39ebc button.colab-df-generate');\n",
              "      buttonEl.style.display =\n",
              "        google.colab.kernel.accessAllowed ? 'block' : 'none';\n",
              "\n",
              "      buttonEl.onclick = () => {\n",
              "        google.colab.notebook.generateWithVariable('Ocorrencia');\n",
              "      }\n",
              "      })();\n",
              "    </script>\n",
              "  </div>\n",
              "\n",
              "    </div>\n",
              "  </div>\n"
            ],
            "application/vnd.google.colaboratory.intrinsic+json": {
              "type": "dataframe",
              "variable_name": "Ocorrencia"
            }
          },
          "metadata": {},
          "execution_count": 48
        }
      ]
    },
    {
      "cell_type": "code",
      "source": [
        "Ocorrencia.info()"
      ],
      "metadata": {
        "colab": {
          "base_uri": "https://localhost:8080/"
        },
        "id": "_C0wSBMvaGno",
        "outputId": "abb16f8a-5b61-4504-b555-42a7dc08c8d6"
      },
      "execution_count": 49,
      "outputs": [
        {
          "output_type": "stream",
          "name": "stdout",
          "text": [
            "<class 'pandas.core.frame.DataFrame'>\n",
            "Index: 6114 entries, 40211 to 80259\n",
            "Data columns (total 21 columns):\n",
            " #   Column                          Non-Null Count  Dtype         \n",
            "---  ------                          --------------  -----         \n",
            " 0   codigo_ocorrencia1              6114 non-null   int64         \n",
            " 1   codigo_ocorrencia2              6114 non-null   int64         \n",
            " 2   codigo_ocorrencia3              6114 non-null   int64         \n",
            " 3   codigo_ocorrencia4              6114 non-null   int64         \n",
            " 4   ocorrencia_classificacao        6114 non-null   object        \n",
            " 5   ocorrencia_latitude             4552 non-null   object        \n",
            " 6   ocorrencia_longitude            4552 non-null   object        \n",
            " 7   ocorrencia_cidade               6114 non-null   object        \n",
            " 8   ocorrencia_uf                   6114 non-null   object        \n",
            " 9   ocorrencia_pais                 6114 non-null   object        \n",
            " 10  ocorrencia_aerodromo            6114 non-null   object        \n",
            " 11  ocorrencia_dia                  6114 non-null   datetime64[ns]\n",
            " 12  ocorrencia_hora                 6113 non-null   object        \n",
            " 13  investigacao_aeronave_liberada  5827 non-null   object        \n",
            " 14  investigacao_status             5773 non-null   object        \n",
            " 15  divulgacao_relatorio_numero     5319 non-null   object        \n",
            " 16  divulgacao_relatorio_publicado  6114 non-null   object        \n",
            " 17  divulgacao_dia_publicacao       1577 non-null   datetime64[ns]\n",
            " 18  total_recomendacoes             6114 non-null   int64         \n",
            " 19  total_aeronaves_envolvidas      6114 non-null   int64         \n",
            " 20  ocorrencia_saida_pista          6114 non-null   object        \n",
            "dtypes: datetime64[ns](2), int64(6), object(13)\n",
            "memory usage: 1.0+ MB\n"
          ]
        }
      ]
    },
    {
      "cell_type": "code",
      "source": [
        "Ocorrencia.isnull().sum()"
      ],
      "metadata": {
        "colab": {
          "base_uri": "https://localhost:8080/"
        },
        "id": "wmNUdqywvztX",
        "outputId": "f09a5524-1f0d-4eec-f984-7c874d5cd4cf"
      },
      "execution_count": 50,
      "outputs": [
        {
          "output_type": "execute_result",
          "data": {
            "text/plain": [
              "codigo_ocorrencia1                   0\n",
              "codigo_ocorrencia2                   0\n",
              "codigo_ocorrencia3                   0\n",
              "codigo_ocorrencia4                   0\n",
              "ocorrencia_classificacao             0\n",
              "ocorrencia_latitude               1562\n",
              "ocorrencia_longitude              1562\n",
              "ocorrencia_cidade                    0\n",
              "ocorrencia_uf                        0\n",
              "ocorrencia_pais                      0\n",
              "ocorrencia_aerodromo                 0\n",
              "ocorrencia_dia                       0\n",
              "ocorrencia_hora                      1\n",
              "investigacao_aeronave_liberada     287\n",
              "investigacao_status                341\n",
              "divulgacao_relatorio_numero        795\n",
              "divulgacao_relatorio_publicado       0\n",
              "divulgacao_dia_publicacao         4537\n",
              "total_recomendacoes                  0\n",
              "total_aeronaves_envolvidas           0\n",
              "ocorrencia_saida_pista               0\n",
              "dtype: int64"
            ]
          },
          "metadata": {},
          "execution_count": 50
        }
      ]
    },
    {
      "cell_type": "code",
      "source": [
        "Ocorrencia.groupby('ocorrencia_cidade')[['ocorrencia_latitude','ocorrencia_longitude']].count()"
      ],
      "metadata": {
        "colab": {
          "base_uri": "https://localhost:8080/",
          "height": 455
        },
        "id": "ByryPHebZGWW",
        "outputId": "aeeab3ef-d389-454e-8900-302abe1a31e9"
      },
      "execution_count": 51,
      "outputs": [
        {
          "output_type": "execute_result",
          "data": {
            "text/plain": [
              "                      ocorrencia_latitude  ocorrencia_longitude\n",
              "ocorrencia_cidade                                              \n",
              "ABADIA DE GOIÁS                         2                     2\n",
              "ACARÁ                                   1                     1\n",
              "ACREÚNA                                 1                     1\n",
              "AFONSO CLÁUDIO                          1                     1\n",
              "AFUÁ                                    2                     2\n",
              "...                                   ...                   ...\n",
              "ÁGUA LIMPA                              1                     1\n",
              "ÁGUAS INTERNACIONAIS                    1                     1\n",
              "ÁLVARES MACHADO                         3                     3\n",
              "ÂNGULO                                  1                     1\n",
              "ÓBIDOS                                  2                     2\n",
              "\n",
              "[1133 rows x 2 columns]"
            ],
            "text/html": [
              "\n",
              "  <div id=\"df-414cd068-318d-4c29-ae21-0eb528515c9e\" class=\"colab-df-container\">\n",
              "    <div>\n",
              "<style scoped>\n",
              "    .dataframe tbody tr th:only-of-type {\n",
              "        vertical-align: middle;\n",
              "    }\n",
              "\n",
              "    .dataframe tbody tr th {\n",
              "        vertical-align: top;\n",
              "    }\n",
              "\n",
              "    .dataframe thead th {\n",
              "        text-align: right;\n",
              "    }\n",
              "</style>\n",
              "<table border=\"1\" class=\"dataframe\">\n",
              "  <thead>\n",
              "    <tr style=\"text-align: right;\">\n",
              "      <th></th>\n",
              "      <th>ocorrencia_latitude</th>\n",
              "      <th>ocorrencia_longitude</th>\n",
              "    </tr>\n",
              "    <tr>\n",
              "      <th>ocorrencia_cidade</th>\n",
              "      <th></th>\n",
              "      <th></th>\n",
              "    </tr>\n",
              "  </thead>\n",
              "  <tbody>\n",
              "    <tr>\n",
              "      <th>ABADIA DE GOIÁS</th>\n",
              "      <td>2</td>\n",
              "      <td>2</td>\n",
              "    </tr>\n",
              "    <tr>\n",
              "      <th>ACARÁ</th>\n",
              "      <td>1</td>\n",
              "      <td>1</td>\n",
              "    </tr>\n",
              "    <tr>\n",
              "      <th>ACREÚNA</th>\n",
              "      <td>1</td>\n",
              "      <td>1</td>\n",
              "    </tr>\n",
              "    <tr>\n",
              "      <th>AFONSO CLÁUDIO</th>\n",
              "      <td>1</td>\n",
              "      <td>1</td>\n",
              "    </tr>\n",
              "    <tr>\n",
              "      <th>AFUÁ</th>\n",
              "      <td>2</td>\n",
              "      <td>2</td>\n",
              "    </tr>\n",
              "    <tr>\n",
              "      <th>...</th>\n",
              "      <td>...</td>\n",
              "      <td>...</td>\n",
              "    </tr>\n",
              "    <tr>\n",
              "      <th>ÁGUA LIMPA</th>\n",
              "      <td>1</td>\n",
              "      <td>1</td>\n",
              "    </tr>\n",
              "    <tr>\n",
              "      <th>ÁGUAS INTERNACIONAIS</th>\n",
              "      <td>1</td>\n",
              "      <td>1</td>\n",
              "    </tr>\n",
              "    <tr>\n",
              "      <th>ÁLVARES MACHADO</th>\n",
              "      <td>3</td>\n",
              "      <td>3</td>\n",
              "    </tr>\n",
              "    <tr>\n",
              "      <th>ÂNGULO</th>\n",
              "      <td>1</td>\n",
              "      <td>1</td>\n",
              "    </tr>\n",
              "    <tr>\n",
              "      <th>ÓBIDOS</th>\n",
              "      <td>2</td>\n",
              "      <td>2</td>\n",
              "    </tr>\n",
              "  </tbody>\n",
              "</table>\n",
              "<p>1133 rows × 2 columns</p>\n",
              "</div>\n",
              "    <div class=\"colab-df-buttons\">\n",
              "\n",
              "  <div class=\"colab-df-container\">\n",
              "    <button class=\"colab-df-convert\" onclick=\"convertToInteractive('df-414cd068-318d-4c29-ae21-0eb528515c9e')\"\n",
              "            title=\"Convert this dataframe to an interactive table.\"\n",
              "            style=\"display:none;\">\n",
              "\n",
              "  <svg xmlns=\"http://www.w3.org/2000/svg\" height=\"24px\" viewBox=\"0 -960 960 960\">\n",
              "    <path d=\"M120-120v-720h720v720H120Zm60-500h600v-160H180v160Zm220 220h160v-160H400v160Zm0 220h160v-160H400v160ZM180-400h160v-160H180v160Zm440 0h160v-160H620v160ZM180-180h160v-160H180v160Zm440 0h160v-160H620v160Z\"/>\n",
              "  </svg>\n",
              "    </button>\n",
              "\n",
              "  <style>\n",
              "    .colab-df-container {\n",
              "      display:flex;\n",
              "      gap: 12px;\n",
              "    }\n",
              "\n",
              "    .colab-df-convert {\n",
              "      background-color: #E8F0FE;\n",
              "      border: none;\n",
              "      border-radius: 50%;\n",
              "      cursor: pointer;\n",
              "      display: none;\n",
              "      fill: #1967D2;\n",
              "      height: 32px;\n",
              "      padding: 0 0 0 0;\n",
              "      width: 32px;\n",
              "    }\n",
              "\n",
              "    .colab-df-convert:hover {\n",
              "      background-color: #E2EBFA;\n",
              "      box-shadow: 0px 1px 2px rgba(60, 64, 67, 0.3), 0px 1px 3px 1px rgba(60, 64, 67, 0.15);\n",
              "      fill: #174EA6;\n",
              "    }\n",
              "\n",
              "    .colab-df-buttons div {\n",
              "      margin-bottom: 4px;\n",
              "    }\n",
              "\n",
              "    [theme=dark] .colab-df-convert {\n",
              "      background-color: #3B4455;\n",
              "      fill: #D2E3FC;\n",
              "    }\n",
              "\n",
              "    [theme=dark] .colab-df-convert:hover {\n",
              "      background-color: #434B5C;\n",
              "      box-shadow: 0px 1px 3px 1px rgba(0, 0, 0, 0.15);\n",
              "      filter: drop-shadow(0px 1px 2px rgba(0, 0, 0, 0.3));\n",
              "      fill: #FFFFFF;\n",
              "    }\n",
              "  </style>\n",
              "\n",
              "    <script>\n",
              "      const buttonEl =\n",
              "        document.querySelector('#df-414cd068-318d-4c29-ae21-0eb528515c9e button.colab-df-convert');\n",
              "      buttonEl.style.display =\n",
              "        google.colab.kernel.accessAllowed ? 'block' : 'none';\n",
              "\n",
              "      async function convertToInteractive(key) {\n",
              "        const element = document.querySelector('#df-414cd068-318d-4c29-ae21-0eb528515c9e');\n",
              "        const dataTable =\n",
              "          await google.colab.kernel.invokeFunction('convertToInteractive',\n",
              "                                                    [key], {});\n",
              "        if (!dataTable) return;\n",
              "\n",
              "        const docLinkHtml = 'Like what you see? Visit the ' +\n",
              "          '<a target=\"_blank\" href=https://colab.research.google.com/notebooks/data_table.ipynb>data table notebook</a>'\n",
              "          + ' to learn more about interactive tables.';\n",
              "        element.innerHTML = '';\n",
              "        dataTable['output_type'] = 'display_data';\n",
              "        await google.colab.output.renderOutput(dataTable, element);\n",
              "        const docLink = document.createElement('div');\n",
              "        docLink.innerHTML = docLinkHtml;\n",
              "        element.appendChild(docLink);\n",
              "      }\n",
              "    </script>\n",
              "  </div>\n",
              "\n",
              "\n",
              "<div id=\"df-5eac50f7-37c0-40c4-a4bb-fd659f7638c8\">\n",
              "  <button class=\"colab-df-quickchart\" onclick=\"quickchart('df-5eac50f7-37c0-40c4-a4bb-fd659f7638c8')\"\n",
              "            title=\"Suggest charts\"\n",
              "            style=\"display:none;\">\n",
              "\n",
              "<svg xmlns=\"http://www.w3.org/2000/svg\" height=\"24px\"viewBox=\"0 0 24 24\"\n",
              "     width=\"24px\">\n",
              "    <g>\n",
              "        <path d=\"M19 3H5c-1.1 0-2 .9-2 2v14c0 1.1.9 2 2 2h14c1.1 0 2-.9 2-2V5c0-1.1-.9-2-2-2zM9 17H7v-7h2v7zm4 0h-2V7h2v10zm4 0h-2v-4h2v4z\"/>\n",
              "    </g>\n",
              "</svg>\n",
              "  </button>\n",
              "\n",
              "<style>\n",
              "  .colab-df-quickchart {\n",
              "      --bg-color: #E8F0FE;\n",
              "      --fill-color: #1967D2;\n",
              "      --hover-bg-color: #E2EBFA;\n",
              "      --hover-fill-color: #174EA6;\n",
              "      --disabled-fill-color: #AAA;\n",
              "      --disabled-bg-color: #DDD;\n",
              "  }\n",
              "\n",
              "  [theme=dark] .colab-df-quickchart {\n",
              "      --bg-color: #3B4455;\n",
              "      --fill-color: #D2E3FC;\n",
              "      --hover-bg-color: #434B5C;\n",
              "      --hover-fill-color: #FFFFFF;\n",
              "      --disabled-bg-color: #3B4455;\n",
              "      --disabled-fill-color: #666;\n",
              "  }\n",
              "\n",
              "  .colab-df-quickchart {\n",
              "    background-color: var(--bg-color);\n",
              "    border: none;\n",
              "    border-radius: 50%;\n",
              "    cursor: pointer;\n",
              "    display: none;\n",
              "    fill: var(--fill-color);\n",
              "    height: 32px;\n",
              "    padding: 0;\n",
              "    width: 32px;\n",
              "  }\n",
              "\n",
              "  .colab-df-quickchart:hover {\n",
              "    background-color: var(--hover-bg-color);\n",
              "    box-shadow: 0 1px 2px rgba(60, 64, 67, 0.3), 0 1px 3px 1px rgba(60, 64, 67, 0.15);\n",
              "    fill: var(--button-hover-fill-color);\n",
              "  }\n",
              "\n",
              "  .colab-df-quickchart-complete:disabled,\n",
              "  .colab-df-quickchart-complete:disabled:hover {\n",
              "    background-color: var(--disabled-bg-color);\n",
              "    fill: var(--disabled-fill-color);\n",
              "    box-shadow: none;\n",
              "  }\n",
              "\n",
              "  .colab-df-spinner {\n",
              "    border: 2px solid var(--fill-color);\n",
              "    border-color: transparent;\n",
              "    border-bottom-color: var(--fill-color);\n",
              "    animation:\n",
              "      spin 1s steps(1) infinite;\n",
              "  }\n",
              "\n",
              "  @keyframes spin {\n",
              "    0% {\n",
              "      border-color: transparent;\n",
              "      border-bottom-color: var(--fill-color);\n",
              "      border-left-color: var(--fill-color);\n",
              "    }\n",
              "    20% {\n",
              "      border-color: transparent;\n",
              "      border-left-color: var(--fill-color);\n",
              "      border-top-color: var(--fill-color);\n",
              "    }\n",
              "    30% {\n",
              "      border-color: transparent;\n",
              "      border-left-color: var(--fill-color);\n",
              "      border-top-color: var(--fill-color);\n",
              "      border-right-color: var(--fill-color);\n",
              "    }\n",
              "    40% {\n",
              "      border-color: transparent;\n",
              "      border-right-color: var(--fill-color);\n",
              "      border-top-color: var(--fill-color);\n",
              "    }\n",
              "    60% {\n",
              "      border-color: transparent;\n",
              "      border-right-color: var(--fill-color);\n",
              "    }\n",
              "    80% {\n",
              "      border-color: transparent;\n",
              "      border-right-color: var(--fill-color);\n",
              "      border-bottom-color: var(--fill-color);\n",
              "    }\n",
              "    90% {\n",
              "      border-color: transparent;\n",
              "      border-bottom-color: var(--fill-color);\n",
              "    }\n",
              "  }\n",
              "</style>\n",
              "\n",
              "  <script>\n",
              "    async function quickchart(key) {\n",
              "      const quickchartButtonEl =\n",
              "        document.querySelector('#' + key + ' button');\n",
              "      quickchartButtonEl.disabled = true;  // To prevent multiple clicks.\n",
              "      quickchartButtonEl.classList.add('colab-df-spinner');\n",
              "      try {\n",
              "        const charts = await google.colab.kernel.invokeFunction(\n",
              "            'suggestCharts', [key], {});\n",
              "      } catch (error) {\n",
              "        console.error('Error during call to suggestCharts:', error);\n",
              "      }\n",
              "      quickchartButtonEl.classList.remove('colab-df-spinner');\n",
              "      quickchartButtonEl.classList.add('colab-df-quickchart-complete');\n",
              "    }\n",
              "    (() => {\n",
              "      let quickchartButtonEl =\n",
              "        document.querySelector('#df-5eac50f7-37c0-40c4-a4bb-fd659f7638c8 button');\n",
              "      quickchartButtonEl.style.display =\n",
              "        google.colab.kernel.accessAllowed ? 'block' : 'none';\n",
              "    })();\n",
              "  </script>\n",
              "</div>\n",
              "\n",
              "    </div>\n",
              "  </div>\n"
            ],
            "application/vnd.google.colaboratory.intrinsic+json": {
              "type": "dataframe",
              "summary": "{\n  \"name\": \"Ocorrencia\",\n  \"rows\": 1133,\n  \"fields\": [\n    {\n      \"column\": \"ocorrencia_cidade\",\n      \"properties\": {\n        \"dtype\": \"string\",\n        \"num_unique_values\": 1133,\n        \"samples\": [\n          \"PERU\\u00cdBE\",\n          \"SANTA B\\u00c1RBARA D'OESTE\",\n          \"GUARANI\"\n        ],\n        \"semantic_type\": \"\",\n        \"description\": \"\"\n      }\n    },\n    {\n      \"column\": \"ocorrencia_latitude\",\n      \"properties\": {\n        \"dtype\": \"number\",\n        \"std\": 12,\n        \"min\": 0,\n        \"max\": 200,\n        \"num_unique_values\": 44,\n        \"samples\": [\n          37,\n          18,\n          20\n        ],\n        \"semantic_type\": \"\",\n        \"description\": \"\"\n      }\n    },\n    {\n      \"column\": \"ocorrencia_longitude\",\n      \"properties\": {\n        \"dtype\": \"number\",\n        \"std\": 12,\n        \"min\": 0,\n        \"max\": 200,\n        \"num_unique_values\": 44,\n        \"samples\": [\n          37,\n          18,\n          20\n        ],\n        \"semantic_type\": \"\",\n        \"description\": \"\"\n      }\n    }\n  ]\n}"
            }
          },
          "metadata": {},
          "execution_count": 51
        }
      ]
    },
    {
      "cell_type": "markdown",
      "source": [
        "*Reemplazo los caracteres faltantes de latitud y longitud, para posteriormente completarlos con la media*"
      ],
      "metadata": {
        "id": "o5zJTdyQBe1X"
      }
    },
    {
      "cell_type": "code",
      "source": [
        "Ocorrencia[['ocorrencia_latitude','ocorrencia_longitude','ocorrencia_cidade']].value_counts()"
      ],
      "metadata": {
        "colab": {
          "base_uri": "https://localhost:8080/"
        },
        "id": "ygcIGH1qS6Ir",
        "outputId": "d41759d7-fed2-4f6e-e464-3bdd77f56951"
      },
      "execution_count": 52,
      "outputs": [
        {
          "output_type": "execute_result",
          "data": {
            "text/plain": [
              "ocorrencia_latitude  ocorrencia_longitude  ocorrencia_cidade \n",
              "***                  ***                   RIO DE JANEIRO        57\n",
              "-233302777778        -511366666667         LONDRINA              28\n",
              "***                  ***                   BELO HORIZONTE        27\n",
              "-2300694444444       -4713444444444        CAMPINAS              24\n",
              "***                  ***                   MACAÉ                 22\n",
              "                                                                 ..\n",
              "-75352777778         -460566666667         BALSAS                 1\n",
              "-73952777778         -46405                RIACHÃO                1\n",
              "-73933333333         565230555556          ITAITUBA               1\n",
              "-73680555556         -523705555556         SÃO FÉLIX DO XINGU     1\n",
              "2.15                 -5089472              AMAPÁ                  1\n",
              "Name: count, Length: 3204, dtype: int64"
            ]
          },
          "metadata": {},
          "execution_count": 52
        }
      ]
    },
    {
      "cell_type": "code",
      "source": [
        "Ocorrencia['ocorrencia_latitude'] = Ocorrencia['ocorrencia_latitude'] .fillna(0)"
      ],
      "metadata": {
        "id": "AkFiIos2j64A"
      },
      "execution_count": 53,
      "outputs": []
    },
    {
      "cell_type": "code",
      "source": [
        "Ocorrencia['ocorrencia_longitude'] = Ocorrencia['ocorrencia_longitude'] .fillna(0)"
      ],
      "metadata": {
        "id": "PVmUgR2jRNcD"
      },
      "execution_count": 54,
      "outputs": []
    },
    {
      "cell_type": "code",
      "source": [
        "longitud_scaract=Ocorrencia[['ocorrencia_longitude']].replace('***',0)\n",
        "print (longitud_scaract)"
      ],
      "metadata": {
        "colab": {
          "base_uri": "https://localhost:8080/"
        },
        "id": "66mbnKR4YLRT",
        "outputId": "d56cdb9e-5134-4675-cdac-e2a88a69b1c1"
      },
      "execution_count": 55,
      "outputs": [
        {
          "output_type": "stream",
          "name": "stdout",
          "text": [
            "                  ocorrencia_longitude\n",
            "codigo_ocorrencia                     \n",
            "40211                                0\n",
            "40349                                0\n",
            "40351                                0\n",
            "39527                    -559930555556\n",
            "40324                                0\n",
            "...                                ...\n",
            "80245                         -3492277\n",
            "80247                   -6390277777777\n",
            "80251                   -4847888888888\n",
            "80257                        -54699722\n",
            "80259                   -4713444444444\n",
            "\n",
            "[6114 rows x 1 columns]\n"
          ]
        }
      ]
    },
    {
      "cell_type": "code",
      "source": [
        "latitud_scaract=Ocorrencia[['ocorrencia_latitude']].replace('***',0)\n",
        "print (latitud_scaract)"
      ],
      "metadata": {
        "colab": {
          "base_uri": "https://localhost:8080/"
        },
        "id": "Tp6os0YVlUIt",
        "outputId": "62277c28-7bab-400c-d09f-1865c229eeb3"
      },
      "execution_count": 56,
      "outputs": [
        {
          "output_type": "stream",
          "name": "stdout",
          "text": [
            "                  ocorrencia_latitude\n",
            "codigo_ocorrencia                    \n",
            "40211                               0\n",
            "40349                               0\n",
            "40351                               0\n",
            "39527                   -131066666667\n",
            "40324                               0\n",
            "...                               ...\n",
            "80245                         -812638\n",
            "80247                  -8713611111111\n",
            "80251                  -1384722222222\n",
            "80257                       -15430833\n",
            "80259                  -2300694444444\n",
            "\n",
            "[6114 rows x 1 columns]\n"
          ]
        }
      ]
    },
    {
      "cell_type": "code",
      "source": [
        "latitud_scaract.astype('str')"
      ],
      "metadata": {
        "colab": {
          "base_uri": "https://localhost:8080/",
          "height": 455
        },
        "id": "jc5o-Ggsq7FA",
        "outputId": "9085becf-59fb-4ac9-ad74-b4a7c197892b"
      },
      "execution_count": 57,
      "outputs": [
        {
          "output_type": "execute_result",
          "data": {
            "text/plain": [
              "                  ocorrencia_latitude\n",
              "codigo_ocorrencia                    \n",
              "40211                               0\n",
              "40349                               0\n",
              "40351                               0\n",
              "39527                   -131066666667\n",
              "40324                               0\n",
              "...                               ...\n",
              "80245                         -812638\n",
              "80247                  -8713611111111\n",
              "80251                  -1384722222222\n",
              "80257                       -15430833\n",
              "80259                  -2300694444444\n",
              "\n",
              "[6114 rows x 1 columns]"
            ],
            "text/html": [
              "\n",
              "  <div id=\"df-3f7e300c-4ee9-4820-91c2-a93bc06eed47\" class=\"colab-df-container\">\n",
              "    <div>\n",
              "<style scoped>\n",
              "    .dataframe tbody tr th:only-of-type {\n",
              "        vertical-align: middle;\n",
              "    }\n",
              "\n",
              "    .dataframe tbody tr th {\n",
              "        vertical-align: top;\n",
              "    }\n",
              "\n",
              "    .dataframe thead th {\n",
              "        text-align: right;\n",
              "    }\n",
              "</style>\n",
              "<table border=\"1\" class=\"dataframe\">\n",
              "  <thead>\n",
              "    <tr style=\"text-align: right;\">\n",
              "      <th></th>\n",
              "      <th>ocorrencia_latitude</th>\n",
              "    </tr>\n",
              "    <tr>\n",
              "      <th>codigo_ocorrencia</th>\n",
              "      <th></th>\n",
              "    </tr>\n",
              "  </thead>\n",
              "  <tbody>\n",
              "    <tr>\n",
              "      <th>40211</th>\n",
              "      <td>0</td>\n",
              "    </tr>\n",
              "    <tr>\n",
              "      <th>40349</th>\n",
              "      <td>0</td>\n",
              "    </tr>\n",
              "    <tr>\n",
              "      <th>40351</th>\n",
              "      <td>0</td>\n",
              "    </tr>\n",
              "    <tr>\n",
              "      <th>39527</th>\n",
              "      <td>-131066666667</td>\n",
              "    </tr>\n",
              "    <tr>\n",
              "      <th>40324</th>\n",
              "      <td>0</td>\n",
              "    </tr>\n",
              "    <tr>\n",
              "      <th>...</th>\n",
              "      <td>...</td>\n",
              "    </tr>\n",
              "    <tr>\n",
              "      <th>80245</th>\n",
              "      <td>-812638</td>\n",
              "    </tr>\n",
              "    <tr>\n",
              "      <th>80247</th>\n",
              "      <td>-8713611111111</td>\n",
              "    </tr>\n",
              "    <tr>\n",
              "      <th>80251</th>\n",
              "      <td>-1384722222222</td>\n",
              "    </tr>\n",
              "    <tr>\n",
              "      <th>80257</th>\n",
              "      <td>-15430833</td>\n",
              "    </tr>\n",
              "    <tr>\n",
              "      <th>80259</th>\n",
              "      <td>-2300694444444</td>\n",
              "    </tr>\n",
              "  </tbody>\n",
              "</table>\n",
              "<p>6114 rows × 1 columns</p>\n",
              "</div>\n",
              "    <div class=\"colab-df-buttons\">\n",
              "\n",
              "  <div class=\"colab-df-container\">\n",
              "    <button class=\"colab-df-convert\" onclick=\"convertToInteractive('df-3f7e300c-4ee9-4820-91c2-a93bc06eed47')\"\n",
              "            title=\"Convert this dataframe to an interactive table.\"\n",
              "            style=\"display:none;\">\n",
              "\n",
              "  <svg xmlns=\"http://www.w3.org/2000/svg\" height=\"24px\" viewBox=\"0 -960 960 960\">\n",
              "    <path d=\"M120-120v-720h720v720H120Zm60-500h600v-160H180v160Zm220 220h160v-160H400v160Zm0 220h160v-160H400v160ZM180-400h160v-160H180v160Zm440 0h160v-160H620v160ZM180-180h160v-160H180v160Zm440 0h160v-160H620v160Z\"/>\n",
              "  </svg>\n",
              "    </button>\n",
              "\n",
              "  <style>\n",
              "    .colab-df-container {\n",
              "      display:flex;\n",
              "      gap: 12px;\n",
              "    }\n",
              "\n",
              "    .colab-df-convert {\n",
              "      background-color: #E8F0FE;\n",
              "      border: none;\n",
              "      border-radius: 50%;\n",
              "      cursor: pointer;\n",
              "      display: none;\n",
              "      fill: #1967D2;\n",
              "      height: 32px;\n",
              "      padding: 0 0 0 0;\n",
              "      width: 32px;\n",
              "    }\n",
              "\n",
              "    .colab-df-convert:hover {\n",
              "      background-color: #E2EBFA;\n",
              "      box-shadow: 0px 1px 2px rgba(60, 64, 67, 0.3), 0px 1px 3px 1px rgba(60, 64, 67, 0.15);\n",
              "      fill: #174EA6;\n",
              "    }\n",
              "\n",
              "    .colab-df-buttons div {\n",
              "      margin-bottom: 4px;\n",
              "    }\n",
              "\n",
              "    [theme=dark] .colab-df-convert {\n",
              "      background-color: #3B4455;\n",
              "      fill: #D2E3FC;\n",
              "    }\n",
              "\n",
              "    [theme=dark] .colab-df-convert:hover {\n",
              "      background-color: #434B5C;\n",
              "      box-shadow: 0px 1px 3px 1px rgba(0, 0, 0, 0.15);\n",
              "      filter: drop-shadow(0px 1px 2px rgba(0, 0, 0, 0.3));\n",
              "      fill: #FFFFFF;\n",
              "    }\n",
              "  </style>\n",
              "\n",
              "    <script>\n",
              "      const buttonEl =\n",
              "        document.querySelector('#df-3f7e300c-4ee9-4820-91c2-a93bc06eed47 button.colab-df-convert');\n",
              "      buttonEl.style.display =\n",
              "        google.colab.kernel.accessAllowed ? 'block' : 'none';\n",
              "\n",
              "      async function convertToInteractive(key) {\n",
              "        const element = document.querySelector('#df-3f7e300c-4ee9-4820-91c2-a93bc06eed47');\n",
              "        const dataTable =\n",
              "          await google.colab.kernel.invokeFunction('convertToInteractive',\n",
              "                                                    [key], {});\n",
              "        if (!dataTable) return;\n",
              "\n",
              "        const docLinkHtml = 'Like what you see? Visit the ' +\n",
              "          '<a target=\"_blank\" href=https://colab.research.google.com/notebooks/data_table.ipynb>data table notebook</a>'\n",
              "          + ' to learn more about interactive tables.';\n",
              "        element.innerHTML = '';\n",
              "        dataTable['output_type'] = 'display_data';\n",
              "        await google.colab.output.renderOutput(dataTable, element);\n",
              "        const docLink = document.createElement('div');\n",
              "        docLink.innerHTML = docLinkHtml;\n",
              "        element.appendChild(docLink);\n",
              "      }\n",
              "    </script>\n",
              "  </div>\n",
              "\n",
              "\n",
              "<div id=\"df-dc8cb775-b838-434d-86a0-713f21551692\">\n",
              "  <button class=\"colab-df-quickchart\" onclick=\"quickchart('df-dc8cb775-b838-434d-86a0-713f21551692')\"\n",
              "            title=\"Suggest charts\"\n",
              "            style=\"display:none;\">\n",
              "\n",
              "<svg xmlns=\"http://www.w3.org/2000/svg\" height=\"24px\"viewBox=\"0 0 24 24\"\n",
              "     width=\"24px\">\n",
              "    <g>\n",
              "        <path d=\"M19 3H5c-1.1 0-2 .9-2 2v14c0 1.1.9 2 2 2h14c1.1 0 2-.9 2-2V5c0-1.1-.9-2-2-2zM9 17H7v-7h2v7zm4 0h-2V7h2v10zm4 0h-2v-4h2v4z\"/>\n",
              "    </g>\n",
              "</svg>\n",
              "  </button>\n",
              "\n",
              "<style>\n",
              "  .colab-df-quickchart {\n",
              "      --bg-color: #E8F0FE;\n",
              "      --fill-color: #1967D2;\n",
              "      --hover-bg-color: #E2EBFA;\n",
              "      --hover-fill-color: #174EA6;\n",
              "      --disabled-fill-color: #AAA;\n",
              "      --disabled-bg-color: #DDD;\n",
              "  }\n",
              "\n",
              "  [theme=dark] .colab-df-quickchart {\n",
              "      --bg-color: #3B4455;\n",
              "      --fill-color: #D2E3FC;\n",
              "      --hover-bg-color: #434B5C;\n",
              "      --hover-fill-color: #FFFFFF;\n",
              "      --disabled-bg-color: #3B4455;\n",
              "      --disabled-fill-color: #666;\n",
              "  }\n",
              "\n",
              "  .colab-df-quickchart {\n",
              "    background-color: var(--bg-color);\n",
              "    border: none;\n",
              "    border-radius: 50%;\n",
              "    cursor: pointer;\n",
              "    display: none;\n",
              "    fill: var(--fill-color);\n",
              "    height: 32px;\n",
              "    padding: 0;\n",
              "    width: 32px;\n",
              "  }\n",
              "\n",
              "  .colab-df-quickchart:hover {\n",
              "    background-color: var(--hover-bg-color);\n",
              "    box-shadow: 0 1px 2px rgba(60, 64, 67, 0.3), 0 1px 3px 1px rgba(60, 64, 67, 0.15);\n",
              "    fill: var(--button-hover-fill-color);\n",
              "  }\n",
              "\n",
              "  .colab-df-quickchart-complete:disabled,\n",
              "  .colab-df-quickchart-complete:disabled:hover {\n",
              "    background-color: var(--disabled-bg-color);\n",
              "    fill: var(--disabled-fill-color);\n",
              "    box-shadow: none;\n",
              "  }\n",
              "\n",
              "  .colab-df-spinner {\n",
              "    border: 2px solid var(--fill-color);\n",
              "    border-color: transparent;\n",
              "    border-bottom-color: var(--fill-color);\n",
              "    animation:\n",
              "      spin 1s steps(1) infinite;\n",
              "  }\n",
              "\n",
              "  @keyframes spin {\n",
              "    0% {\n",
              "      border-color: transparent;\n",
              "      border-bottom-color: var(--fill-color);\n",
              "      border-left-color: var(--fill-color);\n",
              "    }\n",
              "    20% {\n",
              "      border-color: transparent;\n",
              "      border-left-color: var(--fill-color);\n",
              "      border-top-color: var(--fill-color);\n",
              "    }\n",
              "    30% {\n",
              "      border-color: transparent;\n",
              "      border-left-color: var(--fill-color);\n",
              "      border-top-color: var(--fill-color);\n",
              "      border-right-color: var(--fill-color);\n",
              "    }\n",
              "    40% {\n",
              "      border-color: transparent;\n",
              "      border-right-color: var(--fill-color);\n",
              "      border-top-color: var(--fill-color);\n",
              "    }\n",
              "    60% {\n",
              "      border-color: transparent;\n",
              "      border-right-color: var(--fill-color);\n",
              "    }\n",
              "    80% {\n",
              "      border-color: transparent;\n",
              "      border-right-color: var(--fill-color);\n",
              "      border-bottom-color: var(--fill-color);\n",
              "    }\n",
              "    90% {\n",
              "      border-color: transparent;\n",
              "      border-bottom-color: var(--fill-color);\n",
              "    }\n",
              "  }\n",
              "</style>\n",
              "\n",
              "  <script>\n",
              "    async function quickchart(key) {\n",
              "      const quickchartButtonEl =\n",
              "        document.querySelector('#' + key + ' button');\n",
              "      quickchartButtonEl.disabled = true;  // To prevent multiple clicks.\n",
              "      quickchartButtonEl.classList.add('colab-df-spinner');\n",
              "      try {\n",
              "        const charts = await google.colab.kernel.invokeFunction(\n",
              "            'suggestCharts', [key], {});\n",
              "      } catch (error) {\n",
              "        console.error('Error during call to suggestCharts:', error);\n",
              "      }\n",
              "      quickchartButtonEl.classList.remove('colab-df-spinner');\n",
              "      quickchartButtonEl.classList.add('colab-df-quickchart-complete');\n",
              "    }\n",
              "    (() => {\n",
              "      let quickchartButtonEl =\n",
              "        document.querySelector('#df-dc8cb775-b838-434d-86a0-713f21551692 button');\n",
              "      quickchartButtonEl.style.display =\n",
              "        google.colab.kernel.accessAllowed ? 'block' : 'none';\n",
              "    })();\n",
              "  </script>\n",
              "</div>\n",
              "\n",
              "    </div>\n",
              "  </div>\n"
            ],
            "application/vnd.google.colaboratory.intrinsic+json": {
              "type": "dataframe",
              "summary": "{\n  \"name\": \"latitud_scaract\",\n  \"rows\": 6114,\n  \"fields\": [\n    {\n      \"column\": \"codigo_ocorrencia\",\n      \"properties\": {\n        \"dtype\": \"number\",\n        \"std\": 14552,\n        \"min\": 39115,\n        \"max\": 80259,\n        \"num_unique_values\": 6114,\n        \"samples\": [\n          79482,\n          78266,\n          60752\n        ],\n        \"semantic_type\": \"\",\n        \"description\": \"\"\n      }\n    },\n    {\n      \"column\": \"ocorrencia_latitude\",\n      \"properties\": {\n        \"dtype\": \"category\",\n        \"num_unique_values\": 2705,\n        \"samples\": [\n          \"-254888888889\",\n          \"-204161111111\",\n          \"-2334055555\"\n        ],\n        \"semantic_type\": \"\",\n        \"description\": \"\"\n      }\n    }\n  ]\n}"
            }
          },
          "metadata": {},
          "execution_count": 57
        }
      ]
    },
    {
      "cell_type": "code",
      "source": [
        "#El dataset contiene varios caracteres por los que los reemplazo\n",
        "longitud_scaract = longitud_scaract.replace('--','-',regex=True)"
      ],
      "metadata": {
        "id": "8Y8ga2KkM6ZT"
      },
      "execution_count": 58,
      "outputs": []
    },
    {
      "cell_type": "code",
      "source": [
        "longitud_scaract = longitud_scaract.replace('°','',regex=True)"
      ],
      "metadata": {
        "id": "OF0eC7V-NQaS"
      },
      "execution_count": 59,
      "outputs": []
    },
    {
      "cell_type": "code",
      "source": [
        "longitud_scaract['ocorrencia_longitude'] = pd.to_numeric(longitud_scaract['ocorrencia_longitude'], errors='coerce')"
      ],
      "metadata": {
        "id": "hkBvj3dwPMEl"
      },
      "execution_count": 60,
      "outputs": []
    },
    {
      "cell_type": "code",
      "source": [
        "latitud_scaract=latitud_scaract.replace('--','-',regex=True)"
      ],
      "metadata": {
        "id": "GP7qZe5cPsTO"
      },
      "execution_count": 61,
      "outputs": []
    },
    {
      "cell_type": "code",
      "source": [
        "latitud_scaract=latitud_scaract.replace('°','',regex=True)"
      ],
      "metadata": {
        "id": "i7EHGqHUP_qR"
      },
      "execution_count": 62,
      "outputs": []
    },
    {
      "cell_type": "code",
      "source": [
        "latitud_scaract['ocorrencia_latitude'] = pd.to_numeric(latitud_scaract['ocorrencia_latitude'], errors='coerce')"
      ],
      "metadata": {
        "id": "Rs11KN55QH9l"
      },
      "execution_count": 63,
      "outputs": []
    },
    {
      "cell_type": "code",
      "source": [
        "latitud_scaract.info()"
      ],
      "metadata": {
        "colab": {
          "base_uri": "https://localhost:8080/"
        },
        "id": "PtiJ-xunYj_p",
        "outputId": "8ed56a53-fd91-4b43-9ded-5ffd561e7aa2"
      },
      "execution_count": 64,
      "outputs": [
        {
          "output_type": "stream",
          "name": "stdout",
          "text": [
            "<class 'pandas.core.frame.DataFrame'>\n",
            "Index: 6114 entries, 40211 to 80259\n",
            "Data columns (total 1 columns):\n",
            " #   Column               Non-Null Count  Dtype  \n",
            "---  ------               --------------  -----  \n",
            " 0   ocorrencia_latitude  5654 non-null   float64\n",
            "dtypes: float64(1)\n",
            "memory usage: 95.5 KB\n"
          ]
        }
      ]
    },
    {
      "cell_type": "code",
      "source": [
        "#Busco la media de longitud y latitud para poder reemplazarla con los valores faltantes\n",
        "media_latitud =  latitud_scaract.mean()\n",
        "print(media_latitud)"
      ],
      "metadata": {
        "colab": {
          "base_uri": "https://localhost:8080/"
        },
        "id": "2wUvNoF8QhPI",
        "outputId": "a1a6dbdb-3e4d-4cea-ad54-7aadaeff8257"
      },
      "execution_count": 65,
      "outputs": [
        {
          "output_type": "stream",
          "name": "stdout",
          "text": [
            "ocorrencia_latitude   -1.436302e+11\n",
            "dtype: float64\n"
          ]
        }
      ]
    },
    {
      "cell_type": "code",
      "source": [
        "media_longitud =  longitud_scaract.mean()\n",
        "print(media_longitud)"
      ],
      "metadata": {
        "colab": {
          "base_uri": "https://localhost:8080/"
        },
        "id": "bar4R834RIsj",
        "outputId": "b775090e-379a-4b7a-ebd1-a4e7abddd2a0"
      },
      "execution_count": 66,
      "outputs": [
        {
          "output_type": "stream",
          "name": "stdout",
          "text": [
            "ocorrencia_longitude   -2.818031e+11\n",
            "dtype: float64\n"
          ]
        }
      ]
    },
    {
      "cell_type": "code",
      "source": [
        "#Reemplazo por la media segun corresponda\n",
        "Ocorrencia['ocorrencia_longitude'] = pd.to_numeric(Ocorrencia['ocorrencia_longitude'], errors='coerce')\n",
        "Ocorrencia[('ocorrencia_longitude')].fillna(Ocorrencia['ocorrencia_longitude'].mean(),inplace=True)"
      ],
      "metadata": {
        "id": "bCInqEYZSjLq"
      },
      "execution_count": 67,
      "outputs": []
    },
    {
      "cell_type": "code",
      "source": [
        "Ocorrencia['ocorrencia_latitude'] = pd.to_numeric(Ocorrencia['ocorrencia_latitude'], errors='coerce')\n",
        "Ocorrencia[('ocorrencia_latitude')].fillna(Ocorrencia['ocorrencia_latitude'].mean(),inplace=True)"
      ],
      "metadata": {
        "id": "_diPcK96UaB3"
      },
      "execution_count": 68,
      "outputs": []
    },
    {
      "cell_type": "code",
      "source": [
        "# Completo datos faltantes con 'Desconocido'\n",
        "Ocorrencia[('investigacao_status')].fillna('DESCONOCIDO', inplace=True)"
      ],
      "metadata": {
        "id": "7aEMon3oVNIf"
      },
      "execution_count": 69,
      "outputs": []
    },
    {
      "cell_type": "code",
      "source": [
        "Ocorrencia[('investigacao_aeronave_liberada')].fillna('DESCONOCIDO', inplace=True)"
      ],
      "metadata": {
        "id": "ce1sRrXNYg0g"
      },
      "execution_count": 70,
      "outputs": []
    },
    {
      "cell_type": "code",
      "source": [
        "Ocorrencia[('divulgacao_relatorio_numero')].fillna('DESCONOCIDO', inplace=True)"
      ],
      "metadata": {
        "id": "Y90hX7IjZZbW"
      },
      "execution_count": 71,
      "outputs": []
    },
    {
      "cell_type": "code",
      "source": [
        "Ocorrencia[('divulgacao_relatorio_numero')].fillna(Ocorrencia['divulgacao_relatorio_numero'].mode(),inplace=True)"
      ],
      "metadata": {
        "id": "Yrw8A6aIY_Eu"
      },
      "execution_count": 72,
      "outputs": []
    },
    {
      "cell_type": "code",
      "source": [
        "Ocorrencia[('divulgacao_relatorio_numero')].replace('***', 'DESCONOCIDO')"
      ],
      "metadata": {
        "colab": {
          "base_uri": "https://localhost:8080/"
        },
        "id": "Lz2Jali3gp9J",
        "outputId": "d9d52a84-fe3d-4a1e-d491-3ca75e9c78ac"
      },
      "execution_count": 73,
      "outputs": [
        {
          "output_type": "execute_result",
          "data": {
            "text/plain": [
              "codigo_ocorrencia\n",
              "40211          DESCONOCIDO\n",
              "40349          DESCONOCIDO\n",
              "40351          DESCONOCIDO\n",
              "39527    A-539/CENIPA/2018\n",
              "40324          DESCONOCIDO\n",
              "               ...        \n",
              "80245          DESCONOCIDO\n",
              "80247          DESCONOCIDO\n",
              "80251          DESCONOCIDO\n",
              "80257          DESCONOCIDO\n",
              "80259          DESCONOCIDO\n",
              "Name: divulgacao_relatorio_numero, Length: 6114, dtype: object"
            ]
          },
          "metadata": {},
          "execution_count": 73
        }
      ]
    },
    {
      "cell_type": "code",
      "source": [
        "Ocorrencia[('ocorrencia_aerodromo')].replace('***', 'DESCONOCIDO')"
      ],
      "metadata": {
        "colab": {
          "base_uri": "https://localhost:8080/"
        },
        "id": "Pkf9I6vyG_zd",
        "outputId": "ae8436c8-f038-4f68-e116-d052321036bc"
      },
      "execution_count": 74,
      "outputs": [
        {
          "output_type": "execute_result",
          "data": {
            "text/plain": [
              "codigo_ocorrencia\n",
              "40211    ****\n",
              "40349    SBBE\n",
              "40351    SBRJ\n",
              "39527    ****\n",
              "40324    SBPK\n",
              "         ... \n",
              "80245    SBRF\n",
              "80247    SBPV\n",
              "80251    SBBE\n",
              "80257    ****\n",
              "80259    SBKP\n",
              "Name: ocorrencia_aerodromo, Length: 6114, dtype: object"
            ]
          },
          "metadata": {},
          "execution_count": 74
        }
      ]
    },
    {
      "cell_type": "code",
      "source": [
        "Ocorrencia[('ocorrencia_aerodromo')].replace('****', 'DESCONOCIDO')"
      ],
      "metadata": {
        "colab": {
          "base_uri": "https://localhost:8080/"
        },
        "id": "KdNVuXkcHeA6",
        "outputId": "4ed5a92a-05e4-419a-ca8a-a94003db2c2e"
      },
      "execution_count": 75,
      "outputs": [
        {
          "output_type": "execute_result",
          "data": {
            "text/plain": [
              "codigo_ocorrencia\n",
              "40211    DESCONOCIDO\n",
              "40349           SBBE\n",
              "40351           SBRJ\n",
              "39527    DESCONOCIDO\n",
              "40324           SBPK\n",
              "            ...     \n",
              "80245           SBRF\n",
              "80247           SBPV\n",
              "80251           SBBE\n",
              "80257    DESCONOCIDO\n",
              "80259           SBKP\n",
              "Name: ocorrencia_aerodromo, Length: 6114, dtype: object"
            ]
          },
          "metadata": {},
          "execution_count": 75
        }
      ]
    },
    {
      "cell_type": "code",
      "source": [
        "Ocorrencia.isnull().sum()"
      ],
      "metadata": {
        "colab": {
          "base_uri": "https://localhost:8080/"
        },
        "id": "sYx8yJYaUhtR",
        "outputId": "266b6d54-f780-4808-95dc-2e72acde578f"
      },
      "execution_count": 76,
      "outputs": [
        {
          "output_type": "execute_result",
          "data": {
            "text/plain": [
              "codigo_ocorrencia1                   0\n",
              "codigo_ocorrencia2                   0\n",
              "codigo_ocorrencia3                   0\n",
              "codigo_ocorrencia4                   0\n",
              "ocorrencia_classificacao             0\n",
              "ocorrencia_latitude                  0\n",
              "ocorrencia_longitude                 0\n",
              "ocorrencia_cidade                    0\n",
              "ocorrencia_uf                        0\n",
              "ocorrencia_pais                      0\n",
              "ocorrencia_aerodromo                 0\n",
              "ocorrencia_dia                       0\n",
              "ocorrencia_hora                      1\n",
              "investigacao_aeronave_liberada       0\n",
              "investigacao_status                  0\n",
              "divulgacao_relatorio_numero          0\n",
              "divulgacao_relatorio_publicado       0\n",
              "divulgacao_dia_publicacao         4537\n",
              "total_recomendacoes                  0\n",
              "total_aeronaves_envolvidas           0\n",
              "ocorrencia_saida_pista               0\n",
              "dtype: int64"
            ]
          },
          "metadata": {},
          "execution_count": 76
        }
      ]
    },
    {
      "cell_type": "code",
      "source": [
        "#Calculo fechas random para fechas NaT faltantes\n",
        "import random\n",
        "from datetime import datetime"
      ],
      "metadata": {
        "id": "NRuEuO1eb7lt"
      },
      "execution_count": 77,
      "outputs": []
    },
    {
      "cell_type": "code",
      "source": [
        "Ocorrencia_nulos=Ocorrencia['divulgacao_dia_publicacao'].loc[Ocorrencia.divulgacao_dia_publicacao.isna()]"
      ],
      "metadata": {
        "id": "xeZam0ZZmxgI"
      },
      "execution_count": 78,
      "outputs": []
    },
    {
      "cell_type": "code",
      "source": [
        "#Necesito completar fechas, lo relleno con fechas aleatorias\n",
        "def random_date(start, end):\n",
        "    return start + (end - start) * np.random.rand()\n",
        "Fechas_ocorrencia = Ocorrencia_nulos\n",
        "start_date = pd.Timestamp('1960-01-01')\n",
        "end_date = pd.Timestamp('2022-12-31')\n",
        "num_dates_to_generate = ()"
      ],
      "metadata": {
        "id": "oeI0pf81b9j4"
      },
      "execution_count": 79,
      "outputs": []
    },
    {
      "cell_type": "code",
      "source": [
        "num_dates_to_generate = Ocorrencia_nulos.size\n",
        "random_dates = [random_date(start_date, end_date) for _ in range(num_dates_to_generate)]"
      ],
      "metadata": {
        "id": "s_q70gj5cP22"
      },
      "execution_count": 80,
      "outputs": []
    },
    {
      "cell_type": "code",
      "source": [
        "fechas_totales=Ocorrencia['divulgacao_dia_publicacao'].fillna(pd.Series(random_dates, index=Ocorrencia_nulos.index))"
      ],
      "metadata": {
        "id": "ZE30b0hu_cb-"
      },
      "execution_count": 81,
      "outputs": []
    },
    {
      "cell_type": "code",
      "source": [
        "print(fechas_totales)"
      ],
      "metadata": {
        "colab": {
          "base_uri": "https://localhost:8080/"
        },
        "id": "kE39cVNNBg95",
        "outputId": "4f51cd40-092e-4674-da07-1f655d9b49a7"
      },
      "execution_count": 82,
      "outputs": [
        {
          "output_type": "stream",
          "name": "stdout",
          "text": [
            "codigo_ocorrencia\n",
            "40211   1963-06-23 00:54:00\n",
            "40349   2011-11-14 11:36:02\n",
            "40351   1972-05-18 11:02:44\n",
            "39527   2019-10-28 00:00:00\n",
            "40324   2014-06-18 12:17:00\n",
            "                ...        \n",
            "80245   2014-02-21 17:06:49\n",
            "80247   2022-11-10 21:14:15\n",
            "80251   1984-02-29 09:03:53\n",
            "80257   1964-04-15 07:26:50\n",
            "80259   1989-10-23 14:11:02\n",
            "Name: divulgacao_dia_publicacao, Length: 6114, dtype: datetime64[ns]\n"
          ]
        }
      ]
    },
    {
      "cell_type": "code",
      "source": [
        "print(Ocorrencia[['investigacao_aeronave_liberada', 'investigacao_status','divulgacao_relatorio_numero', 'divulgacao_dia_publicacao']].fillna('DESCONOCIDO'))"
      ],
      "metadata": {
        "colab": {
          "base_uri": "https://localhost:8080/"
        },
        "id": "Qx8lztH3v_nF",
        "outputId": "6d68a850-8edc-4fd1-8b92-e5c3c128f01f"
      },
      "execution_count": 83,
      "outputs": [
        {
          "output_type": "stream",
          "name": "stdout",
          "text": [
            "                  investigacao_aeronave_liberada investigacao_status  \\\n",
            "codigo_ocorrencia                                                      \n",
            "40211                                        SIM          FINALIZADA   \n",
            "40349                                        SIM          FINALIZADA   \n",
            "40351                                        SIM          FINALIZADA   \n",
            "39527                                        SIM          FINALIZADA   \n",
            "40324                                        SIM          FINALIZADA   \n",
            "...                                          ...                 ...   \n",
            "80245                                        SIM          FINALIZADA   \n",
            "80247                                        SIM          FINALIZADA   \n",
            "80251                                        SIM          FINALIZADA   \n",
            "80257                                        SIM          FINALIZADA   \n",
            "80259                                        SIM          FINALIZADA   \n",
            "\n",
            "                  divulgacao_relatorio_numero divulgacao_dia_publicacao  \n",
            "codigo_ocorrencia                                                        \n",
            "40211                                     ***               DESCONOCIDO  \n",
            "40349                             DESCONOCIDO               DESCONOCIDO  \n",
            "40351                             DESCONOCIDO               DESCONOCIDO  \n",
            "39527                       A-539/CENIPA/2018       2019-10-28 00:00:00  \n",
            "40324                             DESCONOCIDO               DESCONOCIDO  \n",
            "...                                       ...                       ...  \n",
            "80245                                     ***               DESCONOCIDO  \n",
            "80247                                     ***               DESCONOCIDO  \n",
            "80251                                     ***               DESCONOCIDO  \n",
            "80257                                     ***               DESCONOCIDO  \n",
            "80259                                     ***               DESCONOCIDO  \n",
            "\n",
            "[6114 rows x 4 columns]\n"
          ]
        }
      ]
    },
    {
      "cell_type": "code",
      "source": [
        "Ocorrencia[('divulgacao_relatorio_numero')].replace('***', 'DESCONOCIDO', inplace=True)"
      ],
      "metadata": {
        "id": "VLet4OrVC6Td"
      },
      "execution_count": 84,
      "outputs": []
    },
    {
      "cell_type": "code",
      "source": [
        "Incidentes=Ocorrencia.ocorrencia_classificacao.value_counts()\n",
        "Incidentes"
      ],
      "metadata": {
        "colab": {
          "base_uri": "https://localhost:8080/"
        },
        "id": "Dxl3Y1riqDZ5",
        "outputId": "411486db-f442-48bc-aed8-a595784e03a8"
      },
      "execution_count": 85,
      "outputs": [
        {
          "output_type": "execute_result",
          "data": {
            "text/plain": [
              "ocorrencia_classificacao\n",
              "INCIDENTE          3393\n",
              "ACIDENTE           1930\n",
              "INCIDENTE GRAVE     791\n",
              "Name: count, dtype: int64"
            ]
          },
          "metadata": {},
          "execution_count": 85
        }
      ]
    },
    {
      "cell_type": "code",
      "source": [
        "Ocorrencia.ocorrencia_cidade.value_counts()"
      ],
      "metadata": {
        "colab": {
          "base_uri": "https://localhost:8080/"
        },
        "id": "7uJ0KijAr1Ix",
        "outputId": "94bfef22-4b15-496a-edab-8c4e44696645"
      },
      "execution_count": 86,
      "outputs": [
        {
          "output_type": "execute_result",
          "data": {
            "text/plain": [
              "ocorrencia_cidade\n",
              "RIO DE JANEIRO       331\n",
              "SÃO PAULO            291\n",
              "BELO HORIZONTE       196\n",
              "CAMPINAS             176\n",
              "GUARULHOS            163\n",
              "                    ... \n",
              "PASSOS                 1\n",
              "ASSUNÇÃO DO PIAUÍ      1\n",
              "MAUÁ DA SERRA          1\n",
              "BOA ESPERANÇA          1\n",
              "DOM AQUINO             1\n",
              "Name: count, Length: 1133, dtype: int64"
            ]
          },
          "metadata": {},
          "execution_count": 86
        }
      ]
    },
    {
      "cell_type": "code",
      "source": [
        "ciudades_importantes= Ocorrencia['ocorrencia_cidade'].head(10)\n",
        "ciudades_importantes"
      ],
      "metadata": {
        "colab": {
          "base_uri": "https://localhost:8080/"
        },
        "id": "JahGLMNAoBrZ",
        "outputId": "c92f54a5-bedf-45ba-bb29-9b83fb6caacb"
      },
      "execution_count": 87,
      "outputs": [
        {
          "output_type": "execute_result",
          "data": {
            "text/plain": [
              "codigo_ocorrencia\n",
              "40211        RIO DE JANEIRO\n",
              "40349                 BELÉM\n",
              "40351        RIO DE JANEIRO\n",
              "39527    LUCAS DO RIO VERDE\n",
              "40324               PELOTAS\n",
              "39807              SALVADOR\n",
              "40215                 COARI\n",
              "39707              CANUTAMA\n",
              "39156              CASCAVEL\n",
              "39711         PARÁ DE MINAS\n",
              "Name: ocorrencia_cidade, dtype: object"
            ]
          },
          "metadata": {},
          "execution_count": 87
        }
      ]
    },
    {
      "cell_type": "code",
      "source": [
        "Ocorrencia['ocorrencia_dia'] = Ocorrencia['ocorrencia_dia'].astype(str)\n",
        "Ocorrencia_año = Ocorrencia.ocorrencia_dia.str.split(\"-\", n=1).str[0]"
      ],
      "metadata": {
        "id": "C8tNjOSU6M86"
      },
      "execution_count": 88,
      "outputs": []
    },
    {
      "cell_type": "code",
      "source": [
        "conteo_años=Ocorrencia_año.value_counts()"
      ],
      "metadata": {
        "id": "mh8hLkoW7sj-"
      },
      "execution_count": 89,
      "outputs": []
    },
    {
      "cell_type": "code",
      "source": [
        "años_ord=Ocorrencia_año.sort_values()"
      ],
      "metadata": {
        "id": "hW3cOSJ0yoqP"
      },
      "execution_count": 90,
      "outputs": []
    },
    {
      "cell_type": "markdown",
      "source": [
        "**¿Cual es el estado de la investigación según el grado de incidentes?**"
      ],
      "metadata": {
        "id": "WpWc6zYc5kpP"
      }
    },
    {
      "cell_type": "code",
      "source": [
        "palette =  sns.color_palette(\"mako_r\", 6)\n",
        "sns.lineplot(data=Ocorrencia,x=años_ord, y='ocorrencia_classificacao', hue='investigacao_status', style='investigacao_status',markers=True, dashes=False, palette=palette)\n",
        "plt.xlabel ('Año', fontsize=10)\n",
        "plt.ylabel ('Nivel de accidente',  fontsize=10)"
      ],
      "metadata": {
        "colab": {
          "base_uri": "https://localhost:8080/",
          "height": 523
        },
        "id": "1kNA5TZm5AbF",
        "outputId": "c86f3dc4-8512-4e2f-e549-15275bd83a48"
      },
      "execution_count": 91,
      "outputs": [
        {
          "output_type": "stream",
          "name": "stderr",
          "text": [
            "<ipython-input-91-7230c97254d2>:2: UserWarning: The palette list has more values (6) than needed (3), which may not be intended.\n",
            "  sns.lineplot(data=Ocorrencia,x=años_ord, y='ocorrencia_classificacao', hue='investigacao_status', style='investigacao_status',markers=True, dashes=False, palette=palette)\n"
          ]
        },
        {
          "output_type": "execute_result",
          "data": {
            "text/plain": [
              "Text(0, 0.5, 'Nivel de accidente')"
            ]
          },
          "metadata": {},
          "execution_count": 91
        },
        {
          "output_type": "display_data",
          "data": {
            "text/plain": [
              "<Figure size 640x480 with 1 Axes>"
            ],
            "image/png": "[encoded data removed]"
          },
          "metadata": {}
        }
      ]
    },
    {
      "cell_type": "markdown",
      "source": [
        "Lo que puede apreciar en el gráfico es:\n",
        "\n",
        "\n",
        "*   Durante los años 2010 a 2017 la mayoria fueron acidentes, donde su investigación es desconocida.\n",
        "*   Tambien a lo largo de los años podemos determinar que las investigaciones conluidas fueron incidentes.\n",
        "*Y a posteriori las investigaciones activas fueron fluctuando a lo largo de los años, siendo en 2010 una de las más graves, como asi también en estos últimos años.\n",
        "\n"
      ],
      "metadata": {
        "id": "mkIN9UpqBAGM"
      }
    },
    {
      "cell_type": "markdown",
      "source": [
        "**Mientras que un accidente implica daño significativo a la aeronave o lesiones graves o fatales a las personas, un incidente se refiere a eventos menos graves que aún podrían afectar la seguridad de las operaciones aéreas.**\n",
        "\n",
        "En el contexto de la aviación, los términos \"incidente\" y \"accidente\" tienen definiciones específicas y diferentes, establecidas por la Organización de Aviación Civil Internacional (OACI). Estas definiciones ayudan a categorizar y analizar los eventos relacionados con la seguridad aérea de manera precisa. A continuación, se detalla la diferencia entre ambos términos:\n",
        "\n",
        "**Accidente**\n",
        "Definición:\n",
        "Un accidente es un evento relacionado con la operación de una aeronave que ocurre desde el momento en que cualquier persona aborda la aeronave con la intención de volar hasta el momento en que todas las personas hayan desembarcado, y en el que se produce al menos una de las siguientes situaciones:\n",
        "\n",
        "-Lesiones Graves o Fatales:\n",
        "\n",
        "Una persona resulta fatalmente o gravemente herida debido a estar a bordo de la aeronave, estar en contacto directo con la aeronave o con cualquier parte de la aeronave (incluidas las partes que se han desprendido de la aeronave).\n",
        "Daños a la Aeronave:\n",
        "\n",
        "La aeronave sufre daños o roturas estructurales que afectan negativamente su resistencia estructural, rendimiento o características de vuelo, y que normalmente requerirían una reparación importante o el reemplazo del componente afectado.\n",
        "Desaparición o Inaccesibilidad:\n",
        "\n",
        "La aeronave desaparece completamente o se encuentra en un lugar inaccesible.\n",
        "\n",
        "**Incidente**\n",
        "Definición:\n",
        "Un incidente es un evento, distinto de un accidente, asociado con la operación de una aeronave que afecta o podría afectar la seguridad de las operaciones. Los incidentes son generalmente eventos menos graves que no resultan en daños significativos a la aeronave ni en lesiones graves o fatales a personas.\n",
        "\n",
        "Ejemplos de Incidentes:\n",
        "\n",
        "-Fallos Técnicos Menores:\n",
        "Fallo de instrumentos o sistemas que no afectan significativamente la operación segura del vuelo.\n",
        "-Errores Operacionales:\n",
        "Desviaciones menores en la ruta de vuelo o errores en la comunicación con el control de tráfico aéreo.\n",
        "-Condiciones Meteorológicas:\n",
        "Encuentro con turbulencia que no causa daños a la aeronave ni lesiones a los pasajeros o tripulación.\n",
        "Importancia de la Distinción\n"
      ],
      "metadata": {
        "id": "Og-whZ6VEYRI"
      }
    },
    {
      "cell_type": "code",
      "source": [
        "Ocorrencia.ocorrencia_dia.value_counts()"
      ],
      "metadata": {
        "colab": {
          "base_uri": "https://localhost:8080/"
        },
        "id": "0P8vYwuGCs4N",
        "outputId": "7cc499a6-c221-4e1f-cf66-bff64f2c13fc"
      },
      "execution_count": 92,
      "outputs": [
        {
          "output_type": "execute_result",
          "data": {
            "text/plain": [
              "ocorrencia_dia\n",
              "2013-12-18    9\n",
              "2011-07-15    8\n",
              "2011-12-29    7\n",
              "2014-02-09    7\n",
              "2010-04-21    7\n",
              "             ..\n",
              "2012-12-15    1\n",
              "2017-05-27    1\n",
              "2012-12-18    1\n",
              "2012-12-23    1\n",
              "2015-06-30    1\n",
              "Name: count, Length: 3155, dtype: int64"
            ]
          },
          "metadata": {},
          "execution_count": 92
        }
      ]
    },
    {
      "cell_type": "markdown",
      "source": [
        "### Tabla 4 del conjunto de datasets"
      ],
      "metadata": {
        "id": "MGO3iUxGl_MF"
      }
    },
    {
      "cell_type": "code",
      "source": [
        "Ocorrencia_tipo = pd.read_excel ('/content/drive/MyDrive/Data Science 1/ocorrencia_tipo brasil 4.xlsx', index_col=0)\n",
        "Ocorrencia_tipo"
      ],
      "metadata": {
        "colab": {
          "base_uri": "https://localhost:8080/",
          "height": 507
        },
        "id": "cgwN-Cr6L4b1",
        "outputId": "8728a1a3-0527-4b50-d445-8d88fc64b941"
      },
      "execution_count": 93,
      "outputs": [
        {
          "output_type": "execute_result",
          "data": {
            "text/plain": [
              "                                                      ocorrencia_tipo  \\\n",
              "codigo_ocorrencia1                                                      \n",
              "39115                                                       PANE SECA   \n",
              "39155                                        VAZAMENTO DE COMBUSTÍVEL   \n",
              "39156                                                     FOGO EM VOO   \n",
              "39158                                                SUPERAQUECIMENTO   \n",
              "39176               FALHA OU MAU FUNCIONAMENTO DE SISTEMA / COMPON...   \n",
              "...                                                               ...   \n",
              "80251               FALHA OU MAU FUNCIONAMENTO DE SISTEMA / COMPON...   \n",
              "80257                                                   INDETERMINADO   \n",
              "80258                                               COLISÃO COM FAUNA   \n",
              "80258                                               EXCURSÃO DE PISTA   \n",
              "80259                             FALHA OU MAU FUNCIONAMENTO DO MOTOR   \n",
              "\n",
              "                                            ocorrencia_tipo_categoria  \\\n",
              "codigo_ocorrencia1                                                      \n",
              "39115                                         COMBUSTÍVEL | PANE SECA   \n",
              "39155               FALHA OU MAU FUNCIONAMENTO DE SISTEMA / COMPON...   \n",
              "39156                         FOGO/FUMAÇA (SEM IMPACTO) | FOGO EM VOO   \n",
              "39158               FALHA OU MAU FUNCIONAMENTO DO MOTOR | SUPERAQU...   \n",
              "39176               FALHA OU MAU FUNCIONAMENTO DE SISTEMA / COMPON...   \n",
              "...                                                               ...   \n",
              "80251               FALHA OU MAU FUNCIONAMENTO DE SISTEMA / COMPON...   \n",
              "80257                                                   INDETERMINADO   \n",
              "80258                                               COLISÃO COM FAUNA   \n",
              "80258                                               EXCURSÃO DE PISTA   \n",
              "80259                             FALHA OU MAU FUNCIONAMENTO DO MOTOR   \n",
              "\n",
              "                   taxonomia_tipo_icao  \n",
              "codigo_ocorrencia1                      \n",
              "39115                             FUEL  \n",
              "39155                           SCF-NP  \n",
              "39156                             F-NI  \n",
              "39158                           SCF-PP  \n",
              "39176                           SCF-NP  \n",
              "...                                ...  \n",
              "80251                           SCF-NP  \n",
              "80257                              UNK  \n",
              "80258                             WILD  \n",
              "80258                               RE  \n",
              "80259                           SCF-PP  \n",
              "\n",
              "[6283 rows x 3 columns]"
            ],
            "text/html": [
              "\n",
              "  <div id=\"df-dfac82c0-870c-40d1-94ba-db8057401b78\" class=\"colab-df-container\">\n",
              "    <div>\n",
              "<style scoped>\n",
              "    .dataframe tbody tr th:only-of-type {\n",
              "        vertical-align: middle;\n",
              "    }\n",
              "\n",
              "    .dataframe tbody tr th {\n",
              "        vertical-align: top;\n",
              "    }\n",
              "\n",
              "    .dataframe thead th {\n",
              "        text-align: right;\n",
              "    }\n",
              "</style>\n",
              "<table border=\"1\" class=\"dataframe\">\n",
              "  <thead>\n",
              "    <tr style=\"text-align: right;\">\n",
              "      <th></th>\n",
              "      <th>ocorrencia_tipo</th>\n",
              "      <th>ocorrencia_tipo_categoria</th>\n",
              "      <th>taxonomia_tipo_icao</th>\n",
              "    </tr>\n",
              "    <tr>\n",
              "      <th>codigo_ocorrencia1</th>\n",
              "      <th></th>\n",
              "      <th></th>\n",
              "      <th></th>\n",
              "    </tr>\n",
              "  </thead>\n",
              "  <tbody>\n",
              "    <tr>\n",
              "      <th>39115</th>\n",
              "      <td>PANE SECA</td>\n",
              "      <td>COMBUSTÍVEL | PANE SECA</td>\n",
              "      <td>FUEL</td>\n",
              "    </tr>\n",
              "    <tr>\n",
              "      <th>39155</th>\n",
              "      <td>VAZAMENTO DE COMBUSTÍVEL</td>\n",
              "      <td>FALHA OU MAU FUNCIONAMENTO DE SISTEMA / COMPON...</td>\n",
              "      <td>SCF-NP</td>\n",
              "    </tr>\n",
              "    <tr>\n",
              "      <th>39156</th>\n",
              "      <td>FOGO EM VOO</td>\n",
              "      <td>FOGO/FUMAÇA (SEM IMPACTO) | FOGO EM VOO</td>\n",
              "      <td>F-NI</td>\n",
              "    </tr>\n",
              "    <tr>\n",
              "      <th>39158</th>\n",
              "      <td>SUPERAQUECIMENTO</td>\n",
              "      <td>FALHA OU MAU FUNCIONAMENTO DO MOTOR | SUPERAQU...</td>\n",
              "      <td>SCF-PP</td>\n",
              "    </tr>\n",
              "    <tr>\n",
              "      <th>39176</th>\n",
              "      <td>FALHA OU MAU FUNCIONAMENTO DE SISTEMA / COMPON...</td>\n",
              "      <td>FALHA OU MAU FUNCIONAMENTO DE SISTEMA / COMPON...</td>\n",
              "      <td>SCF-NP</td>\n",
              "    </tr>\n",
              "    <tr>\n",
              "      <th>...</th>\n",
              "      <td>...</td>\n",
              "      <td>...</td>\n",
              "      <td>...</td>\n",
              "    </tr>\n",
              "    <tr>\n",
              "      <th>80251</th>\n",
              "      <td>FALHA OU MAU FUNCIONAMENTO DE SISTEMA / COMPON...</td>\n",
              "      <td>FALHA OU MAU FUNCIONAMENTO DE SISTEMA / COMPON...</td>\n",
              "      <td>SCF-NP</td>\n",
              "    </tr>\n",
              "    <tr>\n",
              "      <th>80257</th>\n",
              "      <td>INDETERMINADO</td>\n",
              "      <td>INDETERMINADO</td>\n",
              "      <td>UNK</td>\n",
              "    </tr>\n",
              "    <tr>\n",
              "      <th>80258</th>\n",
              "      <td>COLISÃO COM FAUNA</td>\n",
              "      <td>COLISÃO COM FAUNA</td>\n",
              "      <td>WILD</td>\n",
              "    </tr>\n",
              "    <tr>\n",
              "      <th>80258</th>\n",
              "      <td>EXCURSÃO DE PISTA</td>\n",
              "      <td>EXCURSÃO DE PISTA</td>\n",
              "      <td>RE</td>\n",
              "    </tr>\n",
              "    <tr>\n",
              "      <th>80259</th>\n",
              "      <td>FALHA OU MAU FUNCIONAMENTO DO MOTOR</td>\n",
              "      <td>FALHA OU MAU FUNCIONAMENTO DO MOTOR</td>\n",
              "      <td>SCF-PP</td>\n",
              "    </tr>\n",
              "  </tbody>\n",
              "</table>\n",
              "<p>6283 rows × 3 columns</p>\n",
              "</div>\n",
              "    <div class=\"colab-df-buttons\">\n",
              "\n",
              "  <div class=\"colab-df-container\">\n",
              "    <button class=\"colab-df-convert\" onclick=\"convertToInteractive('df-dfac82c0-870c-40d1-94ba-db8057401b78')\"\n",
              "            title=\"Convert this dataframe to an interactive table.\"\n",
              "            style=\"display:none;\">\n",
              "\n",
              "  <svg xmlns=\"http://www.w3.org/2000/svg\" height=\"24px\" viewBox=\"0 -960 960 960\">\n",
              "    <path d=\"M120-120v-720h720v720H120Zm60-500h600v-160H180v160Zm220 220h160v-160H400v160Zm0 220h160v-160H400v160ZM180-400h160v-160H180v160Zm440 0h160v-160H620v160ZM180-180h160v-160H180v160Zm440 0h160v-160H620v160Z\"/>\n",
              "  </svg>\n",
              "    </button>\n",
              "\n",
              "  <style>\n",
              "    .colab-df-container {\n",
              "      display:flex;\n",
              "      gap: 12px;\n",
              "    }\n",
              "\n",
              "    .colab-df-convert {\n",
              "      background-color: #E8F0FE;\n",
              "      border: none;\n",
              "      border-radius: 50%;\n",
              "      cursor: pointer;\n",
              "      display: none;\n",
              "      fill: #1967D2;\n",
              "      height: 32px;\n",
              "      padding: 0 0 0 0;\n",
              "      width: 32px;\n",
              "    }\n",
              "\n",
              "    .colab-df-convert:hover {\n",
              "      background-color: #E2EBFA;\n",
              "      box-shadow: 0px 1px 2px rgba(60, 64, 67, 0.3), 0px 1px 3px 1px rgba(60, 64, 67, 0.15);\n",
              "      fill: #174EA6;\n",
              "    }\n",
              "\n",
              "    .colab-df-buttons div {\n",
              "      margin-bottom: 4px;\n",
              "    }\n",
              "\n",
              "    [theme=dark] .colab-df-convert {\n",
              "      background-color: #3B4455;\n",
              "      fill: #D2E3FC;\n",
              "    }\n",
              "\n",
              "    [theme=dark] .colab-df-convert:hover {\n",
              "      background-color: #434B5C;\n",
              "      box-shadow: 0px 1px 3px 1px rgba(0, 0, 0, 0.15);\n",
              "      filter: drop-shadow(0px 1px 2px rgba(0, 0, 0, 0.3));\n",
              "      fill: #FFFFFF;\n",
              "    }\n",
              "  </style>\n",
              "\n",
              "    <script>\n",
              "      const buttonEl =\n",
              "        document.querySelector('#df-dfac82c0-870c-40d1-94ba-db8057401b78 button.colab-df-convert');\n",
              "      buttonEl.style.display =\n",
              "        google.colab.kernel.accessAllowed ? 'block' : 'none';\n",
              "\n",
              "      async function convertToInteractive(key) {\n",
              "        const element = document.querySelector('#df-dfac82c0-870c-40d1-94ba-db8057401b78');\n",
              "        const dataTable =\n",
              "          await google.colab.kernel.invokeFunction('convertToInteractive',\n",
              "                                                    [key], {});\n",
              "        if (!dataTable) return;\n",
              "\n",
              "        const docLinkHtml = 'Like what you see? Visit the ' +\n",
              "          '<a target=\"_blank\" href=https://colab.research.google.com/notebooks/data_table.ipynb>data table notebook</a>'\n",
              "          + ' to learn more about interactive tables.';\n",
              "        element.innerHTML = '';\n",
              "        dataTable['output_type'] = 'display_data';\n",
              "        await google.colab.output.renderOutput(dataTable, element);\n",
              "        const docLink = document.createElement('div');\n",
              "        docLink.innerHTML = docLinkHtml;\n",
              "        element.appendChild(docLink);\n",
              "      }\n",
              "    </script>\n",
              "  </div>\n",
              "\n",
              "\n",
              "<div id=\"df-1e0f93c4-740e-4f1f-845e-917038232744\">\n",
              "  <button class=\"colab-df-quickchart\" onclick=\"quickchart('df-1e0f93c4-740e-4f1f-845e-917038232744')\"\n",
              "            title=\"Suggest charts\"\n",
              "            style=\"display:none;\">\n",
              "\n",
              "<svg xmlns=\"http://www.w3.org/2000/svg\" height=\"24px\"viewBox=\"0 0 24 24\"\n",
              "     width=\"24px\">\n",
              "    <g>\n",
              "        <path d=\"M19 3H5c-1.1 0-2 .9-2 2v14c0 1.1.9 2 2 2h14c1.1 0 2-.9 2-2V5c0-1.1-.9-2-2-2zM9 17H7v-7h2v7zm4 0h-2V7h2v10zm4 0h-2v-4h2v4z\"/>\n",
              "    </g>\n",
              "</svg>\n",
              "  </button>\n",
              "\n",
              "<style>\n",
              "  .colab-df-quickchart {\n",
              "      --bg-color: #E8F0FE;\n",
              "      --fill-color: #1967D2;\n",
              "      --hover-bg-color: #E2EBFA;\n",
              "      --hover-fill-color: #174EA6;\n",
              "      --disabled-fill-color: #AAA;\n",
              "      --disabled-bg-color: #DDD;\n",
              "  }\n",
              "\n",
              "  [theme=dark] .colab-df-quickchart {\n",
              "      --bg-color: #3B4455;\n",
              "      --fill-color: #D2E3FC;\n",
              "      --hover-bg-color: #434B5C;\n",
              "      --hover-fill-color: #FFFFFF;\n",
              "      --disabled-bg-color: #3B4455;\n",
              "      --disabled-fill-color: #666;\n",
              "  }\n",
              "\n",
              "  .colab-df-quickchart {\n",
              "    background-color: var(--bg-color);\n",
              "    border: none;\n",
              "    border-radius: 50%;\n",
              "    cursor: pointer;\n",
              "    display: none;\n",
              "    fill: var(--fill-color);\n",
              "    height: 32px;\n",
              "    padding: 0;\n",
              "    width: 32px;\n",
              "  }\n",
              "\n",
              "  .colab-df-quickchart:hover {\n",
              "    background-color: var(--hover-bg-color);\n",
              "    box-shadow: 0 1px 2px rgba(60, 64, 67, 0.3), 0 1px 3px 1px rgba(60, 64, 67, 0.15);\n",
              "    fill: var(--button-hover-fill-color);\n",
              "  }\n",
              "\n",
              "  .colab-df-quickchart-complete:disabled,\n",
              "  .colab-df-quickchart-complete:disabled:hover {\n",
              "    background-color: var(--disabled-bg-color);\n",
              "    fill: var(--disabled-fill-color);\n",
              "    box-shadow: none;\n",
              "  }\n",
              "\n",
              "  .colab-df-spinner {\n",
              "    border: 2px solid var(--fill-color);\n",
              "    border-color: transparent;\n",
              "    border-bottom-color: var(--fill-color);\n",
              "    animation:\n",
              "      spin 1s steps(1) infinite;\n",
              "  }\n",
              "\n",
              "  @keyframes spin {\n",
              "    0% {\n",
              "      border-color: transparent;\n",
              "      border-bottom-color: var(--fill-color);\n",
              "      border-left-color: var(--fill-color);\n",
              "    }\n",
              "    20% {\n",
              "      border-color: transparent;\n",
              "      border-left-color: var(--fill-color);\n",
              "      border-top-color: var(--fill-color);\n",
              "    }\n",
              "    30% {\n",
              "      border-color: transparent;\n",
              "      border-left-color: var(--fill-color);\n",
              "      border-top-color: var(--fill-color);\n",
              "      border-right-color: var(--fill-color);\n",
              "    }\n",
              "    40% {\n",
              "      border-color: transparent;\n",
              "      border-right-color: var(--fill-color);\n",
              "      border-top-color: var(--fill-color);\n",
              "    }\n",
              "    60% {\n",
              "      border-color: transparent;\n",
              "      border-right-color: var(--fill-color);\n",
              "    }\n",
              "    80% {\n",
              "      border-color: transparent;\n",
              "      border-right-color: var(--fill-color);\n",
              "      border-bottom-color: var(--fill-color);\n",
              "    }\n",
              "    90% {\n",
              "      border-color: transparent;\n",
              "      border-bottom-color: var(--fill-color);\n",
              "    }\n",
              "  }\n",
              "</style>\n",
              "\n",
              "  <script>\n",
              "    async function quickchart(key) {\n",
              "      const quickchartButtonEl =\n",
              "        document.querySelector('#' + key + ' button');\n",
              "      quickchartButtonEl.disabled = true;  // To prevent multiple clicks.\n",
              "      quickchartButtonEl.classList.add('colab-df-spinner');\n",
              "      try {\n",
              "        const charts = await google.colab.kernel.invokeFunction(\n",
              "            'suggestCharts', [key], {});\n",
              "      } catch (error) {\n",
              "        console.error('Error during call to suggestCharts:', error);\n",
              "      }\n",
              "      quickchartButtonEl.classList.remove('colab-df-spinner');\n",
              "      quickchartButtonEl.classList.add('colab-df-quickchart-complete');\n",
              "    }\n",
              "    (() => {\n",
              "      let quickchartButtonEl =\n",
              "        document.querySelector('#df-1e0f93c4-740e-4f1f-845e-917038232744 button');\n",
              "      quickchartButtonEl.style.display =\n",
              "        google.colab.kernel.accessAllowed ? 'block' : 'none';\n",
              "    })();\n",
              "  </script>\n",
              "</div>\n",
              "\n",
              "  <div id=\"id_27a05ed2-c71b-4049-b810-304f3335f426\">\n",
              "    <style>\n",
              "      .colab-df-generate {\n",
              "        background-color: #E8F0FE;\n",
              "        border: none;\n",
              "        border-radius: 50%;\n",
              "        cursor: pointer;\n",
              "        display: none;\n",
              "        fill: #1967D2;\n",
              "        height: 32px;\n",
              "        padding: 0 0 0 0;\n",
              "        width: 32px;\n",
              "      }\n",
              "\n",
              "      .colab-df-generate:hover {\n",
              "        background-color: #E2EBFA;\n",
              "        box-shadow: 0px 1px 2px rgba(60, 64, 67, 0.3), 0px 1px 3px 1px rgba(60, 64, 67, 0.15);\n",
              "        fill: #174EA6;\n",
              "      }\n",
              "\n",
              "      [theme=dark] .colab-df-generate {\n",
              "        background-color: #3B4455;\n",
              "        fill: #D2E3FC;\n",
              "      }\n",
              "\n",
              "      [theme=dark] .colab-df-generate:hover {\n",
              "        background-color: #434B5C;\n",
              "        box-shadow: 0px 1px 3px 1px rgba(0, 0, 0, 0.15);\n",
              "        filter: drop-shadow(0px 1px 2px rgba(0, 0, 0, 0.3));\n",
              "        fill: #FFFFFF;\n",
              "      }\n",
              "    </style>\n",
              "    <button class=\"colab-df-generate\" onclick=\"generateWithVariable('Ocorrencia_tipo')\"\n",
              "            title=\"Generate code using this dataframe.\"\n",
              "            style=\"display:none;\">\n",
              "\n",
              "  <svg xmlns=\"http://www.w3.org/2000/svg\" height=\"24px\"viewBox=\"0 0 24 24\"\n",
              "       width=\"24px\">\n",
              "    <path d=\"M7,19H8.4L18.45,9,17,7.55,7,17.6ZM5,21V16.75L18.45,3.32a2,2,0,0,1,2.83,0l1.4,1.43a1.91,1.91,0,0,1,.58,1.4,1.91,1.91,0,0,1-.58,1.4L9.25,21ZM18.45,9,17,7.55Zm-12,3A5.31,5.31,0,0,0,4.9,8.1,5.31,5.31,0,0,0,1,6.5,5.31,5.31,0,0,0,4.9,4.9,5.31,5.31,0,0,0,6.5,1,5.31,5.31,0,0,0,8.1,4.9,5.31,5.31,0,0,0,12,6.5,5.46,5.46,0,0,0,6.5,12Z\"/>\n",
              "  </svg>\n",
              "    </button>\n",
              "    <script>\n",
              "      (() => {\n",
              "      const buttonEl =\n",
              "        document.querySelector('#id_27a05ed2-c71b-4049-b810-304f3335f426 button.colab-df-generate');\n",
              "      buttonEl.style.display =\n",
              "        google.colab.kernel.accessAllowed ? 'block' : 'none';\n",
              "\n",
              "      buttonEl.onclick = () => {\n",
              "        google.colab.notebook.generateWithVariable('Ocorrencia_tipo');\n",
              "      }\n",
              "      })();\n",
              "    </script>\n",
              "  </div>\n",
              "\n",
              "    </div>\n",
              "  </div>\n"
            ],
            "application/vnd.google.colaboratory.intrinsic+json": {
              "type": "dataframe",
              "variable_name": "Ocorrencia_tipo",
              "summary": "{\n  \"name\": \"Ocorrencia_tipo\",\n  \"rows\": 6283,\n  \"fields\": [\n    {\n      \"column\": \"codigo_ocorrencia1\",\n      \"properties\": {\n        \"dtype\": \"number\",\n        \"std\": 14637,\n        \"min\": 39115,\n        \"max\": 80259,\n        \"num_unique_values\": 6114,\n        \"samples\": [\n          79500,\n          78298,\n          60756\n        ],\n        \"semantic_type\": \"\",\n        \"description\": \"\"\n      }\n    },\n    {\n      \"column\": \"ocorrencia_tipo\",\n      \"properties\": {\n        \"dtype\": \"category\",\n        \"num_unique_values\": 81,\n        \"samples\": [\n          \"PERDA DE COMPONENTE NO SOLO\",\n          \"PANE SECA\",\n          \"PROBLEMAS FISIOL\\u00d3GICOS\"\n        ],\n        \"semantic_type\": \"\",\n        \"description\": \"\"\n      }\n    },\n    {\n      \"column\": \"ocorrencia_tipo_categoria\",\n      \"properties\": {\n        \"dtype\": \"category\",\n        \"num_unique_values\": 81,\n        \"samples\": [\n          \"FALHA OU MAU FUNCIONAMENTO DE SISTEMA / COMPONENTE | PERDA DE COMPONENTE NO SOLO\",\n          \"COMBUST\\u00cdVEL | PANE SECA\",\n          \"OUTROS | PROBLEMAS FISIOL\\u00d3GICOS\"\n        ],\n        \"semantic_type\": \"\",\n        \"description\": \"\"\n      }\n    },\n    {\n      \"column\": \"taxonomia_tipo_icao\",\n      \"properties\": {\n        \"dtype\": \"category\",\n        \"num_unique_values\": 32,\n        \"samples\": [\n          \"EXTL\",\n          \"UNK\",\n          \"EXCLUIR\"\n        ],\n        \"semantic_type\": \"\",\n        \"description\": \"\"\n      }\n    }\n  ]\n}"
            }
          },
          "metadata": {},
          "execution_count": 93
        }
      ]
    },
    {
      "cell_type": "code",
      "source": [
        "Ocorrencia_tipo.info()"
      ],
      "metadata": {
        "colab": {
          "base_uri": "https://localhost:8080/"
        },
        "id": "s1FKnhDuGRTQ",
        "outputId": "d69161a8-c915-4a12-aa96-ffa78438069d"
      },
      "execution_count": 94,
      "outputs": [
        {
          "output_type": "stream",
          "name": "stdout",
          "text": [
            "<class 'pandas.core.frame.DataFrame'>\n",
            "Index: 6283 entries, 39115 to 80259\n",
            "Data columns (total 3 columns):\n",
            " #   Column                     Non-Null Count  Dtype \n",
            "---  ------                     --------------  ----- \n",
            " 0   ocorrencia_tipo            6283 non-null   object\n",
            " 1   ocorrencia_tipo_categoria  6283 non-null   object\n",
            " 2   taxonomia_tipo_icao        6283 non-null   object\n",
            "dtypes: object(3)\n",
            "memory usage: 196.3+ KB\n"
          ]
        }
      ]
    },
    {
      "cell_type": "code",
      "source": [
        "Ocorrencia_tipo.ocorrencia_tipo_categoria.value_counts()"
      ],
      "metadata": {
        "colab": {
          "base_uri": "https://localhost:8080/"
        },
        "id": "ApeuEk7c0KG9",
        "outputId": "3ecdf3c1-1ad0-4dd6-8987-f4732f237f07"
      },
      "execution_count": 95,
      "outputs": [
        {
          "output_type": "execute_result",
          "data": {
            "text/plain": [
              "ocorrencia_tipo_categoria\n",
              "FALHA OU MAU FUNCIONAMENTO DO MOTOR | FALHA DO MOTOR EM VOO                  781\n",
              "FALHA OU MAU FUNCIONAMENTO DE SISTEMA / COMPONENTE                           677\n",
              "FALHA OU MAU FUNCIONAMENTO DE SISTEMA / COMPONENTE | ESTOURO DE PNEU         652\n",
              "PERDA DE CONTROLE NO SOLO                                                    476\n",
              "PERDA DE CONTROLE EM VOO                                                     381\n",
              "                                                                            ... \n",
              "OUTROS | CAUSADO POR RICOCHETE                                                 1\n",
              "*** SAÍDA DE PISTA - (excluir)                                                 1\n",
              "PERDA DE SEPARAÇÃO / COLISÃO EM VOO | PERDA DE SEPARAÇÃO / COLISÃO EM VOO      1\n",
              "FALHA OU MAU FUNCIONAMENTO DE SISTEMA / COMPONENTE | EXPLOSÃO                  1\n",
              "PERDA DE CONDIÇÕES DE SUSTENTAÇÃO EM ROTA                                      1\n",
              "Name: count, Length: 81, dtype: int64"
            ]
          },
          "metadata": {},
          "execution_count": 95
        }
      ]
    },
    {
      "cell_type": "code",
      "source": [
        "Ocorrencia_tipo.taxonomia_tipo_icao.value_counts()"
      ],
      "metadata": {
        "colab": {
          "base_uri": "https://localhost:8080/"
        },
        "id": "_-cTVLUyHAtM",
        "outputId": "cf6c19b7-0173-4161-9f4b-101fc8ea8dc7"
      },
      "execution_count": 96,
      "outputs": [
        {
          "output_type": "execute_result",
          "data": {
            "text/plain": [
              "taxonomia_tipo_icao\n",
              "SCF-NP     1984\n",
              "SCF-PP      890\n",
              "OTHR        744\n",
              "LOC-G       476\n",
              "LOC-I       381\n",
              "BIRD        301\n",
              "RE          253\n",
              "ARC         215\n",
              "CTOL        193\n",
              "MAC         138\n",
              "UNK         137\n",
              "GCOL        134\n",
              "FUEL        120\n",
              "LALT         86\n",
              "F-NI         61\n",
              "CFIT         40\n",
              "WILD         25\n",
              "RI           21\n",
              "USOS         17\n",
              "AMAN         12\n",
              "WSTRW         8\n",
              "[RAMP]        8\n",
              "TURB          8\n",
              "ADRM          6\n",
              "ATM/CNS       6\n",
              "EXTL          5\n",
              "EXCLUIR       4\n",
              "UIMC          3\n",
              "ICE           3\n",
              "GTOW          2\n",
              "SEC           1\n",
              "LOLI          1\n",
              "Name: count, dtype: int64"
            ]
          },
          "metadata": {},
          "execution_count": 96
        }
      ]
    },
    {
      "cell_type": "code",
      "source": [
        "Ocorrencia_tipo.isnull().sum()"
      ],
      "metadata": {
        "colab": {
          "base_uri": "https://localhost:8080/"
        },
        "id": "KM42Dv2BygX5",
        "outputId": "7cb32982-8db1-4850-8563-a2e587a6c182"
      },
      "execution_count": 97,
      "outputs": [
        {
          "output_type": "execute_result",
          "data": {
            "text/plain": [
              "ocorrencia_tipo              0\n",
              "ocorrencia_tipo_categoria    0\n",
              "taxonomia_tipo_icao          0\n",
              "dtype: int64"
            ]
          },
          "metadata": {},
          "execution_count": 97
        }
      ]
    },
    {
      "cell_type": "code",
      "source": [
        "#Cambio el dtype\n",
        "Ocorrencia_tipo['ocorrencia_tipo_categoria']=Ocorrencia_tipo['ocorrencia_tipo_categoria'].astype('category')"
      ],
      "metadata": {
        "id": "V68f2h7mGnFF"
      },
      "execution_count": 98,
      "outputs": []
    },
    {
      "cell_type": "code",
      "source": [
        "Ocorrencia_tipo['ocorrencia_tipo']=Ocorrencia_tipo['ocorrencia_tipo'].astype('category')"
      ],
      "metadata": {
        "id": "ViY-vi0QG0le"
      },
      "execution_count": 99,
      "outputs": []
    },
    {
      "cell_type": "code",
      "source": [
        "Ocorrencia_tipo['taxonomia_tipo_icao']=Ocorrencia_tipo['taxonomia_tipo_icao'].astype('category')"
      ],
      "metadata": {
        "id": "KsdMOjKHG5C0"
      },
      "execution_count": 100,
      "outputs": []
    },
    {
      "cell_type": "code",
      "source": [
        "Ocorrencia_tipo.info()"
      ],
      "metadata": {
        "colab": {
          "base_uri": "https://localhost:8080/"
        },
        "id": "4LMIyPcjHJnr",
        "outputId": "44240b25-1f39-4f7e-8b7d-4c34ce9f1385"
      },
      "execution_count": 101,
      "outputs": [
        {
          "output_type": "stream",
          "name": "stdout",
          "text": [
            "<class 'pandas.core.frame.DataFrame'>\n",
            "Index: 6283 entries, 39115 to 80259\n",
            "Data columns (total 3 columns):\n",
            " #   Column                     Non-Null Count  Dtype   \n",
            "---  ------                     --------------  -----   \n",
            " 0   ocorrencia_tipo            6283 non-null   category\n",
            " 1   ocorrencia_tipo_categoria  6283 non-null   category\n",
            " 2   taxonomia_tipo_icao        6283 non-null   category\n",
            "dtypes: category(3)\n",
            "memory usage: 74.2 KB\n"
          ]
        }
      ]
    },
    {
      "cell_type": "markdown",
      "source": [
        "## 06-Modelo"
      ],
      "metadata": {
        "id": "0LDl961byIiD"
      }
    },
    {
      "cell_type": "markdown",
      "source": [
        "### Dataset modelo"
      ],
      "metadata": {
        "id": "NsM4P0MnEVbd"
      }
    },
    {
      "cell_type": "code",
      "source": [
        "#Uno dos de las cuatro tablas ya que hay variables requeridas en ambas\n",
        "aeronave_ocorrencia=pd.merge(Aeronave,Ocorrencia, how='outer', left_on='codigo_ocorrencia2', right_on='codigo_ocorrencia')"
      ],
      "metadata": {
        "id": "qwFU3Fi6Ebro"
      },
      "execution_count": 102,
      "outputs": []
    },
    {
      "cell_type": "code",
      "source": [
        "aeronave_ocorrencia"
      ],
      "metadata": {
        "colab": {
          "base_uri": "https://localhost:8080/",
          "height": 530
        },
        "id": "FJgEjU8YEcV7",
        "outputId": "f5b8bf0c-6d03-4449-d63a-e4ab73060b36"
      },
      "execution_count": 103,
      "outputs": [
        {
          "output_type": "execute_result",
          "data": {
            "text/plain": [
              "     aeronave_matricula aeronave_operador_categoria aeronave_tipo_veiculo  \\\n",
              "0                 PTNQX                 DESCONOCIDO                 AVIÃO   \n",
              "1                 PTLVI                 DESCONOCIDO                 AVIÃO   \n",
              "2                 PPPTO                 DESCONOCIDO                 AVIÃO   \n",
              "3                 PRLGJ                     REGULAR                 AVIÃO   \n",
              "4                 PRMAA                     REGULAR                 AVIÃO   \n",
              "...                 ...                         ...                   ...   \n",
              "6183              PRAJY                 DESCONOCIDO                 AVIÃO   \n",
              "6184              PRAJY                 DESCONOCIDO                 AVIÃO   \n",
              "6185              PRLBR                 DESCONOCIDO           HELICÓPTERO   \n",
              "6186              PTRXE                 DESCONOCIDO                 AVIÃO   \n",
              "6187              PRYRE                 DESCONOCIDO                 AVIÃO   \n",
              "\n",
              "              aeronave_fabricante aeronave_modelo aeronave_tipo_icao  \\\n",
              "0     NEIVA INDUSTRIA AERONAUTICA        EMB-711A               P28R   \n",
              "1                  BEECH AIRCRAFT             C90               BE9L   \n",
              "2         AEROSPATIALE AND ALENIA     ATR-72-212A               AT72   \n",
              "3                  BOEING COMPANY         757-225               B752   \n",
              "4                AIRBUS INDUSTRIE        A320-232               A320   \n",
              "...                           ...             ...                ...   \n",
              "6183               BOEING COMPANY         737-48E                737   \n",
              "6184               BOEING COMPANY         737-48E                737   \n",
              "6185          ROBINSON HELICOPTER          R44 II                R44   \n",
              "6186  NEIVA INDUSTRIA AERONAUTICA        EMB-721D               P32R   \n",
              "6187             AIRBUS INDUSTRIE       A320-251N               A320   \n",
              "\n",
              "     aeronave_motor_tipo aeronave_motor_quantidade  aeronave_pmd  \\\n",
              "0                 PISTÃO                 MONOMOTOR          1202   \n",
              "1             TURBOÉLICE                   BIMOTOR          4377   \n",
              "2             TURBOÉLICE                   BIMOTOR         22500   \n",
              "3                   JATO                   BIMOTOR        108862   \n",
              "4                   JATO                   BIMOTOR         77000   \n",
              "...                  ...                       ...           ...   \n",
              "6183                JATO                   BIMOTOR         65090   \n",
              "6184                JATO                   BIMOTOR         65090   \n",
              "6185              PISTÃO                 MONOMOTOR          1134   \n",
              "6186              PISTÃO                 MONOMOTOR          1633   \n",
              "6187                JATO                   BIMOTOR         77000   \n",
              "\n",
              "      aeronave_pmd_categoria  aeronave_assentos  aeronave_ano_fabricacao  \\\n",
              "0                       1202                4.0                   1979.0   \n",
              "1                       4377                8.0                   1979.0   \n",
              "2                      22500               73.0                   2008.0   \n",
              "3                     108862                5.0                   1984.0   \n",
              "4                      77000              184.0                   2001.0   \n",
              "...                      ...                ...                      ...   \n",
              "6183                   65090              192.0                      0.0   \n",
              "6184                   65090              192.0                      0.0   \n",
              "6185                    1134                4.0                   2010.0   \n",
              "6186                    1633                7.0                   1985.0   \n",
              "6187                   77000              183.0                      0.0   \n",
              "\n",
              "     aeronave_pais_fabricante aeronave_pais_registro  \\\n",
              "0                      BRASIL                 BRASIL   \n",
              "1                      BRASIL                 BRASIL   \n",
              "2                      BRASIL                 BRASIL   \n",
              "3                      BRASIL                 BRASIL   \n",
              "4                      BRASIL                 BRASIL   \n",
              "...                       ...                    ...   \n",
              "6183                   BRASIL                 BRASIL   \n",
              "6184                   BRASIL                 BRASIL   \n",
              "6185                   BRASIL                 BRASIL   \n",
              "6186                   BRASIL                 BRASIL   \n",
              "6187                   BRASIL                 BRASIL   \n",
              "\n",
              "     aeronave_registro_categoria aeronave_registro_segmento  \\\n",
              "0                          AVIÃO                 PARTICULAR   \n",
              "1                          AVIÃO                 PARTICULAR   \n",
              "2                          AVIÃO                    REGULAR   \n",
              "3                          AVIÃO                    REGULAR   \n",
              "4                          AVIÃO                    REGULAR   \n",
              "...                          ...                        ...   \n",
              "6183                       AVIÃO                    REGULAR   \n",
              "6184                       AVIÃO                    REGULAR   \n",
              "6185                 HELICÓPTERO                 PARTICULAR   \n",
              "6186                       AVIÃO                 PARTICULAR   \n",
              "6187                       AVIÃO                    REGULAR   \n",
              "\n",
              "                    aeronave_voo_origem               aeronave_voo_destino  \\\n",
              "0             BRIGADEIRO ARARIPE MACEDO          BRIGADEIRO ARARIPE MACEDO   \n",
              "1                     FORA DE AERODROMO                  FORA DE AERODROMO   \n",
              "2                           AFONSO PENA                        AFONSO PENA   \n",
              "3                     FORA DE AERODROMO                  FORA DE AERODROMO   \n",
              "4                     FORA DE AERODROMO                  FORA DE AERODROMO   \n",
              "...                                 ...                                ...   \n",
              "6183                      EDUARDO GOMES                      EDUARDO GOMES   \n",
              "6184  VAL DE CANS / JÚLIO CEZAR RIBEIRO  VAL DE CANS / JÚLIO CEZAR RIBEIRO   \n",
              "6185                                ***                                ***   \n",
              "6186                   TANGARÁ DA SERRA                   TANGARÁ DA SERRA   \n",
              "6187                      SALGADO FILHO                      SALGADO FILHO   \n",
              "\n",
              "     aeronave_fase_operacao aeronave_tipo_operacao aeronave_nivel_dano  \\\n",
              "0                 DECOLAGEM                PRIVADA         SUBSTANCIAL   \n",
              "1                 DECOLAGEM                PRIVADA              NENHUM   \n",
              "2          ARREMETIDA NO AR                REGULAR                LEVE   \n",
              "3                    SUBIDA                REGULAR              NENHUM   \n",
              "4                    SUBIDA                REGULAR              NENHUM   \n",
              "...                     ...                    ...                 ...   \n",
              "6183                 SUBIDA                REGULAR              NENHUM   \n",
              "6184                 SUBIDA                REGULAR              NENHUM   \n",
              "6185                    ***                PRIVADA           DESTRUÍDA   \n",
              "6186              DECOLAGEM                PRIVADA         SUBSTANCIAL   \n",
              "6187               CRUZEIRO                REGULAR              NENHUM   \n",
              "\n",
              "      aeronave_fatalidades_total  codigo_ocorrencia1  codigo_ocorrencia2  \\\n",
              "0                              0               39115               39115   \n",
              "1                              0               39155               39155   \n",
              "2                              0               39156               39156   \n",
              "3                              0               39158               39158   \n",
              "4                              0               39176               39176   \n",
              "...                          ...                 ...                 ...   \n",
              "6183                           0               80249               80249   \n",
              "6184                           0               80251               80251   \n",
              "6185                           0               80257               80257   \n",
              "6186                           0               80258               80258   \n",
              "6187                           0               80259               80259   \n",
              "\n",
              "      codigo_ocorrencia3  codigo_ocorrencia4 ocorrencia_classificacao  \\\n",
              "0                  39115               39115                 ACIDENTE   \n",
              "1                  39155               39155                INCIDENTE   \n",
              "2                  39156               39156          INCIDENTE GRAVE   \n",
              "3                  39158               39158                INCIDENTE   \n",
              "4                  39176               39176                INCIDENTE   \n",
              "...                  ...                 ...                      ...   \n",
              "6183               80249               80249                INCIDENTE   \n",
              "6184               80251               80251                INCIDENTE   \n",
              "6185               80257               80257                 ACIDENTE   \n",
              "6186               80258               80258                 ACIDENTE   \n",
              "6187               80259               80259                INCIDENTE   \n",
              "\n",
              "      ocorrencia_latitude  ocorrencia_longitude ocorrencia_cidade  \\\n",
              "0           -1.338056e+11         -4.461722e+11        CORRENTINA   \n",
              "1           -1.653268e+11         -3.251709e+11    BELO HORIZONTE   \n",
              "2           -1.524028e+11         -5.935417e+11          CASCAVEL   \n",
              "3           -1.653268e+11         -3.251709e+11             BELÉM   \n",
              "4            0.000000e+00          0.000000e+00          SÃO LUÍS   \n",
              "...                   ...                   ...               ...   \n",
              "6183        -3.041111e+12         -6.005056e+12            MANAUS   \n",
              "6184        -1.384722e+12         -4.847889e+12             BELÉM   \n",
              "6185        -1.543083e+07         -5.469972e+07        DOM AQUINO   \n",
              "6186        -1.466194e+07         -5.744361e+07  TANGARÁ DA SERRA   \n",
              "6187        -2.300694e+12         -4.713444e+12          CAMPINAS   \n",
              "\n",
              "     ocorrencia_uf ocorrencia_pais ocorrencia_aerodromo ocorrencia_dia  \\\n",
              "0               BA          BRASIL                 SNTY     2010-02-07   \n",
              "1               MG          BRASIL                 ****     2010-02-05   \n",
              "2               PR          BRASIL                 SBCA     2010-01-10   \n",
              "3               PA          BRASIL                 ****     2010-01-28   \n",
              "4               MA          BRASIL                 ****     2010-02-05   \n",
              "...            ...             ...                  ...            ...   \n",
              "6183            AM          BRASIL                 SBEG     2021-08-14   \n",
              "6184            PA          BRASIL                 SBBE     2021-08-17   \n",
              "6185            MT          BRASIL                 ****     2021-08-18   \n",
              "6186            MT          BRASIL                 SWTS     2019-10-16   \n",
              "6187            SP          BRASIL                 SBKP     2021-08-18   \n",
              "\n",
              "     ocorrencia_hora investigacao_aeronave_liberada investigacao_status  \\\n",
              "0           17:40:00                            SIM          FINALIZADA   \n",
              "1           12:55:00                            SIM          FINALIZADA   \n",
              "2           23:15:00                            SIM          FINALIZADA   \n",
              "3           16:00:00                            SIM          FINALIZADA   \n",
              "4           09:30:00                            SIM          FINALIZADA   \n",
              "...              ...                            ...                 ...   \n",
              "6183        15:40:00                            SIM          FINALIZADA   \n",
              "6184        15:45:00                            SIM          FINALIZADA   \n",
              "6185        16:00:00                            SIM          FINALIZADA   \n",
              "6186        14:30:00                            SIM               ATIVA   \n",
              "6187        12:45:00                            SIM          FINALIZADA   \n",
              "\n",
              "     divulgacao_relatorio_numero divulgacao_relatorio_publicado  \\\n",
              "0              A-031/CENIPA/2011                            SIM   \n",
              "1                    DESCONOCIDO                            NÃO   \n",
              "2              I-004/CENIPA/2011                            SIM   \n",
              "3                    DESCONOCIDO                            NÃO   \n",
              "4                    DESCONOCIDO                            NÃO   \n",
              "...                          ...                            ...   \n",
              "6183                 DESCONOCIDO                            NÃO   \n",
              "6184                 DESCONOCIDO                            NÃO   \n",
              "6185                 DESCONOCIDO                            NÃO   \n",
              "6186           A-137/CENIPA/2019                            NÃO   \n",
              "6187                 DESCONOCIDO                            NÃO   \n",
              "\n",
              "     divulgacao_dia_publicacao  total_recomendacoes  \\\n",
              "0                   2011-07-21                    2   \n",
              "1                          NaT                    0   \n",
              "2                   2011-06-30                    2   \n",
              "3                          NaT                    0   \n",
              "4                          NaT                    0   \n",
              "...                        ...                  ...   \n",
              "6183                       NaT                    0   \n",
              "6184                       NaT                    0   \n",
              "6185                       NaT                    0   \n",
              "6186                       NaT                    0   \n",
              "6187                       NaT                    0   \n",
              "\n",
              "      total_aeronaves_envolvidas ocorrencia_saida_pista  \n",
              "0                              1                    NÃO  \n",
              "1                              1                    NÃO  \n",
              "2                              1                    NÃO  \n",
              "3                              1                    NÃO  \n",
              "4                              1                    NÃO  \n",
              "...                          ...                    ...  \n",
              "6183                           1                    NÃO  \n",
              "6184                           1                    NÃO  \n",
              "6185                           1                    NÃO  \n",
              "6186                           1                    SIM  \n",
              "6187                           1                    NÃO  \n",
              "\n",
              "[6188 rows x 43 columns]"
            ],
            "text/html": [
              "\n",
              "  <div id=\"df-2ff6e7d9-3ba7-416a-a61c-a889fc4cc566\" class=\"colab-df-container\">\n",
              "    <div>\n",
              "<style scoped>\n",
              "    .dataframe tbody tr th:only-of-type {\n",
              "        vertical-align: middle;\n",
              "    }\n",
              "\n",
              "    .dataframe tbody tr th {\n",
              "        vertical-align: top;\n",
              "    }\n",
              "\n",
              "    .dataframe thead th {\n",
              "        text-align: right;\n",
              "    }\n",
              "</style>\n",
              "<table border=\"1\" class=\"dataframe\">\n",
              "  <thead>\n",
              "    <tr style=\"text-align: right;\">\n",
              "      <th></th>\n",
              "      <th>aeronave_matricula</th>\n",
              "      <th>aeronave_operador_categoria</th>\n",
              "      <th>aeronave_tipo_veiculo</th>\n",
              "      <th>aeronave_fabricante</th>\n",
              "      <th>aeronave_modelo</th>\n",
              "      <th>aeronave_tipo_icao</th>\n",
              "      <th>aeronave_motor_tipo</th>\n",
              "      <th>aeronave_motor_quantidade</th>\n",
              "      <th>aeronave_pmd</th>\n",
              "      <th>aeronave_pmd_categoria</th>\n",
              "      <th>aeronave_assentos</th>\n",
              "      <th>aeronave_ano_fabricacao</th>\n",
              "      <th>aeronave_pais_fabricante</th>\n",
              "      <th>aeronave_pais_registro</th>\n",
              "      <th>aeronave_registro_categoria</th>\n",
              "      <th>aeronave_registro_segmento</th>\n",
              "      <th>aeronave_voo_origem</th>\n",
              "      <th>aeronave_voo_destino</th>\n",
              "      <th>aeronave_fase_operacao</th>\n",
              "      <th>aeronave_tipo_operacao</th>\n",
              "      <th>aeronave_nivel_dano</th>\n",
              "      <th>aeronave_fatalidades_total</th>\n",
              "      <th>codigo_ocorrencia1</th>\n",
              "      <th>codigo_ocorrencia2</th>\n",
              "      <th>codigo_ocorrencia3</th>\n",
              "      <th>codigo_ocorrencia4</th>\n",
              "      <th>ocorrencia_classificacao</th>\n",
              "      <th>ocorrencia_latitude</th>\n",
              "      <th>ocorrencia_longitude</th>\n",
              "      <th>ocorrencia_cidade</th>\n",
              "      <th>ocorrencia_uf</th>\n",
              "      <th>ocorrencia_pais</th>\n",
              "      <th>ocorrencia_aerodromo</th>\n",
              "      <th>ocorrencia_dia</th>\n",
              "      <th>ocorrencia_hora</th>\n",
              "      <th>investigacao_aeronave_liberada</th>\n",
              "      <th>investigacao_status</th>\n",
              "      <th>divulgacao_relatorio_numero</th>\n",
              "      <th>divulgacao_relatorio_publicado</th>\n",
              "      <th>divulgacao_dia_publicacao</th>\n",
              "      <th>total_recomendacoes</th>\n",
              "      <th>total_aeronaves_envolvidas</th>\n",
              "      <th>ocorrencia_saida_pista</th>\n",
              "    </tr>\n",
              "  </thead>\n",
              "  <tbody>\n",
              "    <tr>\n",
              "      <th>0</th>\n",
              "      <td>PTNQX</td>\n",
              "      <td>DESCONOCIDO</td>\n",
              "      <td>AVIÃO</td>\n",
              "      <td>NEIVA INDUSTRIA AERONAUTICA</td>\n",
              "      <td>EMB-711A</td>\n",
              "      <td>P28R</td>\n",
              "      <td>PISTÃO</td>\n",
              "      <td>MONOMOTOR</td>\n",
              "      <td>1202</td>\n",
              "      <td>1202</td>\n",
              "      <td>4.0</td>\n",
              "      <td>1979.0</td>\n",
              "      <td>BRASIL</td>\n",
              "      <td>BRASIL</td>\n",
              "      <td>AVIÃO</td>\n",
              "      <td>PARTICULAR</td>\n",
              "      <td>BRIGADEIRO ARARIPE MACEDO</td>\n",
              "      <td>BRIGADEIRO ARARIPE MACEDO</td>\n",
              "      <td>DECOLAGEM</td>\n",
              "      <td>PRIVADA</td>\n",
              "      <td>SUBSTANCIAL</td>\n",
              "      <td>0</td>\n",
              "      <td>39115</td>\n",
              "      <td>39115</td>\n",
              "      <td>39115</td>\n",
              "      <td>39115</td>\n",
              "      <td>ACIDENTE</td>\n",
              "      <td>-1.338056e+11</td>\n",
              "      <td>-4.461722e+11</td>\n",
              "      <td>CORRENTINA</td>\n",
              "      <td>BA</td>\n",
              "      <td>BRASIL</td>\n",
              "      <td>SNTY</td>\n",
              "      <td>2010-02-07</td>\n",
              "      <td>17:40:00</td>\n",
              "      <td>SIM</td>\n",
              "      <td>FINALIZADA</td>\n",
              "      <td>A-031/CENIPA/2011</td>\n",
              "      <td>SIM</td>\n",
              "      <td>2011-07-21</td>\n",
              "      <td>2</td>\n",
              "      <td>1</td>\n",
              "      <td>NÃO</td>\n",
              "    </tr>\n",
              "    <tr>\n",
              "      <th>1</th>\n",
              "      <td>PTLVI</td>\n",
              "      <td>DESCONOCIDO</td>\n",
              "      <td>AVIÃO</td>\n",
              "      <td>BEECH AIRCRAFT</td>\n",
              "      <td>C90</td>\n",
              "      <td>BE9L</td>\n",
              "      <td>TURBOÉLICE</td>\n",
              "      <td>BIMOTOR</td>\n",
              "      <td>4377</td>\n",
              "      <td>4377</td>\n",
              "      <td>8.0</td>\n",
              "      <td>1979.0</td>\n",
              "      <td>BRASIL</td>\n",
              "      <td>BRASIL</td>\n",
              "      <td>AVIÃO</td>\n",
              "      <td>PARTICULAR</td>\n",
              "      <td>FORA DE AERODROMO</td>\n",
              "      <td>FORA DE AERODROMO</td>\n",
              "      <td>DECOLAGEM</td>\n",
              "      <td>PRIVADA</td>\n",
              "      <td>NENHUM</td>\n",
              "      <td>0</td>\n",
              "      <td>39155</td>\n",
              "      <td>39155</td>\n",
              "      <td>39155</td>\n",
              "      <td>39155</td>\n",
              "      <td>INCIDENTE</td>\n",
              "      <td>-1.653268e+11</td>\n",
              "      <td>-3.251709e+11</td>\n",
              "      <td>BELO HORIZONTE</td>\n",
              "      <td>MG</td>\n",
              "      <td>BRASIL</td>\n",
              "      <td>****</td>\n",
              "      <td>2010-02-05</td>\n",
              "      <td>12:55:00</td>\n",
              "      <td>SIM</td>\n",
              "      <td>FINALIZADA</td>\n",
              "      <td>DESCONOCIDO</td>\n",
              "      <td>NÃO</td>\n",
              "      <td>NaT</td>\n",
              "      <td>0</td>\n",
              "      <td>1</td>\n",
              "      <td>NÃO</td>\n",
              "    </tr>\n",
              "    <tr>\n",
              "      <th>2</th>\n",
              "      <td>PPPTO</td>\n",
              "      <td>DESCONOCIDO</td>\n",
              "      <td>AVIÃO</td>\n",
              "      <td>AEROSPATIALE AND ALENIA</td>\n",
              "      <td>ATR-72-212A</td>\n",
              "      <td>AT72</td>\n",
              "      <td>TURBOÉLICE</td>\n",
              "      <td>BIMOTOR</td>\n",
              "      <td>22500</td>\n",
              "      <td>22500</td>\n",
              "      <td>73.0</td>\n",
              "      <td>2008.0</td>\n",
              "      <td>BRASIL</td>\n",
              "      <td>BRASIL</td>\n",
              "      <td>AVIÃO</td>\n",
              "      <td>REGULAR</td>\n",
              "      <td>AFONSO PENA</td>\n",
              "      <td>AFONSO PENA</td>\n",
              "      <td>ARREMETIDA NO AR</td>\n",
              "      <td>REGULAR</td>\n",
              "      <td>LEVE</td>\n",
              "      <td>0</td>\n",
              "      <td>39156</td>\n",
              "      <td>39156</td>\n",
              "      <td>39156</td>\n",
              "      <td>39156</td>\n",
              "      <td>INCIDENTE GRAVE</td>\n",
              "      <td>-1.524028e+11</td>\n",
              "      <td>-5.935417e+11</td>\n",
              "      <td>CASCAVEL</td>\n",
              "      <td>PR</td>\n",
              "      <td>BRASIL</td>\n",
              "      <td>SBCA</td>\n",
              "      <td>2010-01-10</td>\n",
              "      <td>23:15:00</td>\n",
              "      <td>SIM</td>\n",
              "      <td>FINALIZADA</td>\n",
              "      <td>I-004/CENIPA/2011</td>\n",
              "      <td>SIM</td>\n",
              "      <td>2011-06-30</td>\n",
              "      <td>2</td>\n",
              "      <td>1</td>\n",
              "      <td>NÃO</td>\n",
              "    </tr>\n",
              "    <tr>\n",
              "      <th>3</th>\n",
              "      <td>PRLGJ</td>\n",
              "      <td>REGULAR</td>\n",
              "      <td>AVIÃO</td>\n",
              "      <td>BOEING COMPANY</td>\n",
              "      <td>757-225</td>\n",
              "      <td>B752</td>\n",
              "      <td>JATO</td>\n",
              "      <td>BIMOTOR</td>\n",
              "      <td>108862</td>\n",
              "      <td>108862</td>\n",
              "      <td>5.0</td>\n",
              "      <td>1984.0</td>\n",
              "      <td>BRASIL</td>\n",
              "      <td>BRASIL</td>\n",
              "      <td>AVIÃO</td>\n",
              "      <td>REGULAR</td>\n",
              "      <td>FORA DE AERODROMO</td>\n",
              "      <td>FORA DE AERODROMO</td>\n",
              "      <td>SUBIDA</td>\n",
              "      <td>REGULAR</td>\n",
              "      <td>NENHUM</td>\n",
              "      <td>0</td>\n",
              "      <td>39158</td>\n",
              "      <td>39158</td>\n",
              "      <td>39158</td>\n",
              "      <td>39158</td>\n",
              "      <td>INCIDENTE</td>\n",
              "      <td>-1.653268e+11</td>\n",
              "      <td>-3.251709e+11</td>\n",
              "      <td>BELÉM</td>\n",
              "      <td>PA</td>\n",
              "      <td>BRASIL</td>\n",
              "      <td>****</td>\n",
              "      <td>2010-01-28</td>\n",
              "      <td>16:00:00</td>\n",
              "      <td>SIM</td>\n",
              "      <td>FINALIZADA</td>\n",
              "      <td>DESCONOCIDO</td>\n",
              "      <td>NÃO</td>\n",
              "      <td>NaT</td>\n",
              "      <td>0</td>\n",
              "      <td>1</td>\n",
              "      <td>NÃO</td>\n",
              "    </tr>\n",
              "    <tr>\n",
              "      <th>4</th>\n",
              "      <td>PRMAA</td>\n",
              "      <td>REGULAR</td>\n",
              "      <td>AVIÃO</td>\n",
              "      <td>AIRBUS INDUSTRIE</td>\n",
              "      <td>A320-232</td>\n",
              "      <td>A320</td>\n",
              "      <td>JATO</td>\n",
              "      <td>BIMOTOR</td>\n",
              "      <td>77000</td>\n",
              "      <td>77000</td>\n",
              "      <td>184.0</td>\n",
              "      <td>2001.0</td>\n",
              "      <td>BRASIL</td>\n",
              "      <td>BRASIL</td>\n",
              "      <td>AVIÃO</td>\n",
              "      <td>REGULAR</td>\n",
              "      <td>FORA DE AERODROMO</td>\n",
              "      <td>FORA DE AERODROMO</td>\n",
              "      <td>SUBIDA</td>\n",
              "      <td>REGULAR</td>\n",
              "      <td>NENHUM</td>\n",
              "      <td>0</td>\n",
              "      <td>39176</td>\n",
              "      <td>39176</td>\n",
              "      <td>39176</td>\n",
              "      <td>39176</td>\n",
              "      <td>INCIDENTE</td>\n",
              "      <td>0.000000e+00</td>\n",
              "      <td>0.000000e+00</td>\n",
              "      <td>SÃO LUÍS</td>\n",
              "      <td>MA</td>\n",
              "      <td>BRASIL</td>\n",
              "      <td>****</td>\n",
              "      <td>2010-02-05</td>\n",
              "      <td>09:30:00</td>\n",
              "      <td>SIM</td>\n",
              "      <td>FINALIZADA</td>\n",
              "      <td>DESCONOCIDO</td>\n",
              "      <td>NÃO</td>\n",
              "      <td>NaT</td>\n",
              "      <td>0</td>\n",
              "      <td>1</td>\n",
              "      <td>NÃO</td>\n",
              "    </tr>\n",
              "    <tr>\n",
              "      <th>...</th>\n",
              "      <td>...</td>\n",
              "      <td>...</td>\n",
              "      <td>...</td>\n",
              "      <td>...</td>\n",
              "      <td>...</td>\n",
              "      <td>...</td>\n",
              "      <td>...</td>\n",
              "      <td>...</td>\n",
              "      <td>...</td>\n",
              "      <td>...</td>\n",
              "      <td>...</td>\n",
              "      <td>...</td>\n",
              "      <td>...</td>\n",
              "      <td>...</td>\n",
              "      <td>...</td>\n",
              "      <td>...</td>\n",
              "      <td>...</td>\n",
              "      <td>...</td>\n",
              "      <td>...</td>\n",
              "      <td>...</td>\n",
              "      <td>...</td>\n",
              "      <td>...</td>\n",
              "      <td>...</td>\n",
              "      <td>...</td>\n",
              "      <td>...</td>\n",
              "      <td>...</td>\n",
              "      <td>...</td>\n",
              "      <td>...</td>\n",
              "      <td>...</td>\n",
              "      <td>...</td>\n",
              "      <td>...</td>\n",
              "      <td>...</td>\n",
              "      <td>...</td>\n",
              "      <td>...</td>\n",
              "      <td>...</td>\n",
              "      <td>...</td>\n",
              "      <td>...</td>\n",
              "      <td>...</td>\n",
              "      <td>...</td>\n",
              "      <td>...</td>\n",
              "      <td>...</td>\n",
              "      <td>...</td>\n",
              "      <td>...</td>\n",
              "    </tr>\n",
              "    <tr>\n",
              "      <th>6183</th>\n",
              "      <td>PRAJY</td>\n",
              "      <td>DESCONOCIDO</td>\n",
              "      <td>AVIÃO</td>\n",
              "      <td>BOEING COMPANY</td>\n",
              "      <td>737-48E</td>\n",
              "      <td>737</td>\n",
              "      <td>JATO</td>\n",
              "      <td>BIMOTOR</td>\n",
              "      <td>65090</td>\n",
              "      <td>65090</td>\n",
              "      <td>192.0</td>\n",
              "      <td>0.0</td>\n",
              "      <td>BRASIL</td>\n",
              "      <td>BRASIL</td>\n",
              "      <td>AVIÃO</td>\n",
              "      <td>REGULAR</td>\n",
              "      <td>EDUARDO GOMES</td>\n",
              "      <td>EDUARDO GOMES</td>\n",
              "      <td>SUBIDA</td>\n",
              "      <td>REGULAR</td>\n",
              "      <td>NENHUM</td>\n",
              "      <td>0</td>\n",
              "      <td>80249</td>\n",
              "      <td>80249</td>\n",
              "      <td>80249</td>\n",
              "      <td>80249</td>\n",
              "      <td>INCIDENTE</td>\n",
              "      <td>-3.041111e+12</td>\n",
              "      <td>-6.005056e+12</td>\n",
              "      <td>MANAUS</td>\n",
              "      <td>AM</td>\n",
              "      <td>BRASIL</td>\n",
              "      <td>SBEG</td>\n",
              "      <td>2021-08-14</td>\n",
              "      <td>15:40:00</td>\n",
              "      <td>SIM</td>\n",
              "      <td>FINALIZADA</td>\n",
              "      <td>DESCONOCIDO</td>\n",
              "      <td>NÃO</td>\n",
              "      <td>NaT</td>\n",
              "      <td>0</td>\n",
              "      <td>1</td>\n",
              "      <td>NÃO</td>\n",
              "    </tr>\n",
              "    <tr>\n",
              "      <th>6184</th>\n",
              "      <td>PRAJY</td>\n",
              "      <td>DESCONOCIDO</td>\n",
              "      <td>AVIÃO</td>\n",
              "      <td>BOEING COMPANY</td>\n",
              "      <td>737-48E</td>\n",
              "      <td>737</td>\n",
              "      <td>JATO</td>\n",
              "      <td>BIMOTOR</td>\n",
              "      <td>65090</td>\n",
              "      <td>65090</td>\n",
              "      <td>192.0</td>\n",
              "      <td>0.0</td>\n",
              "      <td>BRASIL</td>\n",
              "      <td>BRASIL</td>\n",
              "      <td>AVIÃO</td>\n",
              "      <td>REGULAR</td>\n",
              "      <td>VAL DE CANS / JÚLIO CEZAR RIBEIRO</td>\n",
              "      <td>VAL DE CANS / JÚLIO CEZAR RIBEIRO</td>\n",
              "      <td>SUBIDA</td>\n",
              "      <td>REGULAR</td>\n",
              "      <td>NENHUM</td>\n",
              "      <td>0</td>\n",
              "      <td>80251</td>\n",
              "      <td>80251</td>\n",
              "      <td>80251</td>\n",
              "      <td>80251</td>\n",
              "      <td>INCIDENTE</td>\n",
              "      <td>-1.384722e+12</td>\n",
              "      <td>-4.847889e+12</td>\n",
              "      <td>BELÉM</td>\n",
              "      <td>PA</td>\n",
              "      <td>BRASIL</td>\n",
              "      <td>SBBE</td>\n",
              "      <td>2021-08-17</td>\n",
              "      <td>15:45:00</td>\n",
              "      <td>SIM</td>\n",
              "      <td>FINALIZADA</td>\n",
              "      <td>DESCONOCIDO</td>\n",
              "      <td>NÃO</td>\n",
              "      <td>NaT</td>\n",
              "      <td>0</td>\n",
              "      <td>1</td>\n",
              "      <td>NÃO</td>\n",
              "    </tr>\n",
              "    <tr>\n",
              "      <th>6185</th>\n",
              "      <td>PRLBR</td>\n",
              "      <td>DESCONOCIDO</td>\n",
              "      <td>HELICÓPTERO</td>\n",
              "      <td>ROBINSON HELICOPTER</td>\n",
              "      <td>R44 II</td>\n",
              "      <td>R44</td>\n",
              "      <td>PISTÃO</td>\n",
              "      <td>MONOMOTOR</td>\n",
              "      <td>1134</td>\n",
              "      <td>1134</td>\n",
              "      <td>4.0</td>\n",
              "      <td>2010.0</td>\n",
              "      <td>BRASIL</td>\n",
              "      <td>BRASIL</td>\n",
              "      <td>HELICÓPTERO</td>\n",
              "      <td>PARTICULAR</td>\n",
              "      <td>***</td>\n",
              "      <td>***</td>\n",
              "      <td>***</td>\n",
              "      <td>PRIVADA</td>\n",
              "      <td>DESTRUÍDA</td>\n",
              "      <td>0</td>\n",
              "      <td>80257</td>\n",
              "      <td>80257</td>\n",
              "      <td>80257</td>\n",
              "      <td>80257</td>\n",
              "      <td>ACIDENTE</td>\n",
              "      <td>-1.543083e+07</td>\n",
              "      <td>-5.469972e+07</td>\n",
              "      <td>DOM AQUINO</td>\n",
              "      <td>MT</td>\n",
              "      <td>BRASIL</td>\n",
              "      <td>****</td>\n",
              "      <td>2021-08-18</td>\n",
              "      <td>16:00:00</td>\n",
              "      <td>SIM</td>\n",
              "      <td>FINALIZADA</td>\n",
              "      <td>DESCONOCIDO</td>\n",
              "      <td>NÃO</td>\n",
              "      <td>NaT</td>\n",
              "      <td>0</td>\n",
              "      <td>1</td>\n",
              "      <td>NÃO</td>\n",
              "    </tr>\n",
              "    <tr>\n",
              "      <th>6186</th>\n",
              "      <td>PTRXE</td>\n",
              "      <td>DESCONOCIDO</td>\n",
              "      <td>AVIÃO</td>\n",
              "      <td>NEIVA INDUSTRIA AERONAUTICA</td>\n",
              "      <td>EMB-721D</td>\n",
              "      <td>P32R</td>\n",
              "      <td>PISTÃO</td>\n",
              "      <td>MONOMOTOR</td>\n",
              "      <td>1633</td>\n",
              "      <td>1633</td>\n",
              "      <td>7.0</td>\n",
              "      <td>1985.0</td>\n",
              "      <td>BRASIL</td>\n",
              "      <td>BRASIL</td>\n",
              "      <td>AVIÃO</td>\n",
              "      <td>PARTICULAR</td>\n",
              "      <td>TANGARÁ DA SERRA</td>\n",
              "      <td>TANGARÁ DA SERRA</td>\n",
              "      <td>DECOLAGEM</td>\n",
              "      <td>PRIVADA</td>\n",
              "      <td>SUBSTANCIAL</td>\n",
              "      <td>0</td>\n",
              "      <td>80258</td>\n",
              "      <td>80258</td>\n",
              "      <td>80258</td>\n",
              "      <td>80258</td>\n",
              "      <td>ACIDENTE</td>\n",
              "      <td>-1.466194e+07</td>\n",
              "      <td>-5.744361e+07</td>\n",
              "      <td>TANGARÁ DA SERRA</td>\n",
              "      <td>MT</td>\n",
              "      <td>BRASIL</td>\n",
              "      <td>SWTS</td>\n",
              "      <td>2019-10-16</td>\n",
              "      <td>14:30:00</td>\n",
              "      <td>SIM</td>\n",
              "      <td>ATIVA</td>\n",
              "      <td>A-137/CENIPA/2019</td>\n",
              "      <td>NÃO</td>\n",
              "      <td>NaT</td>\n",
              "      <td>0</td>\n",
              "      <td>1</td>\n",
              "      <td>SIM</td>\n",
              "    </tr>\n",
              "    <tr>\n",
              "      <th>6187</th>\n",
              "      <td>PRYRE</td>\n",
              "      <td>DESCONOCIDO</td>\n",
              "      <td>AVIÃO</td>\n",
              "      <td>AIRBUS INDUSTRIE</td>\n",
              "      <td>A320-251N</td>\n",
              "      <td>A320</td>\n",
              "      <td>JATO</td>\n",
              "      <td>BIMOTOR</td>\n",
              "      <td>77000</td>\n",
              "      <td>77000</td>\n",
              "      <td>183.0</td>\n",
              "      <td>0.0</td>\n",
              "      <td>BRASIL</td>\n",
              "      <td>BRASIL</td>\n",
              "      <td>AVIÃO</td>\n",
              "      <td>REGULAR</td>\n",
              "      <td>SALGADO FILHO</td>\n",
              "      <td>SALGADO FILHO</td>\n",
              "      <td>CRUZEIRO</td>\n",
              "      <td>REGULAR</td>\n",
              "      <td>NENHUM</td>\n",
              "      <td>0</td>\n",
              "      <td>80259</td>\n",
              "      <td>80259</td>\n",
              "      <td>80259</td>\n",
              "      <td>80259</td>\n",
              "      <td>INCIDENTE</td>\n",
              "      <td>-2.300694e+12</td>\n",
              "      <td>-4.713444e+12</td>\n",
              "      <td>CAMPINAS</td>\n",
              "      <td>SP</td>\n",
              "      <td>BRASIL</td>\n",
              "      <td>SBKP</td>\n",
              "      <td>2021-08-18</td>\n",
              "      <td>12:45:00</td>\n",
              "      <td>SIM</td>\n",
              "      <td>FINALIZADA</td>\n",
              "      <td>DESCONOCIDO</td>\n",
              "      <td>NÃO</td>\n",
              "      <td>NaT</td>\n",
              "      <td>0</td>\n",
              "      <td>1</td>\n",
              "      <td>NÃO</td>\n",
              "    </tr>\n",
              "  </tbody>\n",
              "</table>\n",
              "<p>6188 rows × 43 columns</p>\n",
              "</div>\n",
              "    <div class=\"colab-df-buttons\">\n",
              "\n",
              "  <div class=\"colab-df-container\">\n",
              "    <button class=\"colab-df-convert\" onclick=\"convertToInteractive('df-2ff6e7d9-3ba7-416a-a61c-a889fc4cc566')\"\n",
              "            title=\"Convert this dataframe to an interactive table.\"\n",
              "            style=\"display:none;\">\n",
              "\n",
              "  <svg xmlns=\"http://www.w3.org/2000/svg\" height=\"24px\" viewBox=\"0 -960 960 960\">\n",
              "    <path d=\"M120-120v-720h720v720H120Zm60-500h600v-160H180v160Zm220 220h160v-160H400v160Zm0 220h160v-160H400v160ZM180-400h160v-160H180v160Zm440 0h160v-160H620v160ZM180-180h160v-160H180v160Zm440 0h160v-160H620v160Z\"/>\n",
              "  </svg>\n",
              "    </button>\n",
              "\n",
              "  <style>\n",
              "    .colab-df-container {\n",
              "      display:flex;\n",
              "      gap: 12px;\n",
              "    }\n",
              "\n",
              "    .colab-df-convert {\n",
              "      background-color: #E8F0FE;\n",
              "      border: none;\n",
              "      border-radius: 50%;\n",
              "      cursor: pointer;\n",
              "      display: none;\n",
              "      fill: #1967D2;\n",
              "      height: 32px;\n",
              "      padding: 0 0 0 0;\n",
              "      width: 32px;\n",
              "    }\n",
              "\n",
              "    .colab-df-convert:hover {\n",
              "      background-color: #E2EBFA;\n",
              "      box-shadow: 0px 1px 2px rgba(60, 64, 67, 0.3), 0px 1px 3px 1px rgba(60, 64, 67, 0.15);\n",
              "      fill: #174EA6;\n",
              "    }\n",
              "\n",
              "    .colab-df-buttons div {\n",
              "      margin-bottom: 4px;\n",
              "    }\n",
              "\n",
              "    [theme=dark] .colab-df-convert {\n",
              "      background-color: #3B4455;\n",
              "      fill: #D2E3FC;\n",
              "    }\n",
              "\n",
              "    [theme=dark] .colab-df-convert:hover {\n",
              "      background-color: #434B5C;\n",
              "      box-shadow: 0px 1px 3px 1px rgba(0, 0, 0, 0.15);\n",
              "      filter: drop-shadow(0px 1px 2px rgba(0, 0, 0, 0.3));\n",
              "      fill: #FFFFFF;\n",
              "    }\n",
              "  </style>\n",
              "\n",
              "    <script>\n",
              "      const buttonEl =\n",
              "        document.querySelector('#df-2ff6e7d9-3ba7-416a-a61c-a889fc4cc566 button.colab-df-convert');\n",
              "      buttonEl.style.display =\n",
              "        google.colab.kernel.accessAllowed ? 'block' : 'none';\n",
              "\n",
              "      async function convertToInteractive(key) {\n",
              "        const element = document.querySelector('#df-2ff6e7d9-3ba7-416a-a61c-a889fc4cc566');\n",
              "        const dataTable =\n",
              "          await google.colab.kernel.invokeFunction('convertToInteractive',\n",
              "                                                    [key], {});\n",
              "        if (!dataTable) return;\n",
              "\n",
              "        const docLinkHtml = 'Like what you see? Visit the ' +\n",
              "          '<a target=\"_blank\" href=https://colab.research.google.com/notebooks/data_table.ipynb>data table notebook</a>'\n",
              "          + ' to learn more about interactive tables.';\n",
              "        element.innerHTML = '';\n",
              "        dataTable['output_type'] = 'display_data';\n",
              "        await google.colab.output.renderOutput(dataTable, element);\n",
              "        const docLink = document.createElement('div');\n",
              "        docLink.innerHTML = docLinkHtml;\n",
              "        element.appendChild(docLink);\n",
              "      }\n",
              "    </script>\n",
              "  </div>\n",
              "\n",
              "\n",
              "<div id=\"df-41c6f3a7-578a-4301-aa6d-b3c0f95279aa\">\n",
              "  <button class=\"colab-df-quickchart\" onclick=\"quickchart('df-41c6f3a7-578a-4301-aa6d-b3c0f95279aa')\"\n",
              "            title=\"Suggest charts\"\n",
              "            style=\"display:none;\">\n",
              "\n",
              "<svg xmlns=\"http://www.w3.org/2000/svg\" height=\"24px\"viewBox=\"0 0 24 24\"\n",
              "     width=\"24px\">\n",
              "    <g>\n",
              "        <path d=\"M19 3H5c-1.1 0-2 .9-2 2v14c0 1.1.9 2 2 2h14c1.1 0 2-.9 2-2V5c0-1.1-.9-2-2-2zM9 17H7v-7h2v7zm4 0h-2V7h2v10zm4 0h-2v-4h2v4z\"/>\n",
              "    </g>\n",
              "</svg>\n",
              "  </button>\n",
              "\n",
              "<style>\n",
              "  .colab-df-quickchart {\n",
              "      --bg-color: #E8F0FE;\n",
              "      --fill-color: #1967D2;\n",
              "      --hover-bg-color: #E2EBFA;\n",
              "      --hover-fill-color: #174EA6;\n",
              "      --disabled-fill-color: #AAA;\n",
              "      --disabled-bg-color: #DDD;\n",
              "  }\n",
              "\n",
              "  [theme=dark] .colab-df-quickchart {\n",
              "      --bg-color: #3B4455;\n",
              "      --fill-color: #D2E3FC;\n",
              "      --hover-bg-color: #434B5C;\n",
              "      --hover-fill-color: #FFFFFF;\n",
              "      --disabled-bg-color: #3B4455;\n",
              "      --disabled-fill-color: #666;\n",
              "  }\n",
              "\n",
              "  .colab-df-quickchart {\n",
              "    background-color: var(--bg-color);\n",
              "    border: none;\n",
              "    border-radius: 50%;\n",
              "    cursor: pointer;\n",
              "    display: none;\n",
              "    fill: var(--fill-color);\n",
              "    height: 32px;\n",
              "    padding: 0;\n",
              "    width: 32px;\n",
              "  }\n",
              "\n",
              "  .colab-df-quickchart:hover {\n",
              "    background-color: var(--hover-bg-color);\n",
              "    box-shadow: 0 1px 2px rgba(60, 64, 67, 0.3), 0 1px 3px 1px rgba(60, 64, 67, 0.15);\n",
              "    fill: var(--button-hover-fill-color);\n",
              "  }\n",
              "\n",
              "  .colab-df-quickchart-complete:disabled,\n",
              "  .colab-df-quickchart-complete:disabled:hover {\n",
              "    background-color: var(--disabled-bg-color);\n",
              "    fill: var(--disabled-fill-color);\n",
              "    box-shadow: none;\n",
              "  }\n",
              "\n",
              "  .colab-df-spinner {\n",
              "    border: 2px solid var(--fill-color);\n",
              "    border-color: transparent;\n",
              "    border-bottom-color: var(--fill-color);\n",
              "    animation:\n",
              "      spin 1s steps(1) infinite;\n",
              "  }\n",
              "\n",
              "  @keyframes spin {\n",
              "    0% {\n",
              "      border-color: transparent;\n",
              "      border-bottom-color: var(--fill-color);\n",
              "      border-left-color: var(--fill-color);\n",
              "    }\n",
              "    20% {\n",
              "      border-color: transparent;\n",
              "      border-left-color: var(--fill-color);\n",
              "      border-top-color: var(--fill-color);\n",
              "    }\n",
              "    30% {\n",
              "      border-color: transparent;\n",
              "      border-left-color: var(--fill-color);\n",
              "      border-top-color: var(--fill-color);\n",
              "      border-right-color: var(--fill-color);\n",
              "    }\n",
              "    40% {\n",
              "      border-color: transparent;\n",
              "      border-right-color: var(--fill-color);\n",
              "      border-top-color: var(--fill-color);\n",
              "    }\n",
              "    60% {\n",
              "      border-color: transparent;\n",
              "      border-right-color: var(--fill-color);\n",
              "    }\n",
              "    80% {\n",
              "      border-color: transparent;\n",
              "      border-right-color: var(--fill-color);\n",
              "      border-bottom-color: var(--fill-color);\n",
              "    }\n",
              "    90% {\n",
              "      border-color: transparent;\n",
              "      border-bottom-color: var(--fill-color);\n",
              "    }\n",
              "  }\n",
              "</style>\n",
              "\n",
              "  <script>\n",
              "    async function quickchart(key) {\n",
              "      const quickchartButtonEl =\n",
              "        document.querySelector('#' + key + ' button');\n",
              "      quickchartButtonEl.disabled = true;  // To prevent multiple clicks.\n",
              "      quickchartButtonEl.classList.add('colab-df-spinner');\n",
              "      try {\n",
              "        const charts = await google.colab.kernel.invokeFunction(\n",
              "            'suggestCharts', [key], {});\n",
              "      } catch (error) {\n",
              "        console.error('Error during call to suggestCharts:', error);\n",
              "      }\n",
              "      quickchartButtonEl.classList.remove('colab-df-spinner');\n",
              "      quickchartButtonEl.classList.add('colab-df-quickchart-complete');\n",
              "    }\n",
              "    (() => {\n",
              "      let quickchartButtonEl =\n",
              "        document.querySelector('#df-41c6f3a7-578a-4301-aa6d-b3c0f95279aa button');\n",
              "      quickchartButtonEl.style.display =\n",
              "        google.colab.kernel.accessAllowed ? 'block' : 'none';\n",
              "    })();\n",
              "  </script>\n",
              "</div>\n",
              "\n",
              "  <div id=\"id_8289fddc-8343-472c-90ad-9c8e6002b1a7\">\n",
              "    <style>\n",
              "      .colab-df-generate {\n",
              "        background-color: #E8F0FE;\n",
              "        border: none;\n",
              "        border-radius: 50%;\n",
              "        cursor: pointer;\n",
              "        display: none;\n",
              "        fill: #1967D2;\n",
              "        height: 32px;\n",
              "        padding: 0 0 0 0;\n",
              "        width: 32px;\n",
              "      }\n",
              "\n",
              "      .colab-df-generate:hover {\n",
              "        background-color: #E2EBFA;\n",
              "        box-shadow: 0px 1px 2px rgba(60, 64, 67, 0.3), 0px 1px 3px 1px rgba(60, 64, 67, 0.15);\n",
              "        fill: #174EA6;\n",
              "      }\n",
              "\n",
              "      [theme=dark] .colab-df-generate {\n",
              "        background-color: #3B4455;\n",
              "        fill: #D2E3FC;\n",
              "      }\n",
              "\n",
              "      [theme=dark] .colab-df-generate:hover {\n",
              "        background-color: #434B5C;\n",
              "        box-shadow: 0px 1px 3px 1px rgba(0, 0, 0, 0.15);\n",
              "        filter: drop-shadow(0px 1px 2px rgba(0, 0, 0, 0.3));\n",
              "        fill: #FFFFFF;\n",
              "      }\n",
              "    </style>\n",
              "    <button class=\"colab-df-generate\" onclick=\"generateWithVariable('aeronave_ocorrencia')\"\n",
              "            title=\"Generate code using this dataframe.\"\n",
              "            style=\"display:none;\">\n",
              "\n",
              "  <svg xmlns=\"http://www.w3.org/2000/svg\" height=\"24px\"viewBox=\"0 0 24 24\"\n",
              "       width=\"24px\">\n",
              "    <path d=\"M7,19H8.4L18.45,9,17,7.55,7,17.6ZM5,21V16.75L18.45,3.32a2,2,0,0,1,2.83,0l1.4,1.43a1.91,1.91,0,0,1,.58,1.4,1.91,1.91,0,0,1-.58,1.4L9.25,21ZM18.45,9,17,7.55Zm-12,3A5.31,5.31,0,0,0,4.9,8.1,5.31,5.31,0,0,0,1,6.5,5.31,5.31,0,0,0,4.9,4.9,5.31,5.31,0,0,0,6.5,1,5.31,5.31,0,0,0,8.1,4.9,5.31,5.31,0,0,0,12,6.5,5.46,5.46,0,0,0,6.5,12Z\"/>\n",
              "  </svg>\n",
              "    </button>\n",
              "    <script>\n",
              "      (() => {\n",
              "      const buttonEl =\n",
              "        document.querySelector('#id_8289fddc-8343-472c-90ad-9c8e6002b1a7 button.colab-df-generate');\n",
              "      buttonEl.style.display =\n",
              "        google.colab.kernel.accessAllowed ? 'block' : 'none';\n",
              "\n",
              "      buttonEl.onclick = () => {\n",
              "        google.colab.notebook.generateWithVariable('aeronave_ocorrencia');\n",
              "      }\n",
              "      })();\n",
              "    </script>\n",
              "  </div>\n",
              "\n",
              "    </div>\n",
              "  </div>\n"
            ],
            "application/vnd.google.colaboratory.intrinsic+json": {
              "type": "dataframe",
              "variable_name": "aeronave_ocorrencia"
            }
          },
          "metadata": {},
          "execution_count": 103
        }
      ]
    },
    {
      "cell_type": "code",
      "source": [
        "pip install mlxtend --upgrade --no-deps"
      ],
      "metadata": {
        "colab": {
          "base_uri": "https://localhost:8080/"
        },
        "id": "mB2FFIYNx1zL",
        "outputId": "caa37075-11f6-4b6b-df12-981f150cb86c"
      },
      "execution_count": 104,
      "outputs": [
        {
          "output_type": "stream",
          "name": "stdout",
          "text": [
            "Requirement already satisfied: mlxtend in /usr/local/lib/python3.10/dist-packages (0.22.0)\n",
            "Collecting mlxtend\n",
            "  Downloading mlxtend-0.23.1-py3-none-any.whl (1.4 MB)\n",
            "\u001b[2K     \u001b[90m━━━━━━━━━━━━━━━━━━━━━━━━━━━━━━━━━━━━━━━━\u001b[0m \u001b[32m1.4/1.4 MB\u001b[0m \u001b[31m14.6 MB/s\u001b[0m eta \u001b[36m0:00:00\u001b[0m\n",
            "\u001b[?25hInstalling collected packages: mlxtend\n",
            "  Attempting uninstall: mlxtend\n",
            "    Found existing installation: mlxtend 0.22.0\n",
            "    Uninstalling mlxtend-0.22.0:\n",
            "      Successfully uninstalled mlxtend-0.22.0\n",
            "Successfully installed mlxtend-0.23.1\n"
          ]
        }
      ]
    },
    {
      "cell_type": "markdown",
      "source": [
        "**En vista del objetivo planteado se seleccionaron las variables:**\n",
        "\n",
        "\n",
        "*   Fatalidades total (target): para poder generar la predicción de ocurrencia de muertes.\n",
        "*   Tipo de motor: en determinación de qué tipo de motor tiene mayor porcentaje de riesgo.\n",
        "* Fase de operación: en vivencia de cuál pudo llegar a ser el factor determinante.\n",
        "* Ciudades: para la estimación en correlación de con condiciones climáticas o congestión aérea.\n",
        "\n",
        "---\n",
        "\n",
        "La variable target responde a:\n",
        "* 0- No fatalidad\n",
        "* 1- Fatalidad\n",
        "\n"
      ],
      "metadata": {
        "id": "I8xZLrS4diGJ"
      }
    },
    {
      "cell_type": "code",
      "source": [
        "#Elijo las variables mas representativas para el modelado\n",
        "aeronave_ocorrencia1= aeronave_ocorrencia[['aeronave_fatalidades_total','aeronave_motor_quantidade','aeronave_fase_operacao','ocorrencia_cidade']]\n",
        "print(aeronave_ocorrencia1)"
      ],
      "metadata": {
        "colab": {
          "base_uri": "https://localhost:8080/"
        },
        "id": "TBJcDcyLzW4p",
        "outputId": "01bec5eb-2f06-4ec1-d797-afff982ff326"
      },
      "execution_count": 105,
      "outputs": [
        {
          "output_type": "stream",
          "name": "stdout",
          "text": [
            "      aeronave_fatalidades_total aeronave_motor_quantidade  \\\n",
            "0                              0                 MONOMOTOR   \n",
            "1                              0                   BIMOTOR   \n",
            "2                              0                   BIMOTOR   \n",
            "3                              0                   BIMOTOR   \n",
            "4                              0                   BIMOTOR   \n",
            "...                          ...                       ...   \n",
            "6183                           0                   BIMOTOR   \n",
            "6184                           0                   BIMOTOR   \n",
            "6185                           0                 MONOMOTOR   \n",
            "6186                           0                 MONOMOTOR   \n",
            "6187                           0                   BIMOTOR   \n",
            "\n",
            "     aeronave_fase_operacao ocorrencia_cidade  \n",
            "0                 DECOLAGEM        CORRENTINA  \n",
            "1                 DECOLAGEM    BELO HORIZONTE  \n",
            "2          ARREMETIDA NO AR          CASCAVEL  \n",
            "3                    SUBIDA             BELÉM  \n",
            "4                    SUBIDA          SÃO LUÍS  \n",
            "...                     ...               ...  \n",
            "6183                 SUBIDA            MANAUS  \n",
            "6184                 SUBIDA             BELÉM  \n",
            "6185                    ***        DOM AQUINO  \n",
            "6186              DECOLAGEM  TANGARÁ DA SERRA  \n",
            "6187               CRUZEIRO          CAMPINAS  \n",
            "\n",
            "[6188 rows x 4 columns]\n"
          ]
        }
      ]
    },
    {
      "cell_type": "markdown",
      "source": [
        "###*Regresión logística*"
      ],
      "metadata": {
        "id": "h3q-jTeUphHw"
      }
    },
    {
      "cell_type": "code",
      "source": [
        "import matplotlib.pyplot as plt"
      ],
      "metadata": {
        "id": "4CmQl15T_3N_"
      },
      "execution_count": 106,
      "outputs": []
    },
    {
      "cell_type": "code",
      "source": [
        " fatalidades1=aeronave_ocorrencia1.aeronave_fatalidades_total.value_counts()\n",
        " fatalidades1"
      ],
      "metadata": {
        "colab": {
          "base_uri": "https://localhost:8080/"
        },
        "id": "XWNCBAexSg6Q",
        "outputId": "9067c797-2ab3-4776-8e2e-2bcad6ef7b69"
      },
      "execution_count": 107,
      "outputs": [
        {
          "output_type": "execute_result",
          "data": {
            "text/plain": [
              "aeronave_fatalidades_total\n",
              "0     5733\n",
              "1      232\n",
              "2      126\n",
              "3       33\n",
              "4       31\n",
              "5       17\n",
              "6        7\n",
              "7        4\n",
              "8        3\n",
              "16       1\n",
              "10       1\n",
              "Name: count, dtype: int64"
            ]
          },
          "metadata": {},
          "execution_count": 107
        }
      ]
    },
    {
      "cell_type": "code",
      "source": [
        "fatalidades_ciud = aeronave_ocorrencia1.groupby(fatalidades1)['ocorrencia_cidade'].sum()\n",
        "print(fatalidades_ciud)"
      ],
      "metadata": {
        "colab": {
          "base_uri": "https://localhost:8080/"
        },
        "id": "m0OwhWy5g_pD",
        "outputId": "81b2bd02-fc59-4e9d-bffe-dd4634677259"
      },
      "execution_count": 108,
      "outputs": [
        {
          "output_type": "stream",
          "name": "stdout",
          "text": [
            "count\n",
            "1.0       RIO DO OESTESÃO BERNARDO DO CAMPO\n",
            "3.0                          RIO DE JANEIRO\n",
            "4.0                               SÃO PAULO\n",
            "7.0                               ITUMBIARA\n",
            "17.0                               CAMPINAS\n",
            "31.0                               SÃO LUÍS\n",
            "33.0                                  BELÉM\n",
            "126.0                              CASCAVEL\n",
            "232.0                        BELO HORIZONTE\n",
            "5733.0                           CORRENTINA\n",
            "Name: ocorrencia_cidade, dtype: object\n"
          ]
        }
      ]
    },
    {
      "cell_type": "code",
      "source": [
        "fatalidades_ciud=fatalidades_ciud.astype('category')"
      ],
      "metadata": {
        "id": "BYU67PFgow6T"
      },
      "execution_count": 109,
      "outputs": []
    },
    {
      "cell_type": "code",
      "source": [
        "ciudades=aeronave_ocorrencia1['ocorrencia_cidade'].value_counts(). head(10)\n",
        "print(ciudades)"
      ],
      "metadata": {
        "colab": {
          "base_uri": "https://localhost:8080/"
        },
        "id": "kOG08ogg03Hh",
        "outputId": "f0176e90-a3da-4192-a7ea-27f46ec38209"
      },
      "execution_count": 110,
      "outputs": [
        {
          "output_type": "stream",
          "name": "stdout",
          "text": [
            "ocorrencia_cidade\n",
            "RIO DE JANEIRO    338\n",
            "SÃO PAULO         296\n",
            "BELO HORIZONTE    196\n",
            "CAMPINAS          177\n",
            "GUARULHOS         163\n",
            "GOIÂNIA           156\n",
            "BRASÍLIA          145\n",
            "LONDRINA          138\n",
            "MANAUS            110\n",
            "PORTO ALEGRE      105\n",
            "Name: count, dtype: int64\n"
          ]
        }
      ]
    },
    {
      "cell_type": "code",
      "source": [
        "X_motor = pd.get_dummies(aeronave_ocorrencia1['aeronave_motor_quantidade'], drop_first=True)\n",
        "X_fase = pd.get_dummies(aeronave_ocorrencia1['aeronave_fase_operacao'], drop_first=True)"
      ],
      "metadata": {
        "id": "Vmc5_Zy5cmtb"
      },
      "execution_count": 111,
      "outputs": []
    },
    {
      "cell_type": "code",
      "source": [
        "X_motor.values.astype(int)\n",
        "X_fase.values.astype(int)"
      ],
      "metadata": {
        "colab": {
          "base_uri": "https://localhost:8080/"
        },
        "id": "drChJhkbe9MB",
        "outputId": "58d18f0f-2b7e-4e4e-8411-a26b9e2fd265"
      },
      "execution_count": 112,
      "outputs": [
        {
          "output_type": "execute_result",
          "data": {
            "text/plain": [
              "array([[0, 0, 0, ..., 0, 0, 0],\n",
              "       [0, 0, 0, ..., 0, 0, 0],\n",
              "       [0, 1, 0, ..., 0, 0, 0],\n",
              "       ...,\n",
              "       [0, 0, 0, ..., 0, 0, 0],\n",
              "       [0, 0, 0, ..., 0, 0, 0],\n",
              "       [0, 0, 0, ..., 0, 0, 0]])"
            ]
          },
          "metadata": {},
          "execution_count": 112
        }
      ]
    },
    {
      "cell_type": "code",
      "source": [
        "X_ciud= pd.get_dummies(aeronave_ocorrencia1['ocorrencia_cidade'], drop_first=True)"
      ],
      "metadata": {
        "id": "rbLkiz1ba9oQ"
      },
      "execution_count": 113,
      "outputs": []
    },
    {
      "cell_type": "code",
      "source": [
        "X_ciud.values.astype(int)"
      ],
      "metadata": {
        "colab": {
          "base_uri": "https://localhost:8080/"
        },
        "id": "rOSC1zeycGxM",
        "outputId": "a99fad43-e4ea-48f4-ef8b-a41557be6a4d"
      },
      "execution_count": 114,
      "outputs": [
        {
          "output_type": "execute_result",
          "data": {
            "text/plain": [
              "array([[0, 0, 0, ..., 0, 0, 0],\n",
              "       [0, 0, 0, ..., 0, 0, 0],\n",
              "       [0, 0, 0, ..., 0, 0, 0],\n",
              "       ...,\n",
              "       [0, 0, 0, ..., 0, 0, 0],\n",
              "       [0, 0, 0, ..., 0, 0, 0],\n",
              "       [0, 0, 0, ..., 0, 0, 0]])"
            ]
          },
          "metadata": {},
          "execution_count": 114
        }
      ]
    },
    {
      "cell_type": "code",
      "source": [
        "# convierto mi variable en binaria, 0: no fatalidad y 1: fatalidad\n",
        "umbral = 1\n",
        "\n",
        "fat_binaria = np.where(aeronave_ocorrencia1['aeronave_fatalidades_total'] >= umbral, 1, 0)\n",
        "print(\"\\nDataFrame con la Variable Binaria:\")\n",
        "print(fat_binaria)"
      ],
      "metadata": {
        "colab": {
          "base_uri": "https://localhost:8080/"
        },
        "id": "s9XBC0gYA9Um",
        "outputId": "43fec257-8c42-4607-cbc5-ec9b19ae4e84"
      },
      "execution_count": 115,
      "outputs": [
        {
          "output_type": "stream",
          "name": "stdout",
          "text": [
            "\n",
            "DataFrame con la Variable Binaria:\n",
            "[0 0 0 ... 0 0 0]\n"
          ]
        }
      ]
    },
    {
      "cell_type": "code",
      "source": [
        "y=fat_binaria.astype(int)"
      ],
      "metadata": {
        "id": "ceD5dQOQFRYk"
      },
      "execution_count": 116,
      "outputs": []
    },
    {
      "cell_type": "code",
      "source": [
        "X= aeronave_ocorrencia1.drop('aeronave_fatalidades_total', axis=1)\n",
        "Y= y"
      ],
      "metadata": {
        "id": "KiDwsIWFl2a8"
      },
      "execution_count": 117,
      "outputs": []
    },
    {
      "cell_type": "code",
      "source": [
        "X= pd.concat([X_motor,X_fase, X_ciud], axis=1)"
      ],
      "metadata": {
        "id": "vnhIAdnogmAq"
      },
      "execution_count": 118,
      "outputs": []
    },
    {
      "cell_type": "code",
      "source": [
        "# Importo las librerias para el modelo\n",
        "from sklearn.model_selection import train_test_split\n",
        "from sklearn.linear_model import LogisticRegression\n",
        "from sklearn.metrics import accuracy_score, confusion_matrix, classification_report"
      ],
      "metadata": {
        "id": "xxTry1tIagBB"
      },
      "execution_count": 119,
      "outputs": []
    },
    {
      "cell_type": "code",
      "source": [
        "X_train, X_test, Y_train, Y_test= train_test_split(X,Y, test_size=0.3, random_state=42)"
      ],
      "metadata": {
        "id": "9ijrhcXIiva_"
      },
      "execution_count": 120,
      "outputs": []
    },
    {
      "cell_type": "code",
      "source": [
        "model= LogisticRegression()\n",
        "model.fit(X, Y)"
      ],
      "metadata": {
        "colab": {
          "base_uri": "https://localhost:8080/",
          "height": 75
        },
        "id": "Lhv2tF2naUQ_",
        "outputId": "7d3b82c0-4af0-4b5b-d030-cdd9962f108d"
      },
      "execution_count": 121,
      "outputs": [
        {
          "output_type": "execute_result",
          "data": {
            "text/plain": [
              "LogisticRegression()"
            ],
            "text/html": [
              "<style>#sk-container-id-1 {color: black;background-color: white;}#sk-container-id-1 pre{padding: 0;}#sk-container-id-1 div.sk-toggleable {background-color: white;}#sk-container-id-1 label.sk-toggleable__label {cursor: pointer;display: block;width: 100%;margin-bottom: 0;padding: 0.3em;box-sizing: border-box;text-align: center;}#sk-container-id-1 label.sk-toggleable__label-arrow:before {content: \"▸\";float: left;margin-right: 0.25em;color: #696969;}#sk-container-id-1 label.sk-toggleable__label-arrow:hover:before {color: black;}#sk-container-id-1 div.sk-estimator:hover label.sk-toggleable__label-arrow:before {color: black;}#sk-container-id-1 div.sk-toggleable__content {max-height: 0;max-width: 0;overflow: hidden;text-align: left;background-color: #f0f8ff;}#sk-container-id-1 div.sk-toggleable__content pre {margin: 0.2em;color: black;border-radius: 0.25em;background-color: #f0f8ff;}#sk-container-id-1 input.sk-toggleable__control:checked~div.sk-toggleable__content {max-height: 200px;max-width: 100%;overflow: auto;}#sk-container-id-1 input.sk-toggleable__control:checked~label.sk-toggleable__label-arrow:before {content: \"▾\";}#sk-container-id-1 div.sk-estimator input.sk-toggleable__control:checked~label.sk-toggleable__label {background-color: #d4ebff;}#sk-container-id-1 div.sk-label input.sk-toggleable__control:checked~label.sk-toggleable__label {background-color: #d4ebff;}#sk-container-id-1 input.sk-hidden--visually {border: 0;clip: rect(1px 1px 1px 1px);clip: rect(1px, 1px, 1px, 1px);height: 1px;margin: -1px;overflow: hidden;padding: 0;position: absolute;width: 1px;}#sk-container-id-1 div.sk-estimator {font-family: monospace;background-color: #f0f8ff;border: 1px dotted black;border-radius: 0.25em;box-sizing: border-box;margin-bottom: 0.5em;}#sk-container-id-1 div.sk-estimator:hover {background-color: #d4ebff;}#sk-container-id-1 div.sk-parallel-item::after {content: \"\";width: 100%;border-bottom: 1px solid gray;flex-grow: 1;}#sk-container-id-1 div.sk-label:hover label.sk-toggleable__label {background-color: #d4ebff;}#sk-container-id-1 div.sk-serial::before {content: \"\";position: absolute;border-left: 1px solid gray;box-sizing: border-box;top: 0;bottom: 0;left: 50%;z-index: 0;}#sk-container-id-1 div.sk-serial {display: flex;flex-direction: column;align-items: center;background-color: white;padding-right: 0.2em;padding-left: 0.2em;position: relative;}#sk-container-id-1 div.sk-item {position: relative;z-index: 1;}#sk-container-id-1 div.sk-parallel {display: flex;align-items: stretch;justify-content: center;background-color: white;position: relative;}#sk-container-id-1 div.sk-item::before, #sk-container-id-1 div.sk-parallel-item::before {content: \"\";position: absolute;border-left: 1px solid gray;box-sizing: border-box;top: 0;bottom: 0;left: 50%;z-index: -1;}#sk-container-id-1 div.sk-parallel-item {display: flex;flex-direction: column;z-index: 1;position: relative;background-color: white;}#sk-container-id-1 div.sk-parallel-item:first-child::after {align-self: flex-end;width: 50%;}#sk-container-id-1 div.sk-parallel-item:last-child::after {align-self: flex-start;width: 50%;}#sk-container-id-1 div.sk-parallel-item:only-child::after {width: 0;}#sk-container-id-1 div.sk-dashed-wrapped {border: 1px dashed gray;margin: 0 0.4em 0.5em 0.4em;box-sizing: border-box;padding-bottom: 0.4em;background-color: white;}#sk-container-id-1 div.sk-label label {font-family: monospace;font-weight: bold;display: inline-block;line-height: 1.2em;}#sk-container-id-1 div.sk-label-container {text-align: center;}#sk-container-id-1 div.sk-container {/* jupyter's `normalize.less` sets `[hidden] { display: none; }` but bootstrap.min.css set `[hidden] { display: none !important; }` so we also need the `!important` here to be able to override the default hidden behavior on the sphinx rendered scikit-learn.org. See: https://github.com/scikit-learn/scikit-learn/issues/21755 */display: inline-block !important;position: relative;}#sk-container-id-1 div.sk-text-repr-fallback {display: none;}</style><div id=\"sk-container-id-1\" class=\"sk-top-container\"><div class=\"sk-text-repr-fallback\"><pre>LogisticRegression()</pre><b>In a Jupyter environment, please rerun this cell to show the HTML representation or trust the notebook. <br />On GitHub, the HTML representation is unable to render, please try loading this page with nbviewer.org.</b></div><div class=\"sk-container\" hidden><div class=\"sk-item\"><div class=\"sk-estimator sk-toggleable\"><input class=\"sk-toggleable__control sk-hidden--visually\" id=\"sk-estimator-id-1\" type=\"checkbox\" checked><label for=\"sk-estimator-id-1\" class=\"sk-toggleable__label sk-toggleable__label-arrow\">LogisticRegression</label><div class=\"sk-toggleable__content\"><pre>LogisticRegression()</pre></div></div></div></div></div>"
            ]
          },
          "metadata": {},
          "execution_count": 121
        }
      ]
    },
    {
      "cell_type": "code",
      "source": [
        "len(X_test)"
      ],
      "metadata": {
        "colab": {
          "base_uri": "https://localhost:8080/"
        },
        "id": "8NwGw7Z9mpfw",
        "outputId": "9a939a7c-7123-43dc-f378-ac96e61ea8ca"
      },
      "execution_count": 122,
      "outputs": [
        {
          "output_type": "execute_result",
          "data": {
            "text/plain": [
              "1857"
            ]
          },
          "metadata": {},
          "execution_count": 122
        }
      ]
    },
    {
      "cell_type": "code",
      "source": [
        "y_pred = model.predict(X_test)\n",
        "accuracy = accuracy_score(Y_test, y_pred)\n",
        "print(f'Precisión del modelo: {accuracy}')"
      ],
      "metadata": {
        "colab": {
          "base_uri": "https://localhost:8080/"
        },
        "id": "cp2gylmdnDp9",
        "outputId": "b80ea1b6-95a7-4d8d-fb13-ecd765931306"
      },
      "execution_count": 123,
      "outputs": [
        {
          "output_type": "stream",
          "name": "stdout",
          "text": [
            "Precisión del modelo: 0.9316101238556812\n"
          ]
        }
      ]
    },
    {
      "cell_type": "code",
      "source": [
        "y_pred = model.predict(X_test)\n",
        "\n",
        "print(\"Accuracy:\", accuracy_score(Y_test, y_pred))\n",
        "print(\"Confusion Matrix:\\n\", confusion_matrix(Y_test, y_pred))\n",
        "print(\"Classification Report:\\n\", classification_report(Y_test, y_pred))"
      ],
      "metadata": {
        "colab": {
          "base_uri": "https://localhost:8080/"
        },
        "id": "IUFRcNR1mP1x",
        "outputId": "18bcc3fc-f1ee-43b2-ff37-5c0bd7b45549"
      },
      "execution_count": 124,
      "outputs": [
        {
          "output_type": "stream",
          "name": "stdout",
          "text": [
            "Accuracy: 0.9316101238556812\n",
            "Confusion Matrix:\n",
            " [[1721    0]\n",
            " [ 127    9]]\n",
            "Classification Report:\n",
            "               precision    recall  f1-score   support\n",
            "\n",
            "           0       0.93      1.00      0.96      1721\n",
            "           1       1.00      0.07      0.12       136\n",
            "\n",
            "    accuracy                           0.93      1857\n",
            "   macro avg       0.97      0.53      0.54      1857\n",
            "weighted avg       0.94      0.93      0.90      1857\n",
            "\n"
          ]
        }
      ]
    },
    {
      "cell_type": "code",
      "source": [
        "model.score(X,Y).round(3)\n",
        "predictions = model.predict(X_test)"
      ],
      "metadata": {
        "id": "nRyLPrHfB_R-"
      },
      "execution_count": 125,
      "outputs": []
    },
    {
      "cell_type": "code",
      "source": [
        "c_matrix = confusion_matrix(Y_test, predictions)"
      ],
      "metadata": {
        "id": "4kzdfAz9CkUq"
      },
      "execution_count": 126,
      "outputs": []
    },
    {
      "cell_type": "code",
      "source": [
        "palette= sns.color_palette(\"dark:#5A9_r\", as_cmap=True)\n",
        "plt.figure(figsize = (6,4))\n",
        "sns.heatmap(c_matrix, annot = True, fmt = \"d\", cmap = palette, vmin = 0, vmax = 2000)"
      ],
      "metadata": {
        "colab": {
          "base_uri": "https://localhost:8080/",
          "height": 392
        },
        "id": "5_VFqC90C2ba",
        "outputId": "613cb535-fdc7-448f-c637-e1a6f53d1854"
      },
      "execution_count": 127,
      "outputs": [
        {
          "output_type": "execute_result",
          "data": {
            "text/plain": [
              "<Axes: >"
            ]
          },
          "metadata": {},
          "execution_count": 127
        },
        {
          "output_type": "display_data",
          "data": {
            "text/plain": [
              "<Figure size 600x400 with 2 Axes>"
            ],
            "image/png": "[encoded data removed]"
          },
          "metadata": {}
        }
      ]
    },
    {
      "cell_type": "markdown",
      "source": [
        "###*Random Forest*"
      ],
      "metadata": {
        "id": "OvZh2btHN7EY"
      }
    },
    {
      "cell_type": "code",
      "source": [
        "from sklearn.ensemble import RandomForestClassifier\n",
        "from sklearn.metrics import accuracy_score"
      ],
      "metadata": {
        "id": "azHDOXXjNwGj"
      },
      "execution_count": 128,
      "outputs": []
    },
    {
      "cell_type": "code",
      "source": [
        "# Crear y entrenar el modelo de Random Forest\n",
        "model_rf = RandomForestClassifier(n_estimators=100, random_state=0)\n",
        "model_rf.fit(X_train, Y_train)"
      ],
      "metadata": {
        "colab": {
          "base_uri": "https://localhost:8080/",
          "height": 75
        },
        "id": "S-8nj6qPNfvQ",
        "outputId": "1f4c98ef-985f-4f57-8826-8983e4d005e2"
      },
      "execution_count": 140,
      "outputs": [
        {
          "output_type": "execute_result",
          "data": {
            "text/plain": [
              "RandomForestClassifier(random_state=0)"
            ],
            "text/html": [
              "<style>#sk-container-id-4 {color: black;background-color: white;}#sk-container-id-4 pre{padding: 0;}#sk-container-id-4 div.sk-toggleable {background-color: white;}#sk-container-id-4 label.sk-toggleable__label {cursor: pointer;display: block;width: 100%;margin-bottom: 0;padding: 0.3em;box-sizing: border-box;text-align: center;}#sk-container-id-4 label.sk-toggleable__label-arrow:before {content: \"▸\";float: left;margin-right: 0.25em;color: #696969;}#sk-container-id-4 label.sk-toggleable__label-arrow:hover:before {color: black;}#sk-container-id-4 div.sk-estimator:hover label.sk-toggleable__label-arrow:before {color: black;}#sk-container-id-4 div.sk-toggleable__content {max-height: 0;max-width: 0;overflow: hidden;text-align: left;background-color: #f0f8ff;}#sk-container-id-4 div.sk-toggleable__content pre {margin: 0.2em;color: black;border-radius: 0.25em;background-color: #f0f8ff;}#sk-container-id-4 input.sk-toggleable__control:checked~div.sk-toggleable__content {max-height: 200px;max-width: 100%;overflow: auto;}#sk-container-id-4 input.sk-toggleable__control:checked~label.sk-toggleable__label-arrow:before {content: \"▾\";}#sk-container-id-4 div.sk-estimator input.sk-toggleable__control:checked~label.sk-toggleable__label {background-color: #d4ebff;}#sk-container-id-4 div.sk-label input.sk-toggleable__control:checked~label.sk-toggleable__label {background-color: #d4ebff;}#sk-container-id-4 input.sk-hidden--visually {border: 0;clip: rect(1px 1px 1px 1px);clip: rect(1px, 1px, 1px, 1px);height: 1px;margin: -1px;overflow: hidden;padding: 0;position: absolute;width: 1px;}#sk-container-id-4 div.sk-estimator {font-family: monospace;background-color: #f0f8ff;border: 1px dotted black;border-radius: 0.25em;box-sizing: border-box;margin-bottom: 0.5em;}#sk-container-id-4 div.sk-estimator:hover {background-color: #d4ebff;}#sk-container-id-4 div.sk-parallel-item::after {content: \"\";width: 100%;border-bottom: 1px solid gray;flex-grow: 1;}#sk-container-id-4 div.sk-label:hover label.sk-toggleable__label {background-color: #d4ebff;}#sk-container-id-4 div.sk-serial::before {content: \"\";position: absolute;border-left: 1px solid gray;box-sizing: border-box;top: 0;bottom: 0;left: 50%;z-index: 0;}#sk-container-id-4 div.sk-serial {display: flex;flex-direction: column;align-items: center;background-color: white;padding-right: 0.2em;padding-left: 0.2em;position: relative;}#sk-container-id-4 div.sk-item {position: relative;z-index: 1;}#sk-container-id-4 div.sk-parallel {display: flex;align-items: stretch;justify-content: center;background-color: white;position: relative;}#sk-container-id-4 div.sk-item::before, #sk-container-id-4 div.sk-parallel-item::before {content: \"\";position: absolute;border-left: 1px solid gray;box-sizing: border-box;top: 0;bottom: 0;left: 50%;z-index: -1;}#sk-container-id-4 div.sk-parallel-item {display: flex;flex-direction: column;z-index: 1;position: relative;background-color: white;}#sk-container-id-4 div.sk-parallel-item:first-child::after {align-self: flex-end;width: 50%;}#sk-container-id-4 div.sk-parallel-item:last-child::after {align-self: flex-start;width: 50%;}#sk-container-id-4 div.sk-parallel-item:only-child::after {width: 0;}#sk-container-id-4 div.sk-dashed-wrapped {border: 1px dashed gray;margin: 0 0.4em 0.5em 0.4em;box-sizing: border-box;padding-bottom: 0.4em;background-color: white;}#sk-container-id-4 div.sk-label label {font-family: monospace;font-weight: bold;display: inline-block;line-height: 1.2em;}#sk-container-id-4 div.sk-label-container {text-align: center;}#sk-container-id-4 div.sk-container {/* jupyter's `normalize.less` sets `[hidden] { display: none; }` but bootstrap.min.css set `[hidden] { display: none !important; }` so we also need the `!important` here to be able to override the default hidden behavior on the sphinx rendered scikit-learn.org. See: https://github.com/scikit-learn/scikit-learn/issues/21755 */display: inline-block !important;position: relative;}#sk-container-id-4 div.sk-text-repr-fallback {display: none;}</style><div id=\"sk-container-id-4\" class=\"sk-top-container\"><div class=\"sk-text-repr-fallback\"><pre>RandomForestClassifier(random_state=0)</pre><b>In a Jupyter environment, please rerun this cell to show the HTML representation or trust the notebook. <br />On GitHub, the HTML representation is unable to render, please try loading this page with nbviewer.org.</b></div><div class=\"sk-container\" hidden><div class=\"sk-item\"><div class=\"sk-estimator sk-toggleable\"><input class=\"sk-toggleable__control sk-hidden--visually\" id=\"sk-estimator-id-4\" type=\"checkbox\" checked><label for=\"sk-estimator-id-4\" class=\"sk-toggleable__label sk-toggleable__label-arrow\">RandomForestClassifier</label><div class=\"sk-toggleable__content\"><pre>RandomForestClassifier(random_state=0)</pre></div></div></div></div></div>"
            ]
          },
          "metadata": {},
          "execution_count": 140
        }
      ]
    },
    {
      "cell_type": "code",
      "source": [
        "#predicciones y evaluar el modelo\n",
        "y_pred_rf = model_rf.predict(X_test)\n",
        "accuracy_rf = accuracy_score(Y_test, y_pred_rf)\n",
        "print(f'Precisión del modelo Random Forest: {accuracy_rf}')"
      ],
      "metadata": {
        "colab": {
          "base_uri": "https://localhost:8080/"
        },
        "id": "d5z_qBT7OAAB",
        "outputId": "7646ce51-ab79-477b-e048-6020b93a4e67"
      },
      "execution_count": 141,
      "outputs": [
        {
          "output_type": "stream",
          "name": "stdout",
          "text": [
            "Precisión del modelo Random Forest: 0.9251480883144857\n"
          ]
        }
      ]
    },
    {
      "cell_type": "code",
      "source": [
        "print(\"Accuracy:\", accuracy_score(Y_test, y_pred_rf))\n",
        "print(\"Confusion Matrix:\\n\", confusion_matrix(Y_test, y_pred_rf))\n",
        "print(\"Classification Report:\\n\", classification_report(Y_test, y_pred_rf))"
      ],
      "metadata": {
        "colab": {
          "base_uri": "https://localhost:8080/"
        },
        "id": "zigpuBOAe5KC",
        "outputId": "574535e0-5235-4300-9525-b74f02105875"
      },
      "execution_count": 142,
      "outputs": [
        {
          "output_type": "stream",
          "name": "stdout",
          "text": [
            "Accuracy: 0.9251480883144857\n",
            "Confusion Matrix:\n",
            " [[1712    9]\n",
            " [ 130    6]]\n",
            "Classification Report:\n",
            "               precision    recall  f1-score   support\n",
            "\n",
            "           0       0.93      0.99      0.96      1721\n",
            "           1       0.40      0.04      0.08       136\n",
            "\n",
            "    accuracy                           0.93      1857\n",
            "   macro avg       0.66      0.52      0.52      1857\n",
            "weighted avg       0.89      0.93      0.90      1857\n",
            "\n"
          ]
        }
      ]
    },
    {
      "cell_type": "code",
      "source": [
        "from sklearn.metrics import confusion_matrix, ConfusionMatrixDisplay\n",
        "from sklearn.model_selection import train_test_split\n",
        "from sklearn.model_selection import validation_curve"
      ],
      "metadata": {
        "id": "ZUR9N5OqRk52"
      },
      "execution_count": 153,
      "outputs": []
    },
    {
      "cell_type": "code",
      "source": [
        "#Calcular la matriz de confusion\n",
        "#Class name donde 0: fatalidad no y 1: fatalidad si\n",
        "cm = confusion_matrix(Y_test, y_pred_rf)\n",
        "class_names = ['0', '1']\n",
        "cmd = ConfusionMatrixDisplay(cm, display_labels=class_names)"
      ],
      "metadata": {
        "id": "o_ulkVSCZH5B"
      },
      "execution_count": 144,
      "outputs": []
    },
    {
      "cell_type": "code",
      "source": [
        "# Visualizar la matriz de confusión\n",
        "plt.figure(figsize=(6, 4))\n",
        "palette= sns.color_palette(\"light:#5A9\", as_cmap=True)\n",
        "sns.heatmap(cm, annot=True, fmt='d', cmap= palette, xticklabels=class_names, yticklabels=class_names, vmin = 0, vmax = 2000)\n",
        "plt.xlabel('Actual')\n",
        "plt.ylabel('Predicted')\n",
        "plt.title('Confusion Matrix')\n",
        "plt.show()"
      ],
      "metadata": {
        "colab": {
          "base_uri": "https://localhost:8080/",
          "height": 410
        },
        "id": "9zqRUtM6adTd",
        "outputId": "7d192366-a569-4e5c-806a-b474e98b04fc"
      },
      "execution_count": 145,
      "outputs": [
        {
          "output_type": "display_data",
          "data": {
            "text/plain": [
              "<Figure size 600x400 with 2 Axes>"
            ],
            "image/png": "[encoded data removed]"
          },
          "metadata": {}
        }
      ]
    },
    {
      "cell_type": "code",
      "source": [
        "#librerias metricas\n",
        "from sklearn.metrics import accuracy_score, precision_score, recall_score, f1_score, confusion_matrix, roc_auc_score, roc_curve, ConfusionMatrixDisplay, RocCurveDisplay\n",
        "from sklearn.model_selection import learning_curve"
      ],
      "metadata": {
        "id": "VXT3oWtRlCUm"
      },
      "execution_count": 146,
      "outputs": []
    },
    {
      "cell_type": "code",
      "source": [
        "#Predicciones\n",
        "y_pred_rf = model.predict(X_test)\n",
        "y_prob = model.predict_proba(X_test)"
      ],
      "metadata": {
        "id": "4ae20p02lQsl"
      },
      "execution_count": 147,
      "outputs": []
    },
    {
      "cell_type": "code",
      "source": [
        "# Métricas de evaluación\n",
        "accuracy = accuracy_score(Y_test, y_pred_rf)\n",
        "precision = precision_score(Y_test, y_pred_rf, average='macro')\n",
        "recall = recall_score(Y_test, y_pred_rf, average='macro')\n",
        "f1 = f1_score(Y_test, y_pred_rf, average='macro')\n",
        "cm = confusion_matrix(Y_test, y_pred_rf)\n",
        "\n",
        "print(f\"Accuracy: {accuracy}\")\n",
        "print(f\"Precision: {precision}\")\n",
        "print(f\"Recall: {recall}\")\n",
        "print(f\"F1 Score: {f1}\")"
      ],
      "metadata": {
        "colab": {
          "base_uri": "https://localhost:8080/"
        },
        "id": "8z-Rdbv1liSH",
        "outputId": "cdaa97b2-0832-4c3e-f4e6-b748c013f1be"
      },
      "execution_count": 148,
      "outputs": [
        {
          "output_type": "stream",
          "name": "stdout",
          "text": [
            "Accuracy: 0.9316101238556812\n",
            "Precision: 0.9656385281385281\n",
            "Recall: 0.5330882352941176\n",
            "F1 Score: 0.544276866890175\n"
          ]
        }
      ]
    },
    {
      "cell_type": "code",
      "source": [
        "# Curva ROC y AUC\n",
        "plt.figure(figsize=(4,4))\n",
        "if len(class_names) == 2:\n",
        "    fpr, tpr, _ = roc_curve(Y_test, y_prob[:, 1])\n",
        "    roc_auc = roc_auc_score(Y_test, y_prob[:, 1])\n",
        "    RocCurveDisplay(fpr=fpr, tpr=tpr, roc_auc=roc_auc, estimator_name='Random Forest').plot(color=\"darkseagreen\")\n",
        "    plt.title('ROC Curve')\n",
        "    plt.show()"
      ],
      "metadata": {
        "colab": {
          "base_uri": "https://localhost:8080/",
          "height": 490
        },
        "id": "YfP-mrzEnfxG",
        "outputId": "75c6e73b-2cef-4ec7-ca48-d85e867bfbe1"
      },
      "execution_count": 149,
      "outputs": [
        {
          "output_type": "display_data",
          "data": {
            "text/plain": [
              "<Figure size 400x400 with 0 Axes>"
            ]
          },
          "metadata": {}
        },
        {
          "output_type": "display_data",
          "data": {
            "text/plain": [
              "<Figure size 640x480 with 1 Axes>"
            ],
            "image/png": "[encoded data removed]"
          },
          "metadata": {}
        }
      ]
    },
    {
      "cell_type": "code",
      "source": [
        "# Obtener curvas de aprendizaje\n",
        "train_sizes, train_scores, test_scores = learning_curve(model, X, Y, cv=5, n_jobs=-1, train_sizes=np.linspace(0.1, 1.0, 10))\n",
        "\n",
        "# Calcular medias y desviaciones estándar\n",
        "train_scores_mean = np.mean(train_scores, axis=1)\n",
        "train_scores_std = np.std(train_scores, axis=1)\n",
        "test_scores_mean = np.mean(test_scores, axis=1)\n",
        "test_scores_std = np.std(test_scores, axis=1)"
      ],
      "metadata": {
        "id": "snh5KM9eExDu"
      },
      "execution_count": 150,
      "outputs": []
    },
    {
      "cell_type": "code",
      "source": [
        "#grafico\n",
        "plt.figure(figsize=(5,4))\n",
        "plt.title(\"Curva de Aprendizaje\")\n",
        "plt.xlabel(\"Tamaño del conjunto de entrenamiento\")\n",
        "plt.ylabel(\"Precisión\")\n",
        "plt.grid()\n",
        "\n",
        "# Área sombreada para la desviación estándar\n",
        "plt.fill_between(train_sizes, train_scores_mean - train_scores_std, train_scores_mean + train_scores_std, alpha=0.1, color=\"darkseagreen\")\n",
        "plt.fill_between(train_sizes, test_scores_mean - test_scores_std, test_scores_mean + test_scores_std, alpha=0.1, color=\"g\")\n",
        "\n",
        "# Promedio de precision\n",
        "plt.plot(train_sizes, train_scores_mean, 'o-', color=\"darkseagreen\", label=\"Precisión en el entrenamiento\")\n",
        "plt.plot(train_sizes, test_scores_mean, 'o-', color=\"g\", label=\"Precisión en la validación\")\n",
        "\n",
        "plt.legend(loc=\"best\")\n",
        "plt.show()"
      ],
      "metadata": {
        "colab": {
          "base_uri": "https://localhost:8080/",
          "height": 410
        },
        "id": "8AoNt_iUFHzb",
        "outputId": "1a7b7583-8359-4d61-fb10-0fcd6311f492"
      },
      "execution_count": 151,
      "outputs": [
        {
          "output_type": "display_data",
          "data": {
            "text/plain": [
              "<Figure size 500x400 with 1 Axes>"
            ],
            "image/png": "[encoded data removed]"
          },
          "metadata": {}
        }
      ]
    },
    {
      "cell_type": "code",
      "source": [
        "# Grafico curva de validación\n",
        "plt.figure(figsize=(5,4))\n",
        "plt.title(\"Curva de Validación\")\n",
        "plt.xlabel(\"Max Depth\")\n",
        "plt.ylabel(\"Precisión\")\n",
        "plt.grid()\n",
        "\n",
        "param_range = np.arange(2, 12)\n",
        "\n",
        "# Área sombreada para la desviación estándar\n",
        "plt.fill_between(param_range, train_scores_mean - train_scores_std, train_scores_mean + train_scores_std, alpha=0.1, color=\"darkseagreen\")\n",
        "plt.fill_between(param_range, test_scores_mean - test_scores_std, test_scores_mean + test_scores_std, alpha=0.1, color=\"g\")\n",
        "\n",
        "# Promedio de las precisiones\n",
        "plt.plot(param_range, train_scores_mean, 'o-', color=\"darkseagreen\", label=\"Precisión en el entrenamiento\")\n",
        "plt.plot(param_range, test_scores_mean, 'o-', color=\"g\", label=\"Precisión en la validación\")\n",
        "\n",
        "plt.legend(loc=\"best\")\n",
        "plt.show()"
      ],
      "metadata": {
        "colab": {
          "base_uri": "https://localhost:8080/",
          "height": 410
        },
        "id": "t0sDdkZFF6_N",
        "outputId": "474c3dc1-5907-44c4-a814-f4c82719461c"
      },
      "execution_count": 157,
      "outputs": [
        {
          "output_type": "display_data",
          "data": {
            "text/plain": [
              "<Figure size 500x400 with 1 Axes>"
            ],
            "image/png": "[encoded data removed]"
          },
          "metadata": {}
        }
      ]
    },
    {
      "cell_type": "markdown",
      "source": [
        "### *KNN*"
      ],
      "metadata": {
        "id": "goM3KaWFavQC"
      }
    },
    {
      "cell_type": "code",
      "source": [
        "from sklearn.preprocessing import StandardScaler\n",
        "from sklearn.neighbors import KNeighborsClassifier"
      ],
      "metadata": {
        "id": "q9z9Ugscc0wd"
      },
      "execution_count": 158,
      "outputs": []
    },
    {
      "cell_type": "code",
      "source": [
        "# Dividir el conjunto de datos en conjunto de entrenamiento y conjunto de prueba\n",
        "X_train, X_test, Y_train, Y_test = train_test_split(X, Y, test_size=0.3, random_state=42)"
      ],
      "metadata": {
        "id": "HaEMMdHCtJi5"
      },
      "execution_count": 159,
      "outputs": []
    },
    {
      "cell_type": "code",
      "source": [
        "# Estandarizar las variables\n",
        "scaler = StandardScaler()\n",
        "X_train = scaler.fit_transform(X_train)\n",
        "X_test = scaler.transform(X_test)"
      ],
      "metadata": {
        "id": "sac7oXsKccFR"
      },
      "execution_count": 160,
      "outputs": []
    },
    {
      "cell_type": "code",
      "source": [
        "# Creo el modelo KNN\n",
        "knn = KNeighborsClassifier(n_neighbors=5)\n",
        "# Entreno el modelo\n",
        "knn.fit(X_train, Y_train)"
      ],
      "metadata": {
        "colab": {
          "base_uri": "https://localhost:8080/",
          "height": 75
        },
        "id": "mmyykitac7GK",
        "outputId": "298f2e2d-4efb-4fe4-ae65-b5ad97dfd861"
      },
      "execution_count": 161,
      "outputs": [
        {
          "output_type": "execute_result",
          "data": {
            "text/plain": [
              "KNeighborsClassifier()"
            ],
            "text/html": [
              "<style>#sk-container-id-5 {color: black;background-color: white;}#sk-container-id-5 pre{padding: 0;}#sk-container-id-5 div.sk-toggleable {background-color: white;}#sk-container-id-5 label.sk-toggleable__label {cursor: pointer;display: block;width: 100%;margin-bottom: 0;padding: 0.3em;box-sizing: border-box;text-align: center;}#sk-container-id-5 label.sk-toggleable__label-arrow:before {content: \"▸\";float: left;margin-right: 0.25em;color: #696969;}#sk-container-id-5 label.sk-toggleable__label-arrow:hover:before {color: black;}#sk-container-id-5 div.sk-estimator:hover label.sk-toggleable__label-arrow:before {color: black;}#sk-container-id-5 div.sk-toggleable__content {max-height: 0;max-width: 0;overflow: hidden;text-align: left;background-color: #f0f8ff;}#sk-container-id-5 div.sk-toggleable__content pre {margin: 0.2em;color: black;border-radius: 0.25em;background-color: #f0f8ff;}#sk-container-id-5 input.sk-toggleable__control:checked~div.sk-toggleable__content {max-height: 200px;max-width: 100%;overflow: auto;}#sk-container-id-5 input.sk-toggleable__control:checked~label.sk-toggleable__label-arrow:before {content: \"▾\";}#sk-container-id-5 div.sk-estimator input.sk-toggleable__control:checked~label.sk-toggleable__label {background-color: #d4ebff;}#sk-container-id-5 div.sk-label input.sk-toggleable__control:checked~label.sk-toggleable__label {background-color: #d4ebff;}#sk-container-id-5 input.sk-hidden--visually {border: 0;clip: rect(1px 1px 1px 1px);clip: rect(1px, 1px, 1px, 1px);height: 1px;margin: -1px;overflow: hidden;padding: 0;position: absolute;width: 1px;}#sk-container-id-5 div.sk-estimator {font-family: monospace;background-color: #f0f8ff;border: 1px dotted black;border-radius: 0.25em;box-sizing: border-box;margin-bottom: 0.5em;}#sk-container-id-5 div.sk-estimator:hover {background-color: #d4ebff;}#sk-container-id-5 div.sk-parallel-item::after {content: \"\";width: 100%;border-bottom: 1px solid gray;flex-grow: 1;}#sk-container-id-5 div.sk-label:hover label.sk-toggleable__label {background-color: #d4ebff;}#sk-container-id-5 div.sk-serial::before {content: \"\";position: absolute;border-left: 1px solid gray;box-sizing: border-box;top: 0;bottom: 0;left: 50%;z-index: 0;}#sk-container-id-5 div.sk-serial {display: flex;flex-direction: column;align-items: center;background-color: white;padding-right: 0.2em;padding-left: 0.2em;position: relative;}#sk-container-id-5 div.sk-item {position: relative;z-index: 1;}#sk-container-id-5 div.sk-parallel {display: flex;align-items: stretch;justify-content: center;background-color: white;position: relative;}#sk-container-id-5 div.sk-item::before, #sk-container-id-5 div.sk-parallel-item::before {content: \"\";position: absolute;border-left: 1px solid gray;box-sizing: border-box;top: 0;bottom: 0;left: 50%;z-index: -1;}#sk-container-id-5 div.sk-parallel-item {display: flex;flex-direction: column;z-index: 1;position: relative;background-color: white;}#sk-container-id-5 div.sk-parallel-item:first-child::after {align-self: flex-end;width: 50%;}#sk-container-id-5 div.sk-parallel-item:last-child::after {align-self: flex-start;width: 50%;}#sk-container-id-5 div.sk-parallel-item:only-child::after {width: 0;}#sk-container-id-5 div.sk-dashed-wrapped {border: 1px dashed gray;margin: 0 0.4em 0.5em 0.4em;box-sizing: border-box;padding-bottom: 0.4em;background-color: white;}#sk-container-id-5 div.sk-label label {font-family: monospace;font-weight: bold;display: inline-block;line-height: 1.2em;}#sk-container-id-5 div.sk-label-container {text-align: center;}#sk-container-id-5 div.sk-container {/* jupyter's `normalize.less` sets `[hidden] { display: none; }` but bootstrap.min.css set `[hidden] { display: none !important; }` so we also need the `!important` here to be able to override the default hidden behavior on the sphinx rendered scikit-learn.org. See: https://github.com/scikit-learn/scikit-learn/issues/21755 */display: inline-block !important;position: relative;}#sk-container-id-5 div.sk-text-repr-fallback {display: none;}</style><div id=\"sk-container-id-5\" class=\"sk-top-container\"><div class=\"sk-text-repr-fallback\"><pre>KNeighborsClassifier()</pre><b>In a Jupyter environment, please rerun this cell to show the HTML representation or trust the notebook. <br />On GitHub, the HTML representation is unable to render, please try loading this page with nbviewer.org.</b></div><div class=\"sk-container\" hidden><div class=\"sk-item\"><div class=\"sk-estimator sk-toggleable\"><input class=\"sk-toggleable__control sk-hidden--visually\" id=\"sk-estimator-id-5\" type=\"checkbox\" checked><label for=\"sk-estimator-id-5\" class=\"sk-toggleable__label sk-toggleable__label-arrow\">KNeighborsClassifier</label><div class=\"sk-toggleable__content\"><pre>KNeighborsClassifier()</pre></div></div></div></div></div>"
            ]
          },
          "metadata": {},
          "execution_count": 161
        }
      ]
    },
    {
      "cell_type": "code",
      "source": [
        "#Prediccion\n",
        "y_pred_knn = knn.predict(X_test)"
      ],
      "metadata": {
        "id": "tT9n1bj8dFnL"
      },
      "execution_count": 162,
      "outputs": []
    },
    {
      "cell_type": "code",
      "source": [
        "accuracy = accuracy_score(Y_test, y_pred_knn)\n",
        "print(f\"Accuracy: {accuracy:.2f}\")"
      ],
      "metadata": {
        "colab": {
          "base_uri": "https://localhost:8080/"
        },
        "id": "L3yEPkgKdQtt",
        "outputId": "eff115bc-61d0-4916-ba26-928b3ce700d3"
      },
      "execution_count": 163,
      "outputs": [
        {
          "output_type": "stream",
          "name": "stdout",
          "text": [
            "Accuracy: 0.92\n"
          ]
        }
      ]
    },
    {
      "cell_type": "code",
      "source": [
        "conf_matrix = confusion_matrix(Y_test, y_pred_knn)\n",
        "print(\"Confusion Matrix:\")\n",
        "print(conf_matrix)"
      ],
      "metadata": {
        "colab": {
          "base_uri": "https://localhost:8080/"
        },
        "id": "QePfOPCid5Z6",
        "outputId": "542ac941-8faa-4ef1-955d-2140d14a4c2d"
      },
      "execution_count": 164,
      "outputs": [
        {
          "output_type": "stream",
          "name": "stdout",
          "text": [
            "Confusion Matrix:\n",
            "[[1697   24]\n",
            " [ 133    3]]\n"
          ]
        }
      ]
    },
    {
      "cell_type": "code",
      "source": [
        "class_report = classification_report(Y_test, y_pred_knn, target_names=class_names)\n",
        "print(\"Classification Report:\")\n",
        "print(class_report)"
      ],
      "metadata": {
        "colab": {
          "base_uri": "https://localhost:8080/"
        },
        "id": "Nsg47LMTeDgV",
        "outputId": "b2659c16-dd5c-4e5f-f264-ca26e1b481c5"
      },
      "execution_count": 165,
      "outputs": [
        {
          "output_type": "stream",
          "name": "stdout",
          "text": [
            "Classification Report:\n",
            "              precision    recall  f1-score   support\n",
            "\n",
            "           0       0.93      0.99      0.96      1721\n",
            "           1       0.11      0.02      0.04       136\n",
            "\n",
            "    accuracy                           0.92      1857\n",
            "   macro avg       0.52      0.50      0.50      1857\n",
            "weighted avg       0.87      0.92      0.89      1857\n",
            "\n"
          ]
        }
      ]
    },
    {
      "cell_type": "code",
      "source": [
        "plt.figure(figsize=(6, 4))\n",
        "palette= sns.color_palette(\"dark:#5A9_r\", as_cmap=True)\n",
        "sns.heatmap(conf_matrix, annot=True, fmt='d', cmap=palette , xticklabels=class_names, yticklabels=class_names)\n",
        "plt.xlabel('Actual')\n",
        "plt.ylabel('Predicted')\n",
        "plt.title('Confusion Matrix')\n",
        "plt.show()"
      ],
      "metadata": {
        "colab": {
          "base_uri": "https://localhost:8080/",
          "height": 410
        },
        "id": "PfbycE_-hWTz",
        "outputId": "327ba4c2-edd9-4f91-955e-0ed13c453714"
      },
      "execution_count": 166,
      "outputs": [
        {
          "output_type": "display_data",
          "data": {
            "text/plain": [
              "<Figure size 600x400 with 2 Axes>"
            ],
            "image/png": "[encoded data removed]"
          },
          "metadata": {}
        }
      ]
    },
    {
      "cell_type": "markdown",
      "source": [
        "## 07- Conclusiones"
      ],
      "metadata": {
        "id": "6aWdPOGkKO5z"
      }
    },
    {
      "cell_type": "markdown",
      "source": [
        "Algunas observaciones tras la realización de modelos de ML:\n",
        "\n",
        "\n",
        "* En las visualizaciones de la curva de validación y la curva de aprendizaje mostraron que, la precisión de la validación es de un 92.5% aproximadamente la cual nos aporta información sobre los hiperparámetros y la precisión del entrenamiento empieza en un 94-94.5% y luego cae a un 92.5%, por lo que esta sobre ajustando en un pequeño porcentaje.\n",
        "\n",
        "* Otra observación valiosa que se hace es que en la curva ROC dio un buen resultado dando un AUC del 91% , lo cual nos dice que el modelo responde bien.\n",
        "\n",
        "* Por otro lado, la matriz de confusión revelo que el grado de falsos positivos sube significativamente según el modelo, en regresión logística y random forest es de 0 y 9 y en KNN de un 24. Como así también, los falsos negativos en todos los modelos dan valores de entre 127 y 133 aproximadamente, dejándonos con un F1 score del 0.53%.\n",
        "\n",
        "*Lo cual concluye que la cantidad de falsos negativos obtenidos es significativamente alta, por lo tanto es un error, lo cual nos lleva a implicancias mayores ya que el modelo predice que no va a ocurrir y en realidad ocurre el accidente.*\n"
      ],
      "metadata": {
        "id": "uYh7kO3fKcei"
      }
    }
  ]
}